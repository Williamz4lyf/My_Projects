{
 "cells": [
  {
   "cell_type": "markdown",
   "source": [
    "# Predicting Customer Churn"
   ],
   "metadata": {
    "collapsed": false
   }
  },
  {
   "cell_type": "code",
   "execution_count": 11,
   "metadata": {
    "collapsed": true
   },
   "outputs": [],
   "source": [
    "import pandas as pd\n",
    "import numpy as np\n",
    "import xgboost as xgb\n",
    "from sklearn.model_selection import train_test_split, GridSearchCV\n",
    "from sklearn.metrics import balanced_accuracy_score, roc_auc_score, make_scorer\n",
    "from sklearn.metrics import confusion_matrix\n",
    "from sklearn.metrics import plot_confusion_matrix"
   ]
  },
  {
   "cell_type": "code",
   "execution_count": 12,
   "outputs": [
    {
     "data": {
      "text/plain": "   CustomerID  Count        Country       State         City  Zip Code  \\\n0  3668-QPYBK      1  United States  California  Los Angeles     90003   \n1  9237-HQITU      1  United States  California  Los Angeles     90005   \n2  9305-CDSKC      1  United States  California  Los Angeles     90006   \n3  7892-POOKP      1  United States  California  Los Angeles     90010   \n4  0280-XJGEX      1  United States  California  Los Angeles     90015   \n\n                 Lat Long   Latitude   Longitude  Gender  ...        Contract  \\\n0  33.964131, -118.272783  33.964131 -118.272783    Male  ...  Month-to-month   \n1   34.059281, -118.30742  34.059281 -118.307420  Female  ...  Month-to-month   \n2  34.048013, -118.293953  34.048013 -118.293953  Female  ...  Month-to-month   \n3  34.062125, -118.315709  34.062125 -118.315709  Female  ...  Month-to-month   \n4  34.039224, -118.266293  34.039224 -118.266293    Male  ...  Month-to-month   \n\n  Paperless Billing             Payment Method  Monthly Charges Total Charges  \\\n0               Yes               Mailed check            53.85        108.15   \n1               Yes           Electronic check            70.70        151.65   \n2               Yes           Electronic check            99.65         820.5   \n3               Yes           Electronic check           104.80       3046.05   \n4               Yes  Bank transfer (automatic)           103.70        5036.3   \n\n  Churn Label Churn Value Churn Score  CLTV                   Churn Reason  \n0         Yes           1          86  3239   Competitor made better offer  \n1         Yes           1          67  2701                          Moved  \n2         Yes           1          86  5372                          Moved  \n3         Yes           1          84  5003                          Moved  \n4         Yes           1          89  5340  Competitor had better devices  \n\n[5 rows x 33 columns]",
      "text/html": "<div>\n<style scoped>\n    .dataframe tbody tr th:only-of-type {\n        vertical-align: middle;\n    }\n\n    .dataframe tbody tr th {\n        vertical-align: top;\n    }\n\n    .dataframe thead th {\n        text-align: right;\n    }\n</style>\n<table border=\"1\" class=\"dataframe\">\n  <thead>\n    <tr style=\"text-align: right;\">\n      <th></th>\n      <th>CustomerID</th>\n      <th>Count</th>\n      <th>Country</th>\n      <th>State</th>\n      <th>City</th>\n      <th>Zip Code</th>\n      <th>Lat Long</th>\n      <th>Latitude</th>\n      <th>Longitude</th>\n      <th>Gender</th>\n      <th>...</th>\n      <th>Contract</th>\n      <th>Paperless Billing</th>\n      <th>Payment Method</th>\n      <th>Monthly Charges</th>\n      <th>Total Charges</th>\n      <th>Churn Label</th>\n      <th>Churn Value</th>\n      <th>Churn Score</th>\n      <th>CLTV</th>\n      <th>Churn Reason</th>\n    </tr>\n  </thead>\n  <tbody>\n    <tr>\n      <th>0</th>\n      <td>3668-QPYBK</td>\n      <td>1</td>\n      <td>United States</td>\n      <td>California</td>\n      <td>Los Angeles</td>\n      <td>90003</td>\n      <td>33.964131, -118.272783</td>\n      <td>33.964131</td>\n      <td>-118.272783</td>\n      <td>Male</td>\n      <td>...</td>\n      <td>Month-to-month</td>\n      <td>Yes</td>\n      <td>Mailed check</td>\n      <td>53.85</td>\n      <td>108.15</td>\n      <td>Yes</td>\n      <td>1</td>\n      <td>86</td>\n      <td>3239</td>\n      <td>Competitor made better offer</td>\n    </tr>\n    <tr>\n      <th>1</th>\n      <td>9237-HQITU</td>\n      <td>1</td>\n      <td>United States</td>\n      <td>California</td>\n      <td>Los Angeles</td>\n      <td>90005</td>\n      <td>34.059281, -118.30742</td>\n      <td>34.059281</td>\n      <td>-118.307420</td>\n      <td>Female</td>\n      <td>...</td>\n      <td>Month-to-month</td>\n      <td>Yes</td>\n      <td>Electronic check</td>\n      <td>70.70</td>\n      <td>151.65</td>\n      <td>Yes</td>\n      <td>1</td>\n      <td>67</td>\n      <td>2701</td>\n      <td>Moved</td>\n    </tr>\n    <tr>\n      <th>2</th>\n      <td>9305-CDSKC</td>\n      <td>1</td>\n      <td>United States</td>\n      <td>California</td>\n      <td>Los Angeles</td>\n      <td>90006</td>\n      <td>34.048013, -118.293953</td>\n      <td>34.048013</td>\n      <td>-118.293953</td>\n      <td>Female</td>\n      <td>...</td>\n      <td>Month-to-month</td>\n      <td>Yes</td>\n      <td>Electronic check</td>\n      <td>99.65</td>\n      <td>820.5</td>\n      <td>Yes</td>\n      <td>1</td>\n      <td>86</td>\n      <td>5372</td>\n      <td>Moved</td>\n    </tr>\n    <tr>\n      <th>3</th>\n      <td>7892-POOKP</td>\n      <td>1</td>\n      <td>United States</td>\n      <td>California</td>\n      <td>Los Angeles</td>\n      <td>90010</td>\n      <td>34.062125, -118.315709</td>\n      <td>34.062125</td>\n      <td>-118.315709</td>\n      <td>Female</td>\n      <td>...</td>\n      <td>Month-to-month</td>\n      <td>Yes</td>\n      <td>Electronic check</td>\n      <td>104.80</td>\n      <td>3046.05</td>\n      <td>Yes</td>\n      <td>1</td>\n      <td>84</td>\n      <td>5003</td>\n      <td>Moved</td>\n    </tr>\n    <tr>\n      <th>4</th>\n      <td>0280-XJGEX</td>\n      <td>1</td>\n      <td>United States</td>\n      <td>California</td>\n      <td>Los Angeles</td>\n      <td>90015</td>\n      <td>34.039224, -118.266293</td>\n      <td>34.039224</td>\n      <td>-118.266293</td>\n      <td>Male</td>\n      <td>...</td>\n      <td>Month-to-month</td>\n      <td>Yes</td>\n      <td>Bank transfer (automatic)</td>\n      <td>103.70</td>\n      <td>5036.3</td>\n      <td>Yes</td>\n      <td>1</td>\n      <td>89</td>\n      <td>5340</td>\n      <td>Competitor had better devices</td>\n    </tr>\n  </tbody>\n</table>\n<p>5 rows × 33 columns</p>\n</div>"
     },
     "execution_count": 12,
     "metadata": {},
     "output_type": "execute_result"
    }
   ],
   "source": [
    "df = pd.read_excel('Telco_customer_churn.xlsx')\n",
    "df.head()"
   ],
   "metadata": {
    "collapsed": false
   }
  },
  {
   "cell_type": "markdown",
   "source": [
    "### Data Cleaning\n",
    "**Removing Irrelevant Features**"
   ],
   "metadata": {
    "collapsed": false
   }
  },
  {
   "cell_type": "code",
   "execution_count": 13,
   "outputs": [
    {
     "data": {
      "text/plain": "   CustomerID  Count        Country       State         City  Zip Code  \\\n0  3668-QPYBK      1  United States  California  Los Angeles     90003   \n1  9237-HQITU      1  United States  California  Los Angeles     90005   \n2  9305-CDSKC      1  United States  California  Los Angeles     90006   \n3  7892-POOKP      1  United States  California  Los Angeles     90010   \n4  0280-XJGEX      1  United States  California  Los Angeles     90015   \n\n                 Lat Long   Latitude   Longitude  Gender  ...  \\\n0  33.964131, -118.272783  33.964131 -118.272783    Male  ...   \n1   34.059281, -118.30742  34.059281 -118.307420  Female  ...   \n2  34.048013, -118.293953  34.048013 -118.293953  Female  ...   \n3  34.062125, -118.315709  34.062125 -118.315709  Female  ...   \n4  34.039224, -118.266293  34.039224 -118.266293    Male  ...   \n\n  Device Protection Tech Support Streaming TV  Streaming Movies  \\\n0                No           No           No                No   \n1                No           No           No                No   \n2               Yes           No          Yes               Yes   \n3               Yes          Yes          Yes               Yes   \n4               Yes           No          Yes               Yes   \n\n         Contract Paperless Billing             Payment Method  \\\n0  Month-to-month               Yes               Mailed check   \n1  Month-to-month               Yes           Electronic check   \n2  Month-to-month               Yes           Electronic check   \n3  Month-to-month               Yes           Electronic check   \n4  Month-to-month               Yes  Bank transfer (automatic)   \n\n  Monthly Charges Total Charges Churn Label  \n0           53.85        108.15         Yes  \n1           70.70        151.65         Yes  \n2           99.65         820.5         Yes  \n3          104.80       3046.05         Yes  \n4          103.70        5036.3         Yes  \n\n[5 rows x 29 columns]",
      "text/html": "<div>\n<style scoped>\n    .dataframe tbody tr th:only-of-type {\n        vertical-align: middle;\n    }\n\n    .dataframe tbody tr th {\n        vertical-align: top;\n    }\n\n    .dataframe thead th {\n        text-align: right;\n    }\n</style>\n<table border=\"1\" class=\"dataframe\">\n  <thead>\n    <tr style=\"text-align: right;\">\n      <th></th>\n      <th>CustomerID</th>\n      <th>Count</th>\n      <th>Country</th>\n      <th>State</th>\n      <th>City</th>\n      <th>Zip Code</th>\n      <th>Lat Long</th>\n      <th>Latitude</th>\n      <th>Longitude</th>\n      <th>Gender</th>\n      <th>...</th>\n      <th>Device Protection</th>\n      <th>Tech Support</th>\n      <th>Streaming TV</th>\n      <th>Streaming Movies</th>\n      <th>Contract</th>\n      <th>Paperless Billing</th>\n      <th>Payment Method</th>\n      <th>Monthly Charges</th>\n      <th>Total Charges</th>\n      <th>Churn Label</th>\n    </tr>\n  </thead>\n  <tbody>\n    <tr>\n      <th>0</th>\n      <td>3668-QPYBK</td>\n      <td>1</td>\n      <td>United States</td>\n      <td>California</td>\n      <td>Los Angeles</td>\n      <td>90003</td>\n      <td>33.964131, -118.272783</td>\n      <td>33.964131</td>\n      <td>-118.272783</td>\n      <td>Male</td>\n      <td>...</td>\n      <td>No</td>\n      <td>No</td>\n      <td>No</td>\n      <td>No</td>\n      <td>Month-to-month</td>\n      <td>Yes</td>\n      <td>Mailed check</td>\n      <td>53.85</td>\n      <td>108.15</td>\n      <td>Yes</td>\n    </tr>\n    <tr>\n      <th>1</th>\n      <td>9237-HQITU</td>\n      <td>1</td>\n      <td>United States</td>\n      <td>California</td>\n      <td>Los Angeles</td>\n      <td>90005</td>\n      <td>34.059281, -118.30742</td>\n      <td>34.059281</td>\n      <td>-118.307420</td>\n      <td>Female</td>\n      <td>...</td>\n      <td>No</td>\n      <td>No</td>\n      <td>No</td>\n      <td>No</td>\n      <td>Month-to-month</td>\n      <td>Yes</td>\n      <td>Electronic check</td>\n      <td>70.70</td>\n      <td>151.65</td>\n      <td>Yes</td>\n    </tr>\n    <tr>\n      <th>2</th>\n      <td>9305-CDSKC</td>\n      <td>1</td>\n      <td>United States</td>\n      <td>California</td>\n      <td>Los Angeles</td>\n      <td>90006</td>\n      <td>34.048013, -118.293953</td>\n      <td>34.048013</td>\n      <td>-118.293953</td>\n      <td>Female</td>\n      <td>...</td>\n      <td>Yes</td>\n      <td>No</td>\n      <td>Yes</td>\n      <td>Yes</td>\n      <td>Month-to-month</td>\n      <td>Yes</td>\n      <td>Electronic check</td>\n      <td>99.65</td>\n      <td>820.5</td>\n      <td>Yes</td>\n    </tr>\n    <tr>\n      <th>3</th>\n      <td>7892-POOKP</td>\n      <td>1</td>\n      <td>United States</td>\n      <td>California</td>\n      <td>Los Angeles</td>\n      <td>90010</td>\n      <td>34.062125, -118.315709</td>\n      <td>34.062125</td>\n      <td>-118.315709</td>\n      <td>Female</td>\n      <td>...</td>\n      <td>Yes</td>\n      <td>Yes</td>\n      <td>Yes</td>\n      <td>Yes</td>\n      <td>Month-to-month</td>\n      <td>Yes</td>\n      <td>Electronic check</td>\n      <td>104.80</td>\n      <td>3046.05</td>\n      <td>Yes</td>\n    </tr>\n    <tr>\n      <th>4</th>\n      <td>0280-XJGEX</td>\n      <td>1</td>\n      <td>United States</td>\n      <td>California</td>\n      <td>Los Angeles</td>\n      <td>90015</td>\n      <td>34.039224, -118.266293</td>\n      <td>34.039224</td>\n      <td>-118.266293</td>\n      <td>Male</td>\n      <td>...</td>\n      <td>Yes</td>\n      <td>No</td>\n      <td>Yes</td>\n      <td>Yes</td>\n      <td>Month-to-month</td>\n      <td>Yes</td>\n      <td>Bank transfer (automatic)</td>\n      <td>103.70</td>\n      <td>5036.3</td>\n      <td>Yes</td>\n    </tr>\n  </tbody>\n</table>\n<p>5 rows × 29 columns</p>\n</div>"
     },
     "execution_count": 13,
     "metadata": {},
     "output_type": "execute_result"
    }
   ],
   "source": [
    "df.drop(columns=['Churn Value', 'Churn Score', 'CLTV', 'Churn Reason'], inplace=True)\n",
    "df.head()"
   ],
   "metadata": {
    "collapsed": false
   }
  },
  {
   "cell_type": "markdown",
   "source": [
    "Some columns only contain a single values and will not be useful for classification. We'll go ahead and drop them."
   ],
   "metadata": {
    "collapsed": false
   }
  },
  {
   "cell_type": "code",
   "execution_count": 14,
   "outputs": [
    {
     "name": "stdout",
     "output_type": "stream",
     "text": [
      "[1]\n",
      "['United States']\n",
      "['California']\n"
     ]
    }
   ],
   "source": [
    "print(df['Count'].unique())\n",
    "print(df['Country'].unique())\n",
    "print(df['State'].unique())"
   ],
   "metadata": {
    "collapsed": false
   }
  },
  {
   "cell_type": "markdown",
   "source": [
    "Let's compare with City:"
   ],
   "metadata": {
    "collapsed": false
   }
  },
  {
   "cell_type": "code",
   "execution_count": 15,
   "outputs": [
    {
     "name": "stdout",
     "output_type": "stream",
     "text": [
      "['Los Angeles' 'Beverly Hills' 'Huntington Park' ... 'Standish' 'Tulelake'\n",
      " 'Olympic Valley']\n"
     ]
    }
   ],
   "source": [
    "print(df['City'].unique())"
   ],
   "metadata": {
    "collapsed": false
   }
  },
  {
   "cell_type": "markdown",
   "source": [
    "Other irrelevant columns are CustomerID (only unique values - not useful for classification) and Lat Long (repeated as separate features in the dataset."
   ],
   "metadata": {
    "collapsed": false
   }
  },
  {
   "cell_type": "code",
   "execution_count": 16,
   "outputs": [],
   "source": [
    "df.drop(columns=['Count', 'Country', 'State', 'CustomerID', 'Lat Long'], inplace=True)"
   ],
   "metadata": {
    "collapsed": false
   }
  },
  {
   "cell_type": "code",
   "execution_count": 17,
   "outputs": [
    {
     "data": {
      "text/plain": "          City  Zip Code   Latitude   Longitude  Gender Senior Citizen  \\\n0  Los Angeles     90003  33.964131 -118.272783    Male             No   \n1  Los Angeles     90005  34.059281 -118.307420  Female             No   \n2  Los Angeles     90006  34.048013 -118.293953  Female             No   \n3  Los Angeles     90010  34.062125 -118.315709  Female             No   \n4  Los Angeles     90015  34.039224 -118.266293    Male             No   \n\n  Partner Dependents  Tenure Months Phone Service  ... Device Protection  \\\n0      No         No              2           Yes  ...                No   \n1      No        Yes              2           Yes  ...                No   \n2      No        Yes              8           Yes  ...               Yes   \n3     Yes        Yes             28           Yes  ...               Yes   \n4      No        Yes             49           Yes  ...               Yes   \n\n  Tech Support Streaming TV Streaming Movies        Contract  \\\n0           No           No               No  Month-to-month   \n1           No           No               No  Month-to-month   \n2           No          Yes              Yes  Month-to-month   \n3          Yes          Yes              Yes  Month-to-month   \n4           No          Yes              Yes  Month-to-month   \n\n  Paperless Billing             Payment Method Monthly Charges Total Charges  \\\n0               Yes               Mailed check           53.85        108.15   \n1               Yes           Electronic check           70.70        151.65   \n2               Yes           Electronic check           99.65         820.5   \n3               Yes           Electronic check          104.80       3046.05   \n4               Yes  Bank transfer (automatic)          103.70        5036.3   \n\n  Churn Label  \n0         Yes  \n1         Yes  \n2         Yes  \n3         Yes  \n4         Yes  \n\n[5 rows x 24 columns]",
      "text/html": "<div>\n<style scoped>\n    .dataframe tbody tr th:only-of-type {\n        vertical-align: middle;\n    }\n\n    .dataframe tbody tr th {\n        vertical-align: top;\n    }\n\n    .dataframe thead th {\n        text-align: right;\n    }\n</style>\n<table border=\"1\" class=\"dataframe\">\n  <thead>\n    <tr style=\"text-align: right;\">\n      <th></th>\n      <th>City</th>\n      <th>Zip Code</th>\n      <th>Latitude</th>\n      <th>Longitude</th>\n      <th>Gender</th>\n      <th>Senior Citizen</th>\n      <th>Partner</th>\n      <th>Dependents</th>\n      <th>Tenure Months</th>\n      <th>Phone Service</th>\n      <th>...</th>\n      <th>Device Protection</th>\n      <th>Tech Support</th>\n      <th>Streaming TV</th>\n      <th>Streaming Movies</th>\n      <th>Contract</th>\n      <th>Paperless Billing</th>\n      <th>Payment Method</th>\n      <th>Monthly Charges</th>\n      <th>Total Charges</th>\n      <th>Churn Label</th>\n    </tr>\n  </thead>\n  <tbody>\n    <tr>\n      <th>0</th>\n      <td>Los Angeles</td>\n      <td>90003</td>\n      <td>33.964131</td>\n      <td>-118.272783</td>\n      <td>Male</td>\n      <td>No</td>\n      <td>No</td>\n      <td>No</td>\n      <td>2</td>\n      <td>Yes</td>\n      <td>...</td>\n      <td>No</td>\n      <td>No</td>\n      <td>No</td>\n      <td>No</td>\n      <td>Month-to-month</td>\n      <td>Yes</td>\n      <td>Mailed check</td>\n      <td>53.85</td>\n      <td>108.15</td>\n      <td>Yes</td>\n    </tr>\n    <tr>\n      <th>1</th>\n      <td>Los Angeles</td>\n      <td>90005</td>\n      <td>34.059281</td>\n      <td>-118.307420</td>\n      <td>Female</td>\n      <td>No</td>\n      <td>No</td>\n      <td>Yes</td>\n      <td>2</td>\n      <td>Yes</td>\n      <td>...</td>\n      <td>No</td>\n      <td>No</td>\n      <td>No</td>\n      <td>No</td>\n      <td>Month-to-month</td>\n      <td>Yes</td>\n      <td>Electronic check</td>\n      <td>70.70</td>\n      <td>151.65</td>\n      <td>Yes</td>\n    </tr>\n    <tr>\n      <th>2</th>\n      <td>Los Angeles</td>\n      <td>90006</td>\n      <td>34.048013</td>\n      <td>-118.293953</td>\n      <td>Female</td>\n      <td>No</td>\n      <td>No</td>\n      <td>Yes</td>\n      <td>8</td>\n      <td>Yes</td>\n      <td>...</td>\n      <td>Yes</td>\n      <td>No</td>\n      <td>Yes</td>\n      <td>Yes</td>\n      <td>Month-to-month</td>\n      <td>Yes</td>\n      <td>Electronic check</td>\n      <td>99.65</td>\n      <td>820.5</td>\n      <td>Yes</td>\n    </tr>\n    <tr>\n      <th>3</th>\n      <td>Los Angeles</td>\n      <td>90010</td>\n      <td>34.062125</td>\n      <td>-118.315709</td>\n      <td>Female</td>\n      <td>No</td>\n      <td>Yes</td>\n      <td>Yes</td>\n      <td>28</td>\n      <td>Yes</td>\n      <td>...</td>\n      <td>Yes</td>\n      <td>Yes</td>\n      <td>Yes</td>\n      <td>Yes</td>\n      <td>Month-to-month</td>\n      <td>Yes</td>\n      <td>Electronic check</td>\n      <td>104.80</td>\n      <td>3046.05</td>\n      <td>Yes</td>\n    </tr>\n    <tr>\n      <th>4</th>\n      <td>Los Angeles</td>\n      <td>90015</td>\n      <td>34.039224</td>\n      <td>-118.266293</td>\n      <td>Male</td>\n      <td>No</td>\n      <td>No</td>\n      <td>Yes</td>\n      <td>49</td>\n      <td>Yes</td>\n      <td>...</td>\n      <td>Yes</td>\n      <td>No</td>\n      <td>Yes</td>\n      <td>Yes</td>\n      <td>Month-to-month</td>\n      <td>Yes</td>\n      <td>Bank transfer (automatic)</td>\n      <td>103.70</td>\n      <td>5036.3</td>\n      <td>Yes</td>\n    </tr>\n  </tbody>\n</table>\n<p>5 rows × 24 columns</p>\n</div>"
     },
     "execution_count": 17,
     "metadata": {},
     "output_type": "execute_result"
    }
   ],
   "source": [
    "df.head()"
   ],
   "metadata": {
    "collapsed": false
   }
  },
  {
   "cell_type": "markdown",
   "source": [
    "**Removing Whitespaces**\n",
    "\n",
    "It is important to remove whitespaces, if we want to draw a tree. Although, it's not relevant to the XGB algorithm. We'll go ahead and replace them with an underscore."
   ],
   "metadata": {
    "collapsed": false
   }
  },
  {
   "cell_type": "code",
   "execution_count": 18,
   "outputs": [
    {
     "data": {
      "text/plain": "0    Los_Angeles\n1    Los_Angeles\n2    Los_Angeles\n3    Los_Angeles\n4    Los_Angeles\nName: City, dtype: object"
     },
     "execution_count": 18,
     "metadata": {},
     "output_type": "execute_result"
    }
   ],
   "source": [
    "df['City'].replace(' ', '_', regex=True, inplace=True)\n",
    "df['City'].head()"
   ],
   "metadata": {
    "collapsed": false
   }
  },
  {
   "cell_type": "markdown",
   "source": [
    "We'll also replace spaces in the columns"
   ],
   "metadata": {
    "collapsed": false
   }
  },
  {
   "cell_type": "code",
   "execution_count": 20,
   "outputs": [
    {
     "data": {
      "text/plain": "Index(['City', 'Zip_Code', 'Latitude', 'Longitude', 'Gender', 'Senior_Citizen',\n       'Partner', 'Dependents', 'Tenure_Months', 'Phone_Service',\n       'Multiple_Lines', 'Internet_Service', 'Online_Security',\n       'Online_Backup', 'Device_Protection', 'Tech_Support', 'Streaming_TV',\n       'Streaming_Movies', 'Contract', 'Paperless_Billing', 'Payment_Method',\n       'Monthly_Charges', 'Total_Charges', 'Churn_Label'],\n      dtype='object')"
     },
     "execution_count": 20,
     "metadata": {},
     "output_type": "execute_result"
    }
   ],
   "source": [
    "df.columns = df.columns.str.replace(' ', '_')\n",
    "df.columns"
   ],
   "metadata": {
    "collapsed": false
   }
  },
  {
   "cell_type": "markdown",
   "source": [
    "**Missing Data**\n",
    "An important feature of XGBoost, is its capacity to handle missing data. So we'll identify missing values and set them to 0."
   ],
   "metadata": {
    "collapsed": false
   }
  },
  {
   "cell_type": "code",
   "execution_count": 21,
   "outputs": [
    {
     "data": {
      "text/plain": "City                  object\nZip_Code               int64\nLatitude             float64\nLongitude            float64\nGender                object\nSenior_Citizen        object\nPartner               object\nDependents            object\nTenure_Months          int64\nPhone_Service         object\nMultiple_Lines        object\nInternet_Service      object\nOnline_Security       object\nOnline_Backup         object\nDevice_Protection     object\nTech_Support          object\nStreaming_TV          object\nStreaming_Movies      object\nContract              object\nPaperless_Billing     object\nPayment_Method        object\nMonthly_Charges      float64\nTotal_Charges         object\nChurn_Label           object\ndtype: object"
     },
     "execution_count": 21,
     "metadata": {},
     "output_type": "execute_result"
    }
   ],
   "source": [
    "df.dtypes"
   ],
   "metadata": {
    "collapsed": false
   }
  },
  {
   "cell_type": "markdown",
   "source": [
    "Let's consider the Total_Charges column:"
   ],
   "metadata": {
    "collapsed": false
   }
  },
  {
   "cell_type": "code",
   "execution_count": 23,
   "outputs": [
    {
     "data": {
      "text/plain": "0     108.15\n1     151.65\n2      820.5\n3    3046.05\n4     5036.3\nName: Total_Charges, dtype: object"
     },
     "execution_count": 23,
     "metadata": {},
     "output_type": "execute_result"
    }
   ],
   "source": [
    "df['Total_Charges'].head()"
   ],
   "metadata": {
    "collapsed": false
   }
  },
  {
   "cell_type": "markdown",
   "source": [
    "This is a numbers column with object data type. Let's convert it to numeric."
   ],
   "metadata": {
    "collapsed": false
   }
  },
  {
   "cell_type": "code",
   "execution_count": 24,
   "outputs": [
    {
     "ename": "ValueError",
     "evalue": "Unable to parse string \" \" at position 2234",
     "output_type": "error",
     "traceback": [
      "\u001B[0;31m---------------------------------------------------------------------------\u001B[0m",
      "\u001B[0;31mValueError\u001B[0m                                Traceback (most recent call last)",
      "\u001B[0;32m~/opt/anaconda3/lib/python3.9/site-packages/pandas/_libs/lib.pyx\u001B[0m in \u001B[0;36mpandas._libs.lib.maybe_convert_numeric\u001B[0;34m()\u001B[0m\n",
      "\u001B[0;31mValueError\u001B[0m: Unable to parse string \" \"",
      "\nDuring handling of the above exception, another exception occurred:\n",
      "\u001B[0;31mValueError\u001B[0m                                Traceback (most recent call last)",
      "\u001B[0;32m/var/folders/t4/x7zw1vdd2gx4d5lg3pnpdnwm0000gn/T/ipykernel_36266/511306983.py\u001B[0m in \u001B[0;36m<module>\u001B[0;34m\u001B[0m\n\u001B[0;32m----> 1\u001B[0;31m \u001B[0mdf\u001B[0m\u001B[0;34m[\u001B[0m\u001B[0;34m'Total_Charges'\u001B[0m\u001B[0;34m]\u001B[0m \u001B[0;34m=\u001B[0m \u001B[0mpd\u001B[0m\u001B[0;34m.\u001B[0m\u001B[0mto_numeric\u001B[0m\u001B[0;34m(\u001B[0m\u001B[0mdf\u001B[0m\u001B[0;34m[\u001B[0m\u001B[0;34m'Total_Charges'\u001B[0m\u001B[0;34m]\u001B[0m\u001B[0;34m)\u001B[0m\u001B[0;34m\u001B[0m\u001B[0;34m\u001B[0m\u001B[0m\n\u001B[0m",
      "\u001B[0;32m~/opt/anaconda3/lib/python3.9/site-packages/pandas/core/tools/numeric.py\u001B[0m in \u001B[0;36mto_numeric\u001B[0;34m(arg, errors, downcast)\u001B[0m\n\u001B[1;32m    183\u001B[0m         \u001B[0mcoerce_numeric\u001B[0m \u001B[0;34m=\u001B[0m \u001B[0merrors\u001B[0m \u001B[0;32mnot\u001B[0m \u001B[0;32min\u001B[0m \u001B[0;34m(\u001B[0m\u001B[0;34m\"ignore\"\u001B[0m\u001B[0;34m,\u001B[0m \u001B[0;34m\"raise\"\u001B[0m\u001B[0;34m)\u001B[0m\u001B[0;34m\u001B[0m\u001B[0;34m\u001B[0m\u001B[0m\n\u001B[1;32m    184\u001B[0m         \u001B[0;32mtry\u001B[0m\u001B[0;34m:\u001B[0m\u001B[0;34m\u001B[0m\u001B[0;34m\u001B[0m\u001B[0m\n\u001B[0;32m--> 185\u001B[0;31m             values, _ = lib.maybe_convert_numeric(\n\u001B[0m\u001B[1;32m    186\u001B[0m                 \u001B[0mvalues\u001B[0m\u001B[0;34m,\u001B[0m \u001B[0mset\u001B[0m\u001B[0;34m(\u001B[0m\u001B[0;34m)\u001B[0m\u001B[0;34m,\u001B[0m \u001B[0mcoerce_numeric\u001B[0m\u001B[0;34m=\u001B[0m\u001B[0mcoerce_numeric\u001B[0m\u001B[0;34m\u001B[0m\u001B[0;34m\u001B[0m\u001B[0m\n\u001B[1;32m    187\u001B[0m             )\n",
      "\u001B[0;32m~/opt/anaconda3/lib/python3.9/site-packages/pandas/_libs/lib.pyx\u001B[0m in \u001B[0;36mpandas._libs.lib.maybe_convert_numeric\u001B[0;34m()\u001B[0m\n",
      "\u001B[0;31mValueError\u001B[0m: Unable to parse string \" \" at position 2234"
     ]
    }
   ],
   "source": [
    "df['Total_Charges'] = pd.to_numeric(df['Total_Charges'])"
   ],
   "metadata": {
    "collapsed": false
   }
  },
  {
   "cell_type": "markdown",
   "source": [
    "There's empty strings in this column. Let's see these rows"
   ],
   "metadata": {
    "collapsed": false
   }
  },
  {
   "cell_type": "code",
   "execution_count": 25,
   "outputs": [
    {
     "data": {
      "text/plain": "11"
     },
     "execution_count": 25,
     "metadata": {},
     "output_type": "execute_result"
    }
   ],
   "source": [
    "len(df.loc[df['Total_Charges'] == ' '])"
   ],
   "metadata": {
    "collapsed": false
   }
  },
  {
   "cell_type": "code",
   "execution_count": 26,
   "outputs": [
    {
     "data": {
      "text/plain": "                City  Zip_Code   Latitude   Longitude  Gender Senior_Citizen  \\\n2234  San_Bernardino     92408  34.084909 -117.258107  Female             No   \n2438    Independence     93526  36.869584 -118.189241    Male             No   \n2568       San_Mateo     94401  37.590421 -122.306467  Female             No   \n2667       Cupertino     95014  37.306612 -122.080621    Male             No   \n2856        Redcrest     95569  40.363446 -123.835041  Female             No   \n4331     Los_Angeles     90029  34.089953 -118.294824    Male             No   \n4687        Sun_City     92585  33.739412 -117.173334    Male             No   \n5104      Ben_Lomond     95005  37.078873 -122.090386  Female             No   \n5719        La_Verne     91750  34.144703 -117.770299    Male             No   \n6772            Bell     90201  33.970343 -118.171368  Female             No   \n6840      Wilmington     90744  33.782068 -118.262263    Male             No   \n\n     Partner Dependents  Tenure_Months Phone_Service  ...  \\\n2234     Yes         No              0            No  ...   \n2438      No         No              0           Yes  ...   \n2568     Yes         No              0           Yes  ...   \n2667     Yes        Yes              0           Yes  ...   \n2856     Yes         No              0            No  ...   \n4331     Yes        Yes              0           Yes  ...   \n4687     Yes        Yes              0           Yes  ...   \n5104     Yes        Yes              0           Yes  ...   \n5719     Yes        Yes              0           Yes  ...   \n6772     Yes        Yes              0           Yes  ...   \n6840      No        Yes              0           Yes  ...   \n\n        Device_Protection         Tech_Support         Streaming_TV  \\\n2234                  Yes                  Yes                  Yes   \n2438  No internet service  No internet service  No internet service   \n2568                  Yes                   No                  Yes   \n2667  No internet service  No internet service  No internet service   \n2856                  Yes                  Yes                  Yes   \n4331  No internet service  No internet service  No internet service   \n4687  No internet service  No internet service  No internet service   \n5104  No internet service  No internet service  No internet service   \n5719  No internet service  No internet service  No internet service   \n6772                  Yes                  Yes                  Yes   \n6840                   No                  Yes                   No   \n\n         Streaming_Movies  Contract Paperless_Billing  \\\n2234                   No  Two year               Yes   \n2438  No internet service  Two year                No   \n2568                  Yes  Two year                No   \n2667  No internet service  Two year                No   \n2856                   No  Two year                No   \n4331  No internet service  Two year                No   \n4687  No internet service  Two year                No   \n5104  No internet service  Two year                No   \n5719  No internet service  One year               Yes   \n6772                   No  Two year                No   \n6840                   No  Two year               Yes   \n\n                 Payment_Method Monthly_Charges Total_Charges Churn_Label  \n2234  Bank transfer (automatic)           52.55                        No  \n2438               Mailed check           20.25                        No  \n2568               Mailed check           80.85                        No  \n2667               Mailed check           25.75                        No  \n2856    Credit card (automatic)           56.05                        No  \n4331               Mailed check           19.85                        No  \n4687               Mailed check           25.35                        No  \n5104               Mailed check           20.00                        No  \n5719               Mailed check           19.70                        No  \n6772               Mailed check           73.35                        No  \n6840  Bank transfer (automatic)           61.90                        No  \n\n[11 rows x 24 columns]",
      "text/html": "<div>\n<style scoped>\n    .dataframe tbody tr th:only-of-type {\n        vertical-align: middle;\n    }\n\n    .dataframe tbody tr th {\n        vertical-align: top;\n    }\n\n    .dataframe thead th {\n        text-align: right;\n    }\n</style>\n<table border=\"1\" class=\"dataframe\">\n  <thead>\n    <tr style=\"text-align: right;\">\n      <th></th>\n      <th>City</th>\n      <th>Zip_Code</th>\n      <th>Latitude</th>\n      <th>Longitude</th>\n      <th>Gender</th>\n      <th>Senior_Citizen</th>\n      <th>Partner</th>\n      <th>Dependents</th>\n      <th>Tenure_Months</th>\n      <th>Phone_Service</th>\n      <th>...</th>\n      <th>Device_Protection</th>\n      <th>Tech_Support</th>\n      <th>Streaming_TV</th>\n      <th>Streaming_Movies</th>\n      <th>Contract</th>\n      <th>Paperless_Billing</th>\n      <th>Payment_Method</th>\n      <th>Monthly_Charges</th>\n      <th>Total_Charges</th>\n      <th>Churn_Label</th>\n    </tr>\n  </thead>\n  <tbody>\n    <tr>\n      <th>2234</th>\n      <td>San_Bernardino</td>\n      <td>92408</td>\n      <td>34.084909</td>\n      <td>-117.258107</td>\n      <td>Female</td>\n      <td>No</td>\n      <td>Yes</td>\n      <td>No</td>\n      <td>0</td>\n      <td>No</td>\n      <td>...</td>\n      <td>Yes</td>\n      <td>Yes</td>\n      <td>Yes</td>\n      <td>No</td>\n      <td>Two year</td>\n      <td>Yes</td>\n      <td>Bank transfer (automatic)</td>\n      <td>52.55</td>\n      <td></td>\n      <td>No</td>\n    </tr>\n    <tr>\n      <th>2438</th>\n      <td>Independence</td>\n      <td>93526</td>\n      <td>36.869584</td>\n      <td>-118.189241</td>\n      <td>Male</td>\n      <td>No</td>\n      <td>No</td>\n      <td>No</td>\n      <td>0</td>\n      <td>Yes</td>\n      <td>...</td>\n      <td>No internet service</td>\n      <td>No internet service</td>\n      <td>No internet service</td>\n      <td>No internet service</td>\n      <td>Two year</td>\n      <td>No</td>\n      <td>Mailed check</td>\n      <td>20.25</td>\n      <td></td>\n      <td>No</td>\n    </tr>\n    <tr>\n      <th>2568</th>\n      <td>San_Mateo</td>\n      <td>94401</td>\n      <td>37.590421</td>\n      <td>-122.306467</td>\n      <td>Female</td>\n      <td>No</td>\n      <td>Yes</td>\n      <td>No</td>\n      <td>0</td>\n      <td>Yes</td>\n      <td>...</td>\n      <td>Yes</td>\n      <td>No</td>\n      <td>Yes</td>\n      <td>Yes</td>\n      <td>Two year</td>\n      <td>No</td>\n      <td>Mailed check</td>\n      <td>80.85</td>\n      <td></td>\n      <td>No</td>\n    </tr>\n    <tr>\n      <th>2667</th>\n      <td>Cupertino</td>\n      <td>95014</td>\n      <td>37.306612</td>\n      <td>-122.080621</td>\n      <td>Male</td>\n      <td>No</td>\n      <td>Yes</td>\n      <td>Yes</td>\n      <td>0</td>\n      <td>Yes</td>\n      <td>...</td>\n      <td>No internet service</td>\n      <td>No internet service</td>\n      <td>No internet service</td>\n      <td>No internet service</td>\n      <td>Two year</td>\n      <td>No</td>\n      <td>Mailed check</td>\n      <td>25.75</td>\n      <td></td>\n      <td>No</td>\n    </tr>\n    <tr>\n      <th>2856</th>\n      <td>Redcrest</td>\n      <td>95569</td>\n      <td>40.363446</td>\n      <td>-123.835041</td>\n      <td>Female</td>\n      <td>No</td>\n      <td>Yes</td>\n      <td>No</td>\n      <td>0</td>\n      <td>No</td>\n      <td>...</td>\n      <td>Yes</td>\n      <td>Yes</td>\n      <td>Yes</td>\n      <td>No</td>\n      <td>Two year</td>\n      <td>No</td>\n      <td>Credit card (automatic)</td>\n      <td>56.05</td>\n      <td></td>\n      <td>No</td>\n    </tr>\n    <tr>\n      <th>4331</th>\n      <td>Los_Angeles</td>\n      <td>90029</td>\n      <td>34.089953</td>\n      <td>-118.294824</td>\n      <td>Male</td>\n      <td>No</td>\n      <td>Yes</td>\n      <td>Yes</td>\n      <td>0</td>\n      <td>Yes</td>\n      <td>...</td>\n      <td>No internet service</td>\n      <td>No internet service</td>\n      <td>No internet service</td>\n      <td>No internet service</td>\n      <td>Two year</td>\n      <td>No</td>\n      <td>Mailed check</td>\n      <td>19.85</td>\n      <td></td>\n      <td>No</td>\n    </tr>\n    <tr>\n      <th>4687</th>\n      <td>Sun_City</td>\n      <td>92585</td>\n      <td>33.739412</td>\n      <td>-117.173334</td>\n      <td>Male</td>\n      <td>No</td>\n      <td>Yes</td>\n      <td>Yes</td>\n      <td>0</td>\n      <td>Yes</td>\n      <td>...</td>\n      <td>No internet service</td>\n      <td>No internet service</td>\n      <td>No internet service</td>\n      <td>No internet service</td>\n      <td>Two year</td>\n      <td>No</td>\n      <td>Mailed check</td>\n      <td>25.35</td>\n      <td></td>\n      <td>No</td>\n    </tr>\n    <tr>\n      <th>5104</th>\n      <td>Ben_Lomond</td>\n      <td>95005</td>\n      <td>37.078873</td>\n      <td>-122.090386</td>\n      <td>Female</td>\n      <td>No</td>\n      <td>Yes</td>\n      <td>Yes</td>\n      <td>0</td>\n      <td>Yes</td>\n      <td>...</td>\n      <td>No internet service</td>\n      <td>No internet service</td>\n      <td>No internet service</td>\n      <td>No internet service</td>\n      <td>Two year</td>\n      <td>No</td>\n      <td>Mailed check</td>\n      <td>20.00</td>\n      <td></td>\n      <td>No</td>\n    </tr>\n    <tr>\n      <th>5719</th>\n      <td>La_Verne</td>\n      <td>91750</td>\n      <td>34.144703</td>\n      <td>-117.770299</td>\n      <td>Male</td>\n      <td>No</td>\n      <td>Yes</td>\n      <td>Yes</td>\n      <td>0</td>\n      <td>Yes</td>\n      <td>...</td>\n      <td>No internet service</td>\n      <td>No internet service</td>\n      <td>No internet service</td>\n      <td>No internet service</td>\n      <td>One year</td>\n      <td>Yes</td>\n      <td>Mailed check</td>\n      <td>19.70</td>\n      <td></td>\n      <td>No</td>\n    </tr>\n    <tr>\n      <th>6772</th>\n      <td>Bell</td>\n      <td>90201</td>\n      <td>33.970343</td>\n      <td>-118.171368</td>\n      <td>Female</td>\n      <td>No</td>\n      <td>Yes</td>\n      <td>Yes</td>\n      <td>0</td>\n      <td>Yes</td>\n      <td>...</td>\n      <td>Yes</td>\n      <td>Yes</td>\n      <td>Yes</td>\n      <td>No</td>\n      <td>Two year</td>\n      <td>No</td>\n      <td>Mailed check</td>\n      <td>73.35</td>\n      <td></td>\n      <td>No</td>\n    </tr>\n    <tr>\n      <th>6840</th>\n      <td>Wilmington</td>\n      <td>90744</td>\n      <td>33.782068</td>\n      <td>-118.262263</td>\n      <td>Male</td>\n      <td>No</td>\n      <td>No</td>\n      <td>Yes</td>\n      <td>0</td>\n      <td>Yes</td>\n      <td>...</td>\n      <td>No</td>\n      <td>Yes</td>\n      <td>No</td>\n      <td>No</td>\n      <td>Two year</td>\n      <td>Yes</td>\n      <td>Bank transfer (automatic)</td>\n      <td>61.90</td>\n      <td></td>\n      <td>No</td>\n    </tr>\n  </tbody>\n</table>\n<p>11 rows × 24 columns</p>\n</div>"
     },
     "execution_count": 26,
     "metadata": {},
     "output_type": "execute_result"
    }
   ],
   "source": [
    "df.loc[df['Total_Charges'] == ' ']"
   ],
   "metadata": {
    "collapsed": false
   }
  },
  {
   "cell_type": "markdown",
   "source": [
    "We'll replace the empty strings with 0"
   ],
   "metadata": {
    "collapsed": false
   }
  },
  {
   "cell_type": "code",
   "execution_count": 28,
   "outputs": [],
   "source": [
    "df.loc[(df['Total_Charges'] == ' ', 'Total_Charges')] = 0"
   ],
   "metadata": {
    "collapsed": false
   }
  },
  {
   "cell_type": "markdown",
   "source": [
    "Let's verify that we modified the Total Charges correctly by looking at everyone who had Tenure_Months set to 0."
   ],
   "metadata": {
    "collapsed": false
   }
  },
  {
   "cell_type": "code",
   "execution_count": 27,
   "outputs": [
    {
     "data": {
      "text/plain": "                City  Zip_Code   Latitude   Longitude  Gender Senior_Citizen  \\\n2234  San_Bernardino     92408  34.084909 -117.258107  Female             No   \n2438    Independence     93526  36.869584 -118.189241    Male             No   \n2568       San_Mateo     94401  37.590421 -122.306467  Female             No   \n2667       Cupertino     95014  37.306612 -122.080621    Male             No   \n2856        Redcrest     95569  40.363446 -123.835041  Female             No   \n4331     Los_Angeles     90029  34.089953 -118.294824    Male             No   \n4687        Sun_City     92585  33.739412 -117.173334    Male             No   \n5104      Ben_Lomond     95005  37.078873 -122.090386  Female             No   \n5719        La_Verne     91750  34.144703 -117.770299    Male             No   \n6772            Bell     90201  33.970343 -118.171368  Female             No   \n6840      Wilmington     90744  33.782068 -118.262263    Male             No   \n\n     Partner Dependents  Tenure_Months Phone_Service  ...  \\\n2234     Yes         No              0            No  ...   \n2438      No         No              0           Yes  ...   \n2568     Yes         No              0           Yes  ...   \n2667     Yes        Yes              0           Yes  ...   \n2856     Yes         No              0            No  ...   \n4331     Yes        Yes              0           Yes  ...   \n4687     Yes        Yes              0           Yes  ...   \n5104     Yes        Yes              0           Yes  ...   \n5719     Yes        Yes              0           Yes  ...   \n6772     Yes        Yes              0           Yes  ...   \n6840      No        Yes              0           Yes  ...   \n\n        Device_Protection         Tech_Support         Streaming_TV  \\\n2234                  Yes                  Yes                  Yes   \n2438  No internet service  No internet service  No internet service   \n2568                  Yes                   No                  Yes   \n2667  No internet service  No internet service  No internet service   \n2856                  Yes                  Yes                  Yes   \n4331  No internet service  No internet service  No internet service   \n4687  No internet service  No internet service  No internet service   \n5104  No internet service  No internet service  No internet service   \n5719  No internet service  No internet service  No internet service   \n6772                  Yes                  Yes                  Yes   \n6840                   No                  Yes                   No   \n\n         Streaming_Movies  Contract Paperless_Billing  \\\n2234                   No  Two year               Yes   \n2438  No internet service  Two year                No   \n2568                  Yes  Two year                No   \n2667  No internet service  Two year                No   \n2856                   No  Two year                No   \n4331  No internet service  Two year                No   \n4687  No internet service  Two year                No   \n5104  No internet service  Two year                No   \n5719  No internet service  One year               Yes   \n6772                   No  Two year                No   \n6840                   No  Two year               Yes   \n\n                 Payment_Method Monthly_Charges Total_Charges Churn_Label  \n2234  Bank transfer (automatic)           52.55                        No  \n2438               Mailed check           20.25                        No  \n2568               Mailed check           80.85                        No  \n2667               Mailed check           25.75                        No  \n2856    Credit card (automatic)           56.05                        No  \n4331               Mailed check           19.85                        No  \n4687               Mailed check           25.35                        No  \n5104               Mailed check           20.00                        No  \n5719               Mailed check           19.70                        No  \n6772               Mailed check           73.35                        No  \n6840  Bank transfer (automatic)           61.90                        No  \n\n[11 rows x 24 columns]",
      "text/html": "<div>\n<style scoped>\n    .dataframe tbody tr th:only-of-type {\n        vertical-align: middle;\n    }\n\n    .dataframe tbody tr th {\n        vertical-align: top;\n    }\n\n    .dataframe thead th {\n        text-align: right;\n    }\n</style>\n<table border=\"1\" class=\"dataframe\">\n  <thead>\n    <tr style=\"text-align: right;\">\n      <th></th>\n      <th>City</th>\n      <th>Zip_Code</th>\n      <th>Latitude</th>\n      <th>Longitude</th>\n      <th>Gender</th>\n      <th>Senior_Citizen</th>\n      <th>Partner</th>\n      <th>Dependents</th>\n      <th>Tenure_Months</th>\n      <th>Phone_Service</th>\n      <th>...</th>\n      <th>Device_Protection</th>\n      <th>Tech_Support</th>\n      <th>Streaming_TV</th>\n      <th>Streaming_Movies</th>\n      <th>Contract</th>\n      <th>Paperless_Billing</th>\n      <th>Payment_Method</th>\n      <th>Monthly_Charges</th>\n      <th>Total_Charges</th>\n      <th>Churn_Label</th>\n    </tr>\n  </thead>\n  <tbody>\n    <tr>\n      <th>2234</th>\n      <td>San_Bernardino</td>\n      <td>92408</td>\n      <td>34.084909</td>\n      <td>-117.258107</td>\n      <td>Female</td>\n      <td>No</td>\n      <td>Yes</td>\n      <td>No</td>\n      <td>0</td>\n      <td>No</td>\n      <td>...</td>\n      <td>Yes</td>\n      <td>Yes</td>\n      <td>Yes</td>\n      <td>No</td>\n      <td>Two year</td>\n      <td>Yes</td>\n      <td>Bank transfer (automatic)</td>\n      <td>52.55</td>\n      <td></td>\n      <td>No</td>\n    </tr>\n    <tr>\n      <th>2438</th>\n      <td>Independence</td>\n      <td>93526</td>\n      <td>36.869584</td>\n      <td>-118.189241</td>\n      <td>Male</td>\n      <td>No</td>\n      <td>No</td>\n      <td>No</td>\n      <td>0</td>\n      <td>Yes</td>\n      <td>...</td>\n      <td>No internet service</td>\n      <td>No internet service</td>\n      <td>No internet service</td>\n      <td>No internet service</td>\n      <td>Two year</td>\n      <td>No</td>\n      <td>Mailed check</td>\n      <td>20.25</td>\n      <td></td>\n      <td>No</td>\n    </tr>\n    <tr>\n      <th>2568</th>\n      <td>San_Mateo</td>\n      <td>94401</td>\n      <td>37.590421</td>\n      <td>-122.306467</td>\n      <td>Female</td>\n      <td>No</td>\n      <td>Yes</td>\n      <td>No</td>\n      <td>0</td>\n      <td>Yes</td>\n      <td>...</td>\n      <td>Yes</td>\n      <td>No</td>\n      <td>Yes</td>\n      <td>Yes</td>\n      <td>Two year</td>\n      <td>No</td>\n      <td>Mailed check</td>\n      <td>80.85</td>\n      <td></td>\n      <td>No</td>\n    </tr>\n    <tr>\n      <th>2667</th>\n      <td>Cupertino</td>\n      <td>95014</td>\n      <td>37.306612</td>\n      <td>-122.080621</td>\n      <td>Male</td>\n      <td>No</td>\n      <td>Yes</td>\n      <td>Yes</td>\n      <td>0</td>\n      <td>Yes</td>\n      <td>...</td>\n      <td>No internet service</td>\n      <td>No internet service</td>\n      <td>No internet service</td>\n      <td>No internet service</td>\n      <td>Two year</td>\n      <td>No</td>\n      <td>Mailed check</td>\n      <td>25.75</td>\n      <td></td>\n      <td>No</td>\n    </tr>\n    <tr>\n      <th>2856</th>\n      <td>Redcrest</td>\n      <td>95569</td>\n      <td>40.363446</td>\n      <td>-123.835041</td>\n      <td>Female</td>\n      <td>No</td>\n      <td>Yes</td>\n      <td>No</td>\n      <td>0</td>\n      <td>No</td>\n      <td>...</td>\n      <td>Yes</td>\n      <td>Yes</td>\n      <td>Yes</td>\n      <td>No</td>\n      <td>Two year</td>\n      <td>No</td>\n      <td>Credit card (automatic)</td>\n      <td>56.05</td>\n      <td></td>\n      <td>No</td>\n    </tr>\n    <tr>\n      <th>4331</th>\n      <td>Los_Angeles</td>\n      <td>90029</td>\n      <td>34.089953</td>\n      <td>-118.294824</td>\n      <td>Male</td>\n      <td>No</td>\n      <td>Yes</td>\n      <td>Yes</td>\n      <td>0</td>\n      <td>Yes</td>\n      <td>...</td>\n      <td>No internet service</td>\n      <td>No internet service</td>\n      <td>No internet service</td>\n      <td>No internet service</td>\n      <td>Two year</td>\n      <td>No</td>\n      <td>Mailed check</td>\n      <td>19.85</td>\n      <td></td>\n      <td>No</td>\n    </tr>\n    <tr>\n      <th>4687</th>\n      <td>Sun_City</td>\n      <td>92585</td>\n      <td>33.739412</td>\n      <td>-117.173334</td>\n      <td>Male</td>\n      <td>No</td>\n      <td>Yes</td>\n      <td>Yes</td>\n      <td>0</td>\n      <td>Yes</td>\n      <td>...</td>\n      <td>No internet service</td>\n      <td>No internet service</td>\n      <td>No internet service</td>\n      <td>No internet service</td>\n      <td>Two year</td>\n      <td>No</td>\n      <td>Mailed check</td>\n      <td>25.35</td>\n      <td></td>\n      <td>No</td>\n    </tr>\n    <tr>\n      <th>5104</th>\n      <td>Ben_Lomond</td>\n      <td>95005</td>\n      <td>37.078873</td>\n      <td>-122.090386</td>\n      <td>Female</td>\n      <td>No</td>\n      <td>Yes</td>\n      <td>Yes</td>\n      <td>0</td>\n      <td>Yes</td>\n      <td>...</td>\n      <td>No internet service</td>\n      <td>No internet service</td>\n      <td>No internet service</td>\n      <td>No internet service</td>\n      <td>Two year</td>\n      <td>No</td>\n      <td>Mailed check</td>\n      <td>20.00</td>\n      <td></td>\n      <td>No</td>\n    </tr>\n    <tr>\n      <th>5719</th>\n      <td>La_Verne</td>\n      <td>91750</td>\n      <td>34.144703</td>\n      <td>-117.770299</td>\n      <td>Male</td>\n      <td>No</td>\n      <td>Yes</td>\n      <td>Yes</td>\n      <td>0</td>\n      <td>Yes</td>\n      <td>...</td>\n      <td>No internet service</td>\n      <td>No internet service</td>\n      <td>No internet service</td>\n      <td>No internet service</td>\n      <td>One year</td>\n      <td>Yes</td>\n      <td>Mailed check</td>\n      <td>19.70</td>\n      <td></td>\n      <td>No</td>\n    </tr>\n    <tr>\n      <th>6772</th>\n      <td>Bell</td>\n      <td>90201</td>\n      <td>33.970343</td>\n      <td>-118.171368</td>\n      <td>Female</td>\n      <td>No</td>\n      <td>Yes</td>\n      <td>Yes</td>\n      <td>0</td>\n      <td>Yes</td>\n      <td>...</td>\n      <td>Yes</td>\n      <td>Yes</td>\n      <td>Yes</td>\n      <td>No</td>\n      <td>Two year</td>\n      <td>No</td>\n      <td>Mailed check</td>\n      <td>73.35</td>\n      <td></td>\n      <td>No</td>\n    </tr>\n    <tr>\n      <th>6840</th>\n      <td>Wilmington</td>\n      <td>90744</td>\n      <td>33.782068</td>\n      <td>-118.262263</td>\n      <td>Male</td>\n      <td>No</td>\n      <td>No</td>\n      <td>Yes</td>\n      <td>0</td>\n      <td>Yes</td>\n      <td>...</td>\n      <td>No</td>\n      <td>Yes</td>\n      <td>No</td>\n      <td>No</td>\n      <td>Two year</td>\n      <td>Yes</td>\n      <td>Bank transfer (automatic)</td>\n      <td>61.90</td>\n      <td></td>\n      <td>No</td>\n    </tr>\n  </tbody>\n</table>\n<p>11 rows × 24 columns</p>\n</div>"
     },
     "execution_count": 27,
     "metadata": {},
     "output_type": "execute_result"
    }
   ],
   "source": [
    "df.loc[df['Tenure_Months'] == 0]"
   ],
   "metadata": {
    "collapsed": false
   }
  },
  {
   "cell_type": "markdown",
   "source": [
    "There are also 11 values in this feature, which reasonably corresponds to 0 values in the Total_Charges column."
   ],
   "metadata": {
    "collapsed": false
   }
  },
  {
   "cell_type": "markdown",
   "source": [
    "Now let's convert the Total Charges column to numeric:"
   ],
   "metadata": {
    "collapsed": false
   }
  },
  {
   "cell_type": "code",
   "execution_count": 29,
   "outputs": [],
   "source": [
    "df['Total_Charges'] = pd.to_numeric(df['Total_Charges'])"
   ],
   "metadata": {
    "collapsed": false
   }
  }
 ],
 "metadata": {
  "kernelspec": {
   "display_name": "Python 3",
   "language": "python",
   "name": "python3"
  },
  "language_info": {
   "codemirror_mode": {
    "name": "ipython",
    "version": 2
   },
   "file_extension": ".py",
   "mimetype": "text/x-python",
   "name": "python",
   "nbconvert_exporter": "python",
   "pygments_lexer": "ipython2",
   "version": "2.7.6"
  }
 },
 "nbformat": 4,
 "nbformat_minor": 0
}

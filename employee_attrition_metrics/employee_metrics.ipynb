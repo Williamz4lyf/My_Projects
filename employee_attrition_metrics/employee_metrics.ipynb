{
 "cells": [
  {
   "cell_type": "markdown",
   "source": [
    "# Employee Metrics\n",
    "\n",
    "**Project Goal**\n",
    "\n",
    "We intend to clean and conduct exploratory analysis with this dataset before we input into Tableau to create an Employee Metrics dashboard.\n",
    "\n",
    "The dashboard will provide stakeholders with valuable insights and data-driven decision-making capabilities regarding various aspects of the workforce, including demographics, salaries, attrition rates, performance indicators, and employee retention.\n",
    "\n",
    "**Questions to Ask**\n",
    "- What is the distribution of employees by gender and ethnicity?\n",
    "- What is the average annual salary by department or job title?\n",
    "- How does the bonus percentage vary across different business units?\n",
    "- How many employees have exited the company, and what is their distribution by department?\n",
    "- What is the age distribution of employees by gender?\n",
    "- What is the geographical distribution of employees by country and city?\n",
    "- Which employees have the highest and lowest salaries?\n",
    "- What is the employee attrition rate, and how does it vary by department and business unit?\n"
   ],
   "metadata": {
    "collapsed": false
   }
  },
  {
   "cell_type": "markdown",
   "source": [
    "### Create Workspace"
   ],
   "metadata": {
    "collapsed": false
   }
  },
  {
   "cell_type": "code",
   "execution_count": 2,
   "outputs": [],
   "source": [
    "import numpy as np\n",
    "import pandas as pd\n",
    "import matplotlib as mpl\n",
    "import matplotlib.pyplot as plt\n",
    "from matplotlib import style\n",
    "import datetime as dt"
   ],
   "metadata": {
    "collapsed": false
   }
  },
  {
   "cell_type": "markdown",
   "source": [
    "### Load Dataset"
   ],
   "metadata": {
    "collapsed": false
   }
  },
  {
   "cell_type": "code",
   "execution_count": 3,
   "outputs": [
    {
     "data": {
      "text/plain": "  Employee ID         Full Name              Job Title   Department  \\\n0      E02002            Kai Le      Controls Engineer  Engineering   \n1      E02003      Robert Patel                Analyst        Sales   \n2      E02004        Cameron Lo  Network Administrator           IT   \n3      E02005   Harper Castillo   IT Systems Architect           IT   \n4      E02006  Harper Dominguez               Director  Engineering   \n\n            Business Unit  Gender Ethnicity  Age  Hire Date  Annual Salary  \\\n0           Manufacturing    Male     Asian   47 2022-02-05          92368   \n1               Corporate    Male     Asian   58 2013-10-23          45703   \n2  Research & Development    Male     Asian   34 2019-03-24          83576   \n3               Corporate  Female    Latino   39 2018-04-07          98062   \n4               Corporate  Female    Latino   42 2005-06-18         175391   \n\n   Bonus %        Country      City Exit Date  \n0     0.00  United States  Columbus       NaT  \n1     0.00  United States   Chicago       NaT  \n2     0.00          China  Shanghai       NaT  \n3     0.00  United States   Seattle       NaT  \n4     0.24  United States    Austin       NaT  ",
      "text/html": "<div>\n<style scoped>\n    .dataframe tbody tr th:only-of-type {\n        vertical-align: middle;\n    }\n\n    .dataframe tbody tr th {\n        vertical-align: top;\n    }\n\n    .dataframe thead th {\n        text-align: right;\n    }\n</style>\n<table border=\"1\" class=\"dataframe\">\n  <thead>\n    <tr style=\"text-align: right;\">\n      <th></th>\n      <th>Employee ID</th>\n      <th>Full Name</th>\n      <th>Job Title</th>\n      <th>Department</th>\n      <th>Business Unit</th>\n      <th>Gender</th>\n      <th>Ethnicity</th>\n      <th>Age</th>\n      <th>Hire Date</th>\n      <th>Annual Salary</th>\n      <th>Bonus %</th>\n      <th>Country</th>\n      <th>City</th>\n      <th>Exit Date</th>\n    </tr>\n  </thead>\n  <tbody>\n    <tr>\n      <th>0</th>\n      <td>E02002</td>\n      <td>Kai Le</td>\n      <td>Controls Engineer</td>\n      <td>Engineering</td>\n      <td>Manufacturing</td>\n      <td>Male</td>\n      <td>Asian</td>\n      <td>47</td>\n      <td>2022-02-05</td>\n      <td>92368</td>\n      <td>0.00</td>\n      <td>United States</td>\n      <td>Columbus</td>\n      <td>NaT</td>\n    </tr>\n    <tr>\n      <th>1</th>\n      <td>E02003</td>\n      <td>Robert Patel</td>\n      <td>Analyst</td>\n      <td>Sales</td>\n      <td>Corporate</td>\n      <td>Male</td>\n      <td>Asian</td>\n      <td>58</td>\n      <td>2013-10-23</td>\n      <td>45703</td>\n      <td>0.00</td>\n      <td>United States</td>\n      <td>Chicago</td>\n      <td>NaT</td>\n    </tr>\n    <tr>\n      <th>2</th>\n      <td>E02004</td>\n      <td>Cameron Lo</td>\n      <td>Network Administrator</td>\n      <td>IT</td>\n      <td>Research &amp; Development</td>\n      <td>Male</td>\n      <td>Asian</td>\n      <td>34</td>\n      <td>2019-03-24</td>\n      <td>83576</td>\n      <td>0.00</td>\n      <td>China</td>\n      <td>Shanghai</td>\n      <td>NaT</td>\n    </tr>\n    <tr>\n      <th>3</th>\n      <td>E02005</td>\n      <td>Harper Castillo</td>\n      <td>IT Systems Architect</td>\n      <td>IT</td>\n      <td>Corporate</td>\n      <td>Female</td>\n      <td>Latino</td>\n      <td>39</td>\n      <td>2018-04-07</td>\n      <td>98062</td>\n      <td>0.00</td>\n      <td>United States</td>\n      <td>Seattle</td>\n      <td>NaT</td>\n    </tr>\n    <tr>\n      <th>4</th>\n      <td>E02006</td>\n      <td>Harper Dominguez</td>\n      <td>Director</td>\n      <td>Engineering</td>\n      <td>Corporate</td>\n      <td>Female</td>\n      <td>Latino</td>\n      <td>42</td>\n      <td>2005-06-18</td>\n      <td>175391</td>\n      <td>0.24</td>\n      <td>United States</td>\n      <td>Austin</td>\n      <td>NaT</td>\n    </tr>\n  </tbody>\n</table>\n</div>"
     },
     "execution_count": 3,
     "metadata": {},
     "output_type": "execute_result"
    }
   ],
   "source": [
    "df = pd.read_excel('Employee  Data.xlsx', sheet_name='Data')\n",
    "df.head()"
   ],
   "metadata": {
    "collapsed": false
   }
  },
  {
   "cell_type": "markdown",
   "source": [
    "### Preliminary Exploration of the Data"
   ],
   "metadata": {
    "collapsed": false
   }
  },
  {
   "cell_type": "code",
   "execution_count": 4,
   "outputs": [
    {
     "name": "stdout",
     "output_type": "stream",
     "text": [
      "<class 'pandas.core.frame.DataFrame'>\n",
      "RangeIndex: 1000 entries, 0 to 999\n",
      "Data columns (total 14 columns):\n",
      " #   Column         Non-Null Count  Dtype         \n",
      "---  ------         --------------  -----         \n",
      " 0   Employee ID    1000 non-null   object        \n",
      " 1   Full Name      1000 non-null   object        \n",
      " 2   Job Title      1000 non-null   object        \n",
      " 3   Department     1000 non-null   object        \n",
      " 4   Business Unit  1000 non-null   object        \n",
      " 5   Gender         1000 non-null   object        \n",
      " 6   Ethnicity      1000 non-null   object        \n",
      " 7   Age            1000 non-null   int64         \n",
      " 8   Hire Date      1000 non-null   datetime64[ns]\n",
      " 9   Annual Salary  1000 non-null   int64         \n",
      " 10  Bonus %        1000 non-null   float64       \n",
      " 11  Country        1000 non-null   object        \n",
      " 12  City           1000 non-null   object        \n",
      " 13  Exit Date      103 non-null    datetime64[ns]\n",
      "dtypes: datetime64[ns](2), float64(1), int64(2), object(9)\n",
      "memory usage: 109.5+ KB\n"
     ]
    }
   ],
   "source": [
    "df.info()"
   ],
   "metadata": {
    "collapsed": false
   }
  },
  {
   "cell_type": "markdown",
   "source": [
    "### Data Cleaning"
   ],
   "metadata": {
    "collapsed": false
   }
  },
  {
   "cell_type": "code",
   "execution_count": 5,
   "outputs": [],
   "source": [
    "df.columns = list(map(lambda x: x.replace(' ', '_').lower(), df.columns))"
   ],
   "metadata": {
    "collapsed": false
   }
  },
  {
   "cell_type": "markdown",
   "source": [
    "### Exploratory Analysis"
   ],
   "metadata": {
    "collapsed": false
   }
  },
  {
   "cell_type": "code",
   "execution_count": 6,
   "outputs": [
    {
     "data": {
      "text/plain": "   hire_date  total_employees  total_hires exit_date  total_exits\n0 1993-04-30              1.0          1.0       NaT          NaN\n1 1993-05-11              2.0          1.0       NaT          NaN\n2 1993-05-13              3.0          1.0       NaT          NaN\n3 1993-05-29              4.0          1.0       NaT          NaN\n4 1993-06-25              5.0          1.0       NaT          NaN",
      "text/html": "<div>\n<style scoped>\n    .dataframe tbody tr th:only-of-type {\n        vertical-align: middle;\n    }\n\n    .dataframe tbody tr th {\n        vertical-align: top;\n    }\n\n    .dataframe thead th {\n        text-align: right;\n    }\n</style>\n<table border=\"1\" class=\"dataframe\">\n  <thead>\n    <tr style=\"text-align: right;\">\n      <th></th>\n      <th>hire_date</th>\n      <th>total_employees</th>\n      <th>total_hires</th>\n      <th>exit_date</th>\n      <th>total_exits</th>\n    </tr>\n  </thead>\n  <tbody>\n    <tr>\n      <th>0</th>\n      <td>1993-04-30</td>\n      <td>1.0</td>\n      <td>1.0</td>\n      <td>NaT</td>\n      <td>NaN</td>\n    </tr>\n    <tr>\n      <th>1</th>\n      <td>1993-05-11</td>\n      <td>2.0</td>\n      <td>1.0</td>\n      <td>NaT</td>\n      <td>NaN</td>\n    </tr>\n    <tr>\n      <th>2</th>\n      <td>1993-05-13</td>\n      <td>3.0</td>\n      <td>1.0</td>\n      <td>NaT</td>\n      <td>NaN</td>\n    </tr>\n    <tr>\n      <th>3</th>\n      <td>1993-05-29</td>\n      <td>4.0</td>\n      <td>1.0</td>\n      <td>NaT</td>\n      <td>NaN</td>\n    </tr>\n    <tr>\n      <th>4</th>\n      <td>1993-06-25</td>\n      <td>5.0</td>\n      <td>1.0</td>\n      <td>NaT</td>\n      <td>NaN</td>\n    </tr>\n  </tbody>\n</table>\n</div>"
     },
     "execution_count": 6,
     "metadata": {},
     "output_type": "execute_result"
    }
   ],
   "source": [
    "total = df.groupby(by=df.hire_date).\\\n",
    "    agg({'employee_id':'count'}).\\\n",
    "    cumsum().\\\n",
    "    reset_index().\\\n",
    "    rename(columns={'employee_id':'total_employees'})\n",
    "\n",
    "hires = df.groupby(by=df.hire_date).\\\n",
    "    agg({'employee_id':'count'}).\\\n",
    "    reset_index().\\\n",
    "    rename(columns={'employee_id':'total_hires'})\n",
    "\n",
    "exits = df.groupby(by=df.exit_date).\\\n",
    "    agg({'employee_id':'count'}).\\\n",
    "    reset_index().\\\n",
    "    rename(columns={'employee_id':'total_exits'})\n",
    "\n",
    "attrition = total.merge(hires, how='left', on='hire_date').\\\n",
    "                merge(exits, how='outer', left_on='hire_date', right_on='exit_date')\n",
    "\n",
    "attrition.head()"
   ],
   "metadata": {
    "collapsed": false
   }
  },
  {
   "cell_type": "code",
   "execution_count": 7,
   "outputs": [
    {
     "data": {
      "text/plain": "hire_date            0\ntotal_employees     85\ntotal_hires         85\nexit_date          918\ntotal_exits        918\ndtype: int64"
     },
     "execution_count": 7,
     "metadata": {},
     "output_type": "execute_result"
    }
   ],
   "source": [
    "for ind, row in attrition.iterrows():\n",
    "    if pd.isnull(row['hire_date']):\n",
    "        attrition.loc[ind, 'hire_date'] = attrition.loc[ind, 'exit_date']\n",
    "\n",
    "attrition.isnull().sum()"
   ],
   "metadata": {
    "collapsed": false
   }
  },
  {
   "cell_type": "code",
   "execution_count": 8,
   "outputs": [
    {
     "data": {
      "text/plain": "date               0\ntotal_employees    0\ntotal_hires        0\ntotal_exits        0\ndtype: int64"
     },
     "execution_count": 8,
     "metadata": {},
     "output_type": "execute_result"
    }
   ],
   "source": [
    "attrition.total_employees.fillna(method=\"ffill\", inplace=True)\n",
    "attrition.total_hires.fillna(0, inplace=True)\n",
    "attrition.total_exits.fillna(0, inplace=True)\n",
    "attrition.drop(columns='exit_date', inplace=True)\n",
    "attrition.rename(columns={'hire_date':'date'}, inplace=True)\n",
    "\n",
    "attrition.isnull().sum()"
   ],
   "metadata": {
    "collapsed": false
   }
  },
  {
   "cell_type": "code",
   "execution_count": 9,
   "outputs": [
    {
     "data": {
      "text/plain": "           date  total_employees  total_hires  total_exits\n0    1993-04-30              1.0          1.0          0.0\n1    1993-05-11              2.0          1.0          0.0\n2    1993-05-13              3.0          1.0          0.0\n3    1993-05-29              4.0          1.0          0.0\n4    1993-06-25              5.0          1.0          0.0\n...         ...              ...          ...          ...\n1014 2023-01-10           1000.0          0.0          1.0\n1015 2023-01-25           1000.0          0.0          2.0\n1016 2023-02-01           1000.0          0.0          1.0\n1017 2023-02-02           1000.0          0.0          1.0\n1018 2023-02-12           1000.0          0.0          1.0\n\n[1019 rows x 4 columns]",
      "text/html": "<div>\n<style scoped>\n    .dataframe tbody tr th:only-of-type {\n        vertical-align: middle;\n    }\n\n    .dataframe tbody tr th {\n        vertical-align: top;\n    }\n\n    .dataframe thead th {\n        text-align: right;\n    }\n</style>\n<table border=\"1\" class=\"dataframe\">\n  <thead>\n    <tr style=\"text-align: right;\">\n      <th></th>\n      <th>date</th>\n      <th>total_employees</th>\n      <th>total_hires</th>\n      <th>total_exits</th>\n    </tr>\n  </thead>\n  <tbody>\n    <tr>\n      <th>0</th>\n      <td>1993-04-30</td>\n      <td>1.0</td>\n      <td>1.0</td>\n      <td>0.0</td>\n    </tr>\n    <tr>\n      <th>1</th>\n      <td>1993-05-11</td>\n      <td>2.0</td>\n      <td>1.0</td>\n      <td>0.0</td>\n    </tr>\n    <tr>\n      <th>2</th>\n      <td>1993-05-13</td>\n      <td>3.0</td>\n      <td>1.0</td>\n      <td>0.0</td>\n    </tr>\n    <tr>\n      <th>3</th>\n      <td>1993-05-29</td>\n      <td>4.0</td>\n      <td>1.0</td>\n      <td>0.0</td>\n    </tr>\n    <tr>\n      <th>4</th>\n      <td>1993-06-25</td>\n      <td>5.0</td>\n      <td>1.0</td>\n      <td>0.0</td>\n    </tr>\n    <tr>\n      <th>...</th>\n      <td>...</td>\n      <td>...</td>\n      <td>...</td>\n      <td>...</td>\n    </tr>\n    <tr>\n      <th>1014</th>\n      <td>2023-01-10</td>\n      <td>1000.0</td>\n      <td>0.0</td>\n      <td>1.0</td>\n    </tr>\n    <tr>\n      <th>1015</th>\n      <td>2023-01-25</td>\n      <td>1000.0</td>\n      <td>0.0</td>\n      <td>2.0</td>\n    </tr>\n    <tr>\n      <th>1016</th>\n      <td>2023-02-01</td>\n      <td>1000.0</td>\n      <td>0.0</td>\n      <td>1.0</td>\n    </tr>\n    <tr>\n      <th>1017</th>\n      <td>2023-02-02</td>\n      <td>1000.0</td>\n      <td>0.0</td>\n      <td>1.0</td>\n    </tr>\n    <tr>\n      <th>1018</th>\n      <td>2023-02-12</td>\n      <td>1000.0</td>\n      <td>0.0</td>\n      <td>1.0</td>\n    </tr>\n  </tbody>\n</table>\n<p>1019 rows × 4 columns</p>\n</div>"
     },
     "execution_count": 9,
     "metadata": {},
     "output_type": "execute_result"
    }
   ],
   "source": [
    "attrition"
   ],
   "metadata": {
    "collapsed": false
   }
  },
  {
   "cell_type": "markdown",
   "source": [
    "### Prepare Dataset for Tableau Dashboarding"
   ],
   "metadata": {
    "collapsed": false
   }
  },
  {
   "cell_type": "code",
   "execution_count": 10,
   "outputs": [],
   "source": [
    "# attrition.to_excel('attrition.xlsx', index=False)"
   ],
   "metadata": {
    "collapsed": false
   }
  }
 ],
 "metadata": {
  "kernelspec": {
   "display_name": "Python 3",
   "language": "python",
   "name": "python3"
  },
  "language_info": {
   "codemirror_mode": {
    "name": "ipython",
    "version": 2
   },
   "file_extension": ".py",
   "mimetype": "text/x-python",
   "name": "python",
   "nbconvert_exporter": "python",
   "pygments_lexer": "ipython2",
   "version": "2.7.6"
  }
 },
 "nbformat": 4,
 "nbformat_minor": 0
}

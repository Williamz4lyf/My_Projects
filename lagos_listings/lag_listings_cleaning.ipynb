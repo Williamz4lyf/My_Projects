{
 "cells": [
  {
   "cell_type": "markdown",
   "source": [
    "# Analyzing the Lagos State Real Estate Market I\n",
    "In this project, we will be analyzing the Lagos real estate market in order to understand the relationship between certain important features and price. Our dataset has been collected from the property website `PropertyPro.ng`.\n",
    "\n",
    "This notebook will focus on data cleaning. The data cleaning on this dataset is extensive, and conducted with a mind toward preserving data and making as much data as possible, available for analysis.\n",
    "\n",
    "Let's start by importing the data."
   ],
   "metadata": {
    "collapsed": false
   }
  },
  {
   "cell_type": "code",
   "execution_count": 1,
   "metadata": {
    "collapsed": true
   },
   "outputs": [],
   "source": [
    "import warnings\n",
    "warnings.simplefilter(action='ignore')\n",
    "\n",
    "import numpy as np\n",
    "import pandas as pd\n",
    "import re"
   ]
  },
  {
   "cell_type": "code",
   "execution_count": 2,
   "outputs": [
    {
     "data": {
      "text/plain": "                            Location    Price_Period  \\\n0           Osapa London Lekki Lagos  4,000,000/year   \n1  Bakare Estate Chevron Lekki Lagos  4,000,000/year   \n2      Phase 2 Estate, Gbagada Lagos  5,500,000/year   \n3                 Oregun Ikeja Lagos  1,200,000/year   \n4                  Opebi Ikeja Lagos  1,500,000/year   \n\n                          Date_Added_Updated  \\\n0    Updated 16 Feb 2023, Added 04 Jan 2023    \n1    Updated 19 Feb 2023, Added 14 Feb 2023    \n2    Updated 19 Feb 2023, Added 15 Feb 2023    \n3    Updated 19 Feb 2023, Added 04 Jan 2023    \n4    Updated 19 Feb 2023, Added 09 Dec 2022    \n\n                                         Description             Serviced  \\\n0   FOR RENT: Luxury 4 Bedroom duplex available f...          Newly Built   \n1   FOR RENT: BRAND NEW WELL SPACED DUPLEX IN A S...  ServicedNewly Built   \n2   FOR RENT: RELATIVELY NEW 4 BEDROOM DUPLEX!!! ...                  NaN   \n3   FOR RENT: A basic 2 bedroom apartment in a lo...                  NaN   \n4   FOR RENT: Lovely 2 bedrooms flat in opebi, up...          Newly Built   \n\n          Bed_Bath_Toilet  \n0  4 beds4 baths5 Toilets  \n1  3 beds3 baths4 Toilets  \n2  4 beds5 baths5 Toilets  \n3  2 beds2 baths2 Toilets  \n4  2 beds1 baths1 Toilets  ",
      "text/html": "<div>\n<style scoped>\n    .dataframe tbody tr th:only-of-type {\n        vertical-align: middle;\n    }\n\n    .dataframe tbody tr th {\n        vertical-align: top;\n    }\n\n    .dataframe thead th {\n        text-align: right;\n    }\n</style>\n<table border=\"1\" class=\"dataframe\">\n  <thead>\n    <tr style=\"text-align: right;\">\n      <th></th>\n      <th>Location</th>\n      <th>Price_Period</th>\n      <th>Date_Added_Updated</th>\n      <th>Description</th>\n      <th>Serviced</th>\n      <th>Bed_Bath_Toilet</th>\n    </tr>\n  </thead>\n  <tbody>\n    <tr>\n      <th>0</th>\n      <td>Osapa London Lekki Lagos</td>\n      <td>4,000,000/year</td>\n      <td>Updated 16 Feb 2023, Added 04 Jan 2023</td>\n      <td>FOR RENT: Luxury 4 Bedroom duplex available f...</td>\n      <td>Newly Built</td>\n      <td>4 beds4 baths5 Toilets</td>\n    </tr>\n    <tr>\n      <th>1</th>\n      <td>Bakare Estate Chevron Lekki Lagos</td>\n      <td>4,000,000/year</td>\n      <td>Updated 19 Feb 2023, Added 14 Feb 2023</td>\n      <td>FOR RENT: BRAND NEW WELL SPACED DUPLEX IN A S...</td>\n      <td>ServicedNewly Built</td>\n      <td>3 beds3 baths4 Toilets</td>\n    </tr>\n    <tr>\n      <th>2</th>\n      <td>Phase 2 Estate, Gbagada Lagos</td>\n      <td>5,500,000/year</td>\n      <td>Updated 19 Feb 2023, Added 15 Feb 2023</td>\n      <td>FOR RENT: RELATIVELY NEW 4 BEDROOM DUPLEX!!! ...</td>\n      <td>NaN</td>\n      <td>4 beds5 baths5 Toilets</td>\n    </tr>\n    <tr>\n      <th>3</th>\n      <td>Oregun Ikeja Lagos</td>\n      <td>1,200,000/year</td>\n      <td>Updated 19 Feb 2023, Added 04 Jan 2023</td>\n      <td>FOR RENT: A basic 2 bedroom apartment in a lo...</td>\n      <td>NaN</td>\n      <td>2 beds2 baths2 Toilets</td>\n    </tr>\n    <tr>\n      <th>4</th>\n      <td>Opebi Ikeja Lagos</td>\n      <td>1,500,000/year</td>\n      <td>Updated 19 Feb 2023, Added 09 Dec 2022</td>\n      <td>FOR RENT: Lovely 2 bedrooms flat in opebi, up...</td>\n      <td>Newly Built</td>\n      <td>2 beds1 baths1 Toilets</td>\n    </tr>\n  </tbody>\n</table>\n</div>"
     },
     "execution_count": 2,
     "metadata": {},
     "output_type": "execute_result"
    }
   ],
   "source": [
    "df = pd.read_csv('lagos_listings.csv')\n",
    "df.drop(columns=['Unnamed: 0'], inplace=True)\n",
    "df.head()"
   ],
   "metadata": {
    "collapsed": false
   }
  },
  {
   "cell_type": "code",
   "execution_count": 3,
   "outputs": [
    {
     "name": "stdout",
     "output_type": "stream",
     "text": [
      "<class 'pandas.core.frame.DataFrame'>\n",
      "RangeIndex: 18338 entries, 0 to 18337\n",
      "Data columns (total 6 columns):\n",
      " #   Column              Non-Null Count  Dtype \n",
      "---  ------              --------------  ----- \n",
      " 0   Location            18338 non-null  object\n",
      " 1   Price_Period        18338 non-null  object\n",
      " 2   Date_Added_Updated  18338 non-null  object\n",
      " 3   Description         18338 non-null  object\n",
      " 4   Serviced            7308 non-null   object\n",
      " 5   Bed_Bath_Toilet     16289 non-null  object\n",
      "dtypes: object(6)\n",
      "memory usage: 859.7+ KB\n"
     ]
    }
   ],
   "source": [
    "df.info()"
   ],
   "metadata": {
    "collapsed": false
   }
  },
  {
   "cell_type": "markdown",
   "source": [
    "### Data Cleaning\n",
    "There are over 18,000 records in this dataset. 2 features contain null values - Serviced and Bed_Bath_Toilet. We will analyze further to know the reason for the nulls and how to handle them.\n",
    "\n",
    "Let's start by checking for duplicates."
   ],
   "metadata": {
    "collapsed": false
   }
  },
  {
   "cell_type": "code",
   "execution_count": 4,
   "outputs": [
    {
     "data": {
      "text/plain": "937"
     },
     "execution_count": 4,
     "metadata": {},
     "output_type": "execute_result"
    }
   ],
   "source": [
    "df.duplicated().sum()"
   ],
   "metadata": {
    "collapsed": false
   }
  },
  {
   "cell_type": "markdown",
   "source": [
    "The dataset has 937 duplicates. Let's examine further."
   ],
   "metadata": {
    "collapsed": false
   }
  },
  {
   "cell_type": "code",
   "execution_count": 5,
   "outputs": [
    {
     "data": {
      "text/plain": "                                         Location     Price_Period  \\\n66   Thera Peace Zone Estate Sangotedo Ajah Lagos   2,000,000/year   \n110  Thera Peace Zone Estate Sangotedo Ajah Lagos   2,000,000/year   \n132                             Ikota Lekki Lagos        3,000,000   \n154  Thera Peace Zone Estate Sangotedo Ajah Lagos   2,000,000/year   \n176                   Parkview Estate Ikoyi Lagos  10,000,000/year   \n198                      Osapa London Lekki Lagos   4,000,000/year   \n220                      Osapa London Lekki Lagos   4,000,000/year   \n242                      Osapa London Lekki Lagos   4,000,000/year   \n264                      Osapa London Lekki Lagos   4,000,000/year   \n274                   Beechwood Estate Ajah Lagos       52,000,000   \n286  Thera Peace Zone Estate Sangotedo Ajah Lagos   2,000,000/year   \n291                           Chevron Lekki Lagos   4,500,000/year   \n330                   Ikota Gra Ikota Lekki Lagos   3,500,000/year   \n340                   Ikota Gra Ikota Lekki Lagos   3,500,000/year   \n352                   Ikota Gra Ikota Lekki Lagos   3,500,000/year   \n374                   Parkview Estate Ikoyi Lagos  10,000,000/year   \n396                             Ikota Lekki Lagos        3,000,000   \n406                   Beechwood Estate Ajah Lagos       52,000,000   \n418                      Osapa London Lekki Lagos   4,000,000/year   \n440                   Ikota Gra Ikota Lekki Lagos   3,500,000/year   \n\n                            Date_Added_Updated  \\\n66                          Added 17 Feb 2023    \n110                         Added 17 Feb 2023    \n132    Updated 14 Feb 2023, Added 20 Dec 2022    \n154                         Added 17 Feb 2023    \n176    Updated 19 Feb 2023, Added 08 Feb 2023    \n198    Updated 16 Feb 2023, Added 04 Jan 2023    \n220    Updated 16 Feb 2023, Added 04 Jan 2023    \n242    Updated 16 Feb 2023, Added 04 Jan 2023    \n264    Updated 16 Feb 2023, Added 04 Jan 2023    \n274    Updated 18 Feb 2023, Added 31 Jan 2023    \n286                         Added 17 Feb 2023    \n291    Updated 15 Feb 2023, Added 12 Jan 2023    \n330    Updated 18 Feb 2023, Added 07 Dec 2022    \n340    Updated 18 Feb 2023, Added 07 Dec 2022    \n352    Updated 18 Feb 2023, Added 07 Dec 2022    \n374    Updated 19 Feb 2023, Added 08 Feb 2023    \n396    Updated 14 Feb 2023, Added 20 Dec 2022    \n406    Updated 18 Feb 2023, Added 31 Jan 2023    \n418    Updated 16 Feb 2023, Added 04 Jan 2023    \n440    Updated 18 Feb 2023, Added 07 Dec 2022    \n\n                                           Description  \\\n66    FOR RENT: Available Now! SARAH'S PARADISE APA...   \n110   FOR RENT: Available Now! SARAH'S PARADISE APA...   \n132   FOR RENT: Newly built 3 bedroom terrace duple...   \n154   FOR RENT: Available Now! SARAH'S PARADISE APA...   \n176   FOR RENT: FOR RENT: Nicely Finished & Service...   \n198   FOR RENT: Luxury 4 Bedroom duplex available f...   \n220   FOR RENT: Luxury 4 Bedroom duplex available f...   \n242   FOR RENT: Luxury 4 Bedroom duplex available f...   \n264   FOR RENT: Luxury 4 Bedroom duplex available f...   \n274   FOR SALE: ** Distressed Sale *** We are pleas...   \n286   FOR RENT: Available Now! SARAH'S PARADISE APA...   \n291   FOR RENT: 4 BEDROOM SEMI DETACHED DUPLEX FOR ...   \n330   FOR RENT: Luxury 4 Bedroom Duplex available f...   \n340   FOR RENT: Luxury 4 Bedroom Duplex available f...   \n352   FOR RENT: Luxury 4 Bedroom Duplex available f...   \n374   FOR RENT: FOR RENT: Nicely Finished & Service...   \n396   FOR RENT: Newly built 3 bedroom terrace duple...   \n406   FOR SALE: ** Distressed Sale *** We are pleas...   \n418   FOR RENT: Luxury 4 Bedroom duplex available f...   \n440   FOR RENT: Luxury 4 Bedroom Duplex available f...   \n\n                         Serviced         Bed_Bath_Toilet  \n66   FurnishedServicedNewly Built  2 beds2 baths3 Toilets  \n110  FurnishedServicedNewly Built  2 beds2 baths3 Toilets  \n132           ServicedNewly Built  3 beds3 baths4 Toilets  \n154  FurnishedServicedNewly Built  2 beds2 baths3 Toilets  \n176                      Serviced  3 beds3 baths4 Toilets  \n198                   Newly Built  4 beds4 baths5 Toilets  \n220                   Newly Built  4 beds4 baths5 Toilets  \n242                   Newly Built  4 beds4 baths5 Toilets  \n264                   Newly Built  4 beds4 baths5 Toilets  \n274           ServicedNewly Built  4 beds4 baths5 Toilets  \n286  FurnishedServicedNewly Built  2 beds2 baths3 Toilets  \n291           ServicedNewly Built  4 beds4 baths5 Toilets  \n330                           NaN  4 beds4 baths5 Toilets  \n340                           NaN  4 beds4 baths5 Toilets  \n352                           NaN  4 beds4 baths5 Toilets  \n374                      Serviced  3 beds3 baths4 Toilets  \n396           ServicedNewly Built  3 beds3 baths4 Toilets  \n406           ServicedNewly Built  4 beds4 baths5 Toilets  \n418                   Newly Built  4 beds4 baths5 Toilets  \n440                           NaN  4 beds4 baths5 Toilets  ",
      "text/html": "<div>\n<style scoped>\n    .dataframe tbody tr th:only-of-type {\n        vertical-align: middle;\n    }\n\n    .dataframe tbody tr th {\n        vertical-align: top;\n    }\n\n    .dataframe thead th {\n        text-align: right;\n    }\n</style>\n<table border=\"1\" class=\"dataframe\">\n  <thead>\n    <tr style=\"text-align: right;\">\n      <th></th>\n      <th>Location</th>\n      <th>Price_Period</th>\n      <th>Date_Added_Updated</th>\n      <th>Description</th>\n      <th>Serviced</th>\n      <th>Bed_Bath_Toilet</th>\n    </tr>\n  </thead>\n  <tbody>\n    <tr>\n      <th>66</th>\n      <td>Thera Peace Zone Estate Sangotedo Ajah Lagos</td>\n      <td>2,000,000/year</td>\n      <td>Added 17 Feb 2023</td>\n      <td>FOR RENT: Available Now! SARAH'S PARADISE APA...</td>\n      <td>FurnishedServicedNewly Built</td>\n      <td>2 beds2 baths3 Toilets</td>\n    </tr>\n    <tr>\n      <th>110</th>\n      <td>Thera Peace Zone Estate Sangotedo Ajah Lagos</td>\n      <td>2,000,000/year</td>\n      <td>Added 17 Feb 2023</td>\n      <td>FOR RENT: Available Now! SARAH'S PARADISE APA...</td>\n      <td>FurnishedServicedNewly Built</td>\n      <td>2 beds2 baths3 Toilets</td>\n    </tr>\n    <tr>\n      <th>132</th>\n      <td>Ikota Lekki Lagos</td>\n      <td>3,000,000</td>\n      <td>Updated 14 Feb 2023, Added 20 Dec 2022</td>\n      <td>FOR RENT: Newly built 3 bedroom terrace duple...</td>\n      <td>ServicedNewly Built</td>\n      <td>3 beds3 baths4 Toilets</td>\n    </tr>\n    <tr>\n      <th>154</th>\n      <td>Thera Peace Zone Estate Sangotedo Ajah Lagos</td>\n      <td>2,000,000/year</td>\n      <td>Added 17 Feb 2023</td>\n      <td>FOR RENT: Available Now! SARAH'S PARADISE APA...</td>\n      <td>FurnishedServicedNewly Built</td>\n      <td>2 beds2 baths3 Toilets</td>\n    </tr>\n    <tr>\n      <th>176</th>\n      <td>Parkview Estate Ikoyi Lagos</td>\n      <td>10,000,000/year</td>\n      <td>Updated 19 Feb 2023, Added 08 Feb 2023</td>\n      <td>FOR RENT: FOR RENT: Nicely Finished &amp; Service...</td>\n      <td>Serviced</td>\n      <td>3 beds3 baths4 Toilets</td>\n    </tr>\n    <tr>\n      <th>198</th>\n      <td>Osapa London Lekki Lagos</td>\n      <td>4,000,000/year</td>\n      <td>Updated 16 Feb 2023, Added 04 Jan 2023</td>\n      <td>FOR RENT: Luxury 4 Bedroom duplex available f...</td>\n      <td>Newly Built</td>\n      <td>4 beds4 baths5 Toilets</td>\n    </tr>\n    <tr>\n      <th>220</th>\n      <td>Osapa London Lekki Lagos</td>\n      <td>4,000,000/year</td>\n      <td>Updated 16 Feb 2023, Added 04 Jan 2023</td>\n      <td>FOR RENT: Luxury 4 Bedroom duplex available f...</td>\n      <td>Newly Built</td>\n      <td>4 beds4 baths5 Toilets</td>\n    </tr>\n    <tr>\n      <th>242</th>\n      <td>Osapa London Lekki Lagos</td>\n      <td>4,000,000/year</td>\n      <td>Updated 16 Feb 2023, Added 04 Jan 2023</td>\n      <td>FOR RENT: Luxury 4 Bedroom duplex available f...</td>\n      <td>Newly Built</td>\n      <td>4 beds4 baths5 Toilets</td>\n    </tr>\n    <tr>\n      <th>264</th>\n      <td>Osapa London Lekki Lagos</td>\n      <td>4,000,000/year</td>\n      <td>Updated 16 Feb 2023, Added 04 Jan 2023</td>\n      <td>FOR RENT: Luxury 4 Bedroom duplex available f...</td>\n      <td>Newly Built</td>\n      <td>4 beds4 baths5 Toilets</td>\n    </tr>\n    <tr>\n      <th>274</th>\n      <td>Beechwood Estate Ajah Lagos</td>\n      <td>52,000,000</td>\n      <td>Updated 18 Feb 2023, Added 31 Jan 2023</td>\n      <td>FOR SALE: ** Distressed Sale *** We are pleas...</td>\n      <td>ServicedNewly Built</td>\n      <td>4 beds4 baths5 Toilets</td>\n    </tr>\n    <tr>\n      <th>286</th>\n      <td>Thera Peace Zone Estate Sangotedo Ajah Lagos</td>\n      <td>2,000,000/year</td>\n      <td>Added 17 Feb 2023</td>\n      <td>FOR RENT: Available Now! SARAH'S PARADISE APA...</td>\n      <td>FurnishedServicedNewly Built</td>\n      <td>2 beds2 baths3 Toilets</td>\n    </tr>\n    <tr>\n      <th>291</th>\n      <td>Chevron Lekki Lagos</td>\n      <td>4,500,000/year</td>\n      <td>Updated 15 Feb 2023, Added 12 Jan 2023</td>\n      <td>FOR RENT: 4 BEDROOM SEMI DETACHED DUPLEX FOR ...</td>\n      <td>ServicedNewly Built</td>\n      <td>4 beds4 baths5 Toilets</td>\n    </tr>\n    <tr>\n      <th>330</th>\n      <td>Ikota Gra Ikota Lekki Lagos</td>\n      <td>3,500,000/year</td>\n      <td>Updated 18 Feb 2023, Added 07 Dec 2022</td>\n      <td>FOR RENT: Luxury 4 Bedroom Duplex available f...</td>\n      <td>NaN</td>\n      <td>4 beds4 baths5 Toilets</td>\n    </tr>\n    <tr>\n      <th>340</th>\n      <td>Ikota Gra Ikota Lekki Lagos</td>\n      <td>3,500,000/year</td>\n      <td>Updated 18 Feb 2023, Added 07 Dec 2022</td>\n      <td>FOR RENT: Luxury 4 Bedroom Duplex available f...</td>\n      <td>NaN</td>\n      <td>4 beds4 baths5 Toilets</td>\n    </tr>\n    <tr>\n      <th>352</th>\n      <td>Ikota Gra Ikota Lekki Lagos</td>\n      <td>3,500,000/year</td>\n      <td>Updated 18 Feb 2023, Added 07 Dec 2022</td>\n      <td>FOR RENT: Luxury 4 Bedroom Duplex available f...</td>\n      <td>NaN</td>\n      <td>4 beds4 baths5 Toilets</td>\n    </tr>\n    <tr>\n      <th>374</th>\n      <td>Parkview Estate Ikoyi Lagos</td>\n      <td>10,000,000/year</td>\n      <td>Updated 19 Feb 2023, Added 08 Feb 2023</td>\n      <td>FOR RENT: FOR RENT: Nicely Finished &amp; Service...</td>\n      <td>Serviced</td>\n      <td>3 beds3 baths4 Toilets</td>\n    </tr>\n    <tr>\n      <th>396</th>\n      <td>Ikota Lekki Lagos</td>\n      <td>3,000,000</td>\n      <td>Updated 14 Feb 2023, Added 20 Dec 2022</td>\n      <td>FOR RENT: Newly built 3 bedroom terrace duple...</td>\n      <td>ServicedNewly Built</td>\n      <td>3 beds3 baths4 Toilets</td>\n    </tr>\n    <tr>\n      <th>406</th>\n      <td>Beechwood Estate Ajah Lagos</td>\n      <td>52,000,000</td>\n      <td>Updated 18 Feb 2023, Added 31 Jan 2023</td>\n      <td>FOR SALE: ** Distressed Sale *** We are pleas...</td>\n      <td>ServicedNewly Built</td>\n      <td>4 beds4 baths5 Toilets</td>\n    </tr>\n    <tr>\n      <th>418</th>\n      <td>Osapa London Lekki Lagos</td>\n      <td>4,000,000/year</td>\n      <td>Updated 16 Feb 2023, Added 04 Jan 2023</td>\n      <td>FOR RENT: Luxury 4 Bedroom duplex available f...</td>\n      <td>Newly Built</td>\n      <td>4 beds4 baths5 Toilets</td>\n    </tr>\n    <tr>\n      <th>440</th>\n      <td>Ikota Gra Ikota Lekki Lagos</td>\n      <td>3,500,000/year</td>\n      <td>Updated 18 Feb 2023, Added 07 Dec 2022</td>\n      <td>FOR RENT: Luxury 4 Bedroom Duplex available f...</td>\n      <td>NaN</td>\n      <td>4 beds4 baths5 Toilets</td>\n    </tr>\n  </tbody>\n</table>\n</div>"
     },
     "execution_count": 5,
     "metadata": {},
     "output_type": "execute_result"
    }
   ],
   "source": [
    "df.loc[df.duplicated()].head(20)"
   ],
   "metadata": {
    "collapsed": false
   }
  },
  {
   "cell_type": "markdown",
   "source": [
    "It looks like these are duplicates. Let's drop them."
   ],
   "metadata": {
    "collapsed": false
   }
  },
  {
   "cell_type": "code",
   "execution_count": 6,
   "outputs": [
    {
     "name": "stdout",
     "output_type": "stream",
     "text": [
      "<class 'pandas.core.frame.DataFrame'>\n",
      "RangeIndex: 17401 entries, 0 to 17400\n",
      "Data columns (total 6 columns):\n",
      " #   Column              Non-Null Count  Dtype \n",
      "---  ------              --------------  ----- \n",
      " 0   Location            17401 non-null  object\n",
      " 1   Price_Period        17401 non-null  object\n",
      " 2   Date_Added_Updated  17401 non-null  object\n",
      " 3   Description         17401 non-null  object\n",
      " 4   Serviced            6699 non-null   object\n",
      " 5   Bed_Bath_Toilet     15352 non-null  object\n",
      "dtypes: object(6)\n",
      "memory usage: 815.8+ KB\n"
     ]
    }
   ],
   "source": [
    "df.drop_duplicates(keep='last', ignore_index=True, inplace=True)\n",
    "df.info()"
   ],
   "metadata": {
    "collapsed": false
   }
  },
  {
   "cell_type": "markdown",
   "source": [
    "#### Rent v. Sale?\n",
    "Now that we've removed duplicate entries, we can move on to further cleaning.\n",
    "\n",
    "If we review the Description feature, we'll note that some listings are for sale and some are for rent, some are residential listings and some are commercial listings. These categories are important descriptors in determining price, so we will create a column to identify which variable a record belongs to."
   ],
   "metadata": {
    "collapsed": false
   }
  },
  {
   "cell_type": "code",
   "execution_count": 7,
   "outputs": [
    {
     "data": {
      "text/plain": "0      FOR RENT: BRAND NEW WELL SPACED DUPLEX IN A S...\n1      FOR RENT: RELATIVELY NEW 4 BEDROOM DUPLEX!!! ...\n2      FOR RENT: A basic 2 bedroom apartment in a lo...\n3      FOR RENT: Lovely 2 bedrooms flat in opebi, up...\n4      FOR RENT: FOR RENT: Luxury 5 Bedroom Detached...\n5      FOR RENT: TO LET: Tastefully Finished 3 bedro...\n6      FOR RENT: RENT: Well Finished & Fully Service...\n7      FOR RENT: WAREHOUSE FOR LEASE. Direct lease/r...\n8      FOR RENT: Urgent lease Urgent lease Standard ...\n9      FOR RENT: FOR LEASE ADENIYI JONES Newly renov...\n10     FOR RENT: FOR RENT: Well Furnished 4 Bedroom ...\n11     FOR RENT: TO LET: Luxury Finished 2 bedroom f...\nName: Description, dtype: object"
     },
     "execution_count": 7,
     "metadata": {},
     "output_type": "execute_result"
    }
   ],
   "source": [
    "df['Description'].head(12)"
   ],
   "metadata": {
    "collapsed": false
   }
  },
  {
   "cell_type": "code",
   "execution_count": 8,
   "outputs": [
    {
     "data": {
      "text/plain": "Rent       17245\nSale         143\nUnknown       13\nName: Listing_Type, dtype: int64"
     },
     "execution_count": 8,
     "metadata": {},
     "output_type": "execute_result"
    }
   ],
   "source": [
    "def listing_type(row):\n",
    "    if 'FOR RENT' in row:\n",
    "        return 'Rent'\n",
    "    elif 'FOR SALE' in row:\n",
    "        return 'Sale'\n",
    "    else:\n",
    "        return 'Unknown'\n",
    "\n",
    "df['Listing_Type'] = df['Description'].apply(listing_type)\n",
    "df['Listing_Type'].value_counts()"
   ],
   "metadata": {
    "collapsed": false
   }
  },
  {
   "cell_type": "markdown",
   "source": [
    "From the above, we can see there are 50 `Unknown` Listing Type records. Due to their small number, we can choose to drop them. However, let's check them to determine why."
   ],
   "metadata": {
    "collapsed": false
   }
  },
  {
   "cell_type": "code",
   "execution_count": 9,
   "outputs": [
    {
     "data": {
      "text/plain": "                                            Location Price_Period  \\\n5304      Mijl Residence & Villas Ilasan Lekki Lagos   90,000/day   \n5365      Mijl Residence & Villas Ilasan Lekki Lagos   80,000/day   \n5553      Mijl Residence & Villas Ilasan Lekki Lagos   70,000/day   \n5574   First Unity Estate , Badore Badore Ajah Lagos   40,000/day   \n5700                     Spar Road Ikate Lekki Lagos   75,000/day   \n12378     Mijl Residence & Villas Ilasan Lekki Lagos   90,000/day   \n13638                                Life Camp Abuja   70,000/day   \n13720           First Unity Estate Badore Ajah Lagos       15,000   \n14161  First Unity Estate , Badore Badore Ajah Lagos   40,000/day   \n15422     Mijl Residence & Villas Ilasan Lekki Lagos   80,000/day   \n15767                      Banana Island Ikoyi Lagos  120,000/day   \n16134                    Spar Road Ikate Lekki Lagos   75,000/day   \n17385     Mijl Residence & Villas Ilasan Lekki Lagos   70,000/day   \n\n                              Date_Added_Updated  \\\n5304     Updated 19 Feb 2023, Added 01 Feb 2023    \n5365     Updated 19 Feb 2023, Added 08 Feb 2023    \n5553     Updated 19 Feb 2023, Added 08 Feb 2023    \n5574     Updated 19 Feb 2023, Added 18 Jan 2022    \n5700     Updated 14 Feb 2023, Added 04 May 2022    \n12378    Updated 19 Feb 2023, Added 01 Feb 2023    \n13638    Updated 19 Feb 2023, Added 14 Dec 2022    \n13720    Updated 19 Feb 2023, Added 17 Feb 2023    \n14161    Updated 19 Feb 2023, Added 18 Jan 2022    \n15422    Updated 19 Feb 2023, Added 08 Feb 2023    \n15767    Updated 18 Feb 2023, Added 08 Nov 2022    \n16134    Updated 14 Feb 2023, Added 04 May 2022    \n17385    Updated 19 Feb 2023, Added 08 Feb 2023    \n\n                                             Description  \\\n5304    FOR SHORTLET: Brand new luxurious furnished 4...   \n5365    FOR SHORTLET: Brand new luxurious furnished 3...   \n5553    FOR SHORTLET: Brand new luxurious furnished 2...   \n5574    FOR SHORTLET: This 3 bedroom apartment is ele...   \n5700    FOR SHORTLET: 2-Beds | 24/7 Electricity | Ope...   \n12378   FOR SHORTLET: Brand new luxurious furnished 4...   \n13638   FOR SHORTLET: This Clean and secure haven loc...   \n13720   FOR SHORTLET: Experience the ultimate in comf...   \n14161   FOR SHORTLET: This 3 bedroom apartment is ele...   \n15422   FOR SHORTLET: Brand new luxurious furnished 3...   \n15767   FOR SHORTLET: Location: Banana Island Price: ...   \n16134   FOR SHORTLET: 2-Beds | 24/7 Electricity | Ope...   \n17385   FOR SHORTLET: Brand new luxurious furnished 2...   \n\n                           Serviced         Bed_Bath_Toilet Listing_Type  \n5304   Newly BuiltFurnishedServiced                     NaN      Unknown  \n5365   Newly BuiltFurnishedServiced                     NaN      Unknown  \n5553   Newly BuiltFurnishedServiced                     NaN      Unknown  \n5574              FurnishedServiced                     NaN      Unknown  \n5700                            NaN                     NaN      Unknown  \n12378  Newly BuiltFurnishedServiced  4 beds4 baths5 Toilets      Unknown  \n13638             FurnishedServiced  4 beds4 baths5 Toilets      Unknown  \n13720             FurnishedServiced  1 beds1 baths1 Toilets      Unknown  \n14161             FurnishedServiced  3 beds2 baths3 Toilets      Unknown  \n15422  Newly BuiltFurnishedServiced  3 beds3 baths4 Toilets      Unknown  \n15767                           NaN  3 beds3 baths4 Toilets      Unknown  \n16134                           NaN    2 beds baths Toilets      Unknown  \n17385  Newly BuiltFurnishedServiced  2 beds2 baths3 Toilets      Unknown  ",
      "text/html": "<div>\n<style scoped>\n    .dataframe tbody tr th:only-of-type {\n        vertical-align: middle;\n    }\n\n    .dataframe tbody tr th {\n        vertical-align: top;\n    }\n\n    .dataframe thead th {\n        text-align: right;\n    }\n</style>\n<table border=\"1\" class=\"dataframe\">\n  <thead>\n    <tr style=\"text-align: right;\">\n      <th></th>\n      <th>Location</th>\n      <th>Price_Period</th>\n      <th>Date_Added_Updated</th>\n      <th>Description</th>\n      <th>Serviced</th>\n      <th>Bed_Bath_Toilet</th>\n      <th>Listing_Type</th>\n    </tr>\n  </thead>\n  <tbody>\n    <tr>\n      <th>5304</th>\n      <td>Mijl Residence &amp; Villas Ilasan Lekki Lagos</td>\n      <td>90,000/day</td>\n      <td>Updated 19 Feb 2023, Added 01 Feb 2023</td>\n      <td>FOR SHORTLET: Brand new luxurious furnished 4...</td>\n      <td>Newly BuiltFurnishedServiced</td>\n      <td>NaN</td>\n      <td>Unknown</td>\n    </tr>\n    <tr>\n      <th>5365</th>\n      <td>Mijl Residence &amp; Villas Ilasan Lekki Lagos</td>\n      <td>80,000/day</td>\n      <td>Updated 19 Feb 2023, Added 08 Feb 2023</td>\n      <td>FOR SHORTLET: Brand new luxurious furnished 3...</td>\n      <td>Newly BuiltFurnishedServiced</td>\n      <td>NaN</td>\n      <td>Unknown</td>\n    </tr>\n    <tr>\n      <th>5553</th>\n      <td>Mijl Residence &amp; Villas Ilasan Lekki Lagos</td>\n      <td>70,000/day</td>\n      <td>Updated 19 Feb 2023, Added 08 Feb 2023</td>\n      <td>FOR SHORTLET: Brand new luxurious furnished 2...</td>\n      <td>Newly BuiltFurnishedServiced</td>\n      <td>NaN</td>\n      <td>Unknown</td>\n    </tr>\n    <tr>\n      <th>5574</th>\n      <td>First Unity Estate , Badore Badore Ajah Lagos</td>\n      <td>40,000/day</td>\n      <td>Updated 19 Feb 2023, Added 18 Jan 2022</td>\n      <td>FOR SHORTLET: This 3 bedroom apartment is ele...</td>\n      <td>FurnishedServiced</td>\n      <td>NaN</td>\n      <td>Unknown</td>\n    </tr>\n    <tr>\n      <th>5700</th>\n      <td>Spar Road Ikate Lekki Lagos</td>\n      <td>75,000/day</td>\n      <td>Updated 14 Feb 2023, Added 04 May 2022</td>\n      <td>FOR SHORTLET: 2-Beds | 24/7 Electricity | Ope...</td>\n      <td>NaN</td>\n      <td>NaN</td>\n      <td>Unknown</td>\n    </tr>\n    <tr>\n      <th>12378</th>\n      <td>Mijl Residence &amp; Villas Ilasan Lekki Lagos</td>\n      <td>90,000/day</td>\n      <td>Updated 19 Feb 2023, Added 01 Feb 2023</td>\n      <td>FOR SHORTLET: Brand new luxurious furnished 4...</td>\n      <td>Newly BuiltFurnishedServiced</td>\n      <td>4 beds4 baths5 Toilets</td>\n      <td>Unknown</td>\n    </tr>\n    <tr>\n      <th>13638</th>\n      <td>Life Camp Abuja</td>\n      <td>70,000/day</td>\n      <td>Updated 19 Feb 2023, Added 14 Dec 2022</td>\n      <td>FOR SHORTLET: This Clean and secure haven loc...</td>\n      <td>FurnishedServiced</td>\n      <td>4 beds4 baths5 Toilets</td>\n      <td>Unknown</td>\n    </tr>\n    <tr>\n      <th>13720</th>\n      <td>First Unity Estate Badore Ajah Lagos</td>\n      <td>15,000</td>\n      <td>Updated 19 Feb 2023, Added 17 Feb 2023</td>\n      <td>FOR SHORTLET: Experience the ultimate in comf...</td>\n      <td>FurnishedServiced</td>\n      <td>1 beds1 baths1 Toilets</td>\n      <td>Unknown</td>\n    </tr>\n    <tr>\n      <th>14161</th>\n      <td>First Unity Estate , Badore Badore Ajah Lagos</td>\n      <td>40,000/day</td>\n      <td>Updated 19 Feb 2023, Added 18 Jan 2022</td>\n      <td>FOR SHORTLET: This 3 bedroom apartment is ele...</td>\n      <td>FurnishedServiced</td>\n      <td>3 beds2 baths3 Toilets</td>\n      <td>Unknown</td>\n    </tr>\n    <tr>\n      <th>15422</th>\n      <td>Mijl Residence &amp; Villas Ilasan Lekki Lagos</td>\n      <td>80,000/day</td>\n      <td>Updated 19 Feb 2023, Added 08 Feb 2023</td>\n      <td>FOR SHORTLET: Brand new luxurious furnished 3...</td>\n      <td>Newly BuiltFurnishedServiced</td>\n      <td>3 beds3 baths4 Toilets</td>\n      <td>Unknown</td>\n    </tr>\n    <tr>\n      <th>15767</th>\n      <td>Banana Island Ikoyi Lagos</td>\n      <td>120,000/day</td>\n      <td>Updated 18 Feb 2023, Added 08 Nov 2022</td>\n      <td>FOR SHORTLET: Location: Banana Island Price: ...</td>\n      <td>NaN</td>\n      <td>3 beds3 baths4 Toilets</td>\n      <td>Unknown</td>\n    </tr>\n    <tr>\n      <th>16134</th>\n      <td>Spar Road Ikate Lekki Lagos</td>\n      <td>75,000/day</td>\n      <td>Updated 14 Feb 2023, Added 04 May 2022</td>\n      <td>FOR SHORTLET: 2-Beds | 24/7 Electricity | Ope...</td>\n      <td>NaN</td>\n      <td>2 beds baths Toilets</td>\n      <td>Unknown</td>\n    </tr>\n    <tr>\n      <th>17385</th>\n      <td>Mijl Residence &amp; Villas Ilasan Lekki Lagos</td>\n      <td>70,000/day</td>\n      <td>Updated 19 Feb 2023, Added 08 Feb 2023</td>\n      <td>FOR SHORTLET: Brand new luxurious furnished 2...</td>\n      <td>Newly BuiltFurnishedServiced</td>\n      <td>2 beds2 baths3 Toilets</td>\n      <td>Unknown</td>\n    </tr>\n  </tbody>\n</table>\n</div>"
     },
     "execution_count": 9,
     "metadata": {},
     "output_type": "execute_result"
    }
   ],
   "source": [
    "df.loc[df['Listing_Type'] == 'Unknown']"
   ],
   "metadata": {
    "collapsed": false
   }
  },
  {
   "cell_type": "markdown",
   "source": [
    "We see a different type of rental, the daily rental or shortlet. We'll amend our function and attempt to classify listing types again."
   ],
   "metadata": {
    "collapsed": false
   }
  },
  {
   "cell_type": "code",
   "execution_count": 10,
   "outputs": [
    {
     "data": {
      "text/plain": "Rent        17245\nSale          143\nShortlet       13\nName: Listing_Type, dtype: int64"
     },
     "execution_count": 10,
     "metadata": {},
     "output_type": "execute_result"
    }
   ],
   "source": [
    "def listing_type(row):\n",
    "    if 'FOR RENT' in row:\n",
    "        return 'Rent'\n",
    "    elif 'FOR SALE' in row:\n",
    "        return 'Sale'\n",
    "    elif 'FOR SHORTLET' in row:\n",
    "        return 'Shortlet'\n",
    "    else:\n",
    "        return 'Unknown'\n",
    "\n",
    "df['Listing_Type'] = df['Description'].apply(listing_type)\n",
    "df['Listing_Type'].value_counts()"
   ],
   "metadata": {
    "collapsed": false
   }
  },
  {
   "cell_type": "markdown",
   "source": [
    "#### Price and Period\n",
    "This feature includes price and the period for that price. Given that the listings are a mixture of rentals and sales, cleaning this column will require some care.\n",
    "\n",
    "The Price and period feature in combined. We know that some properties are for sale, some for rent and rentals may be for different period ranges. We want to get the annual rental price for all rental properties and the sale price for all sale properties.\n",
    "\n",
    "We're going with annual rent because this how rent is usually paid in Lagos, although we have seen some recent innovation toward monthly rent payments."
   ],
   "metadata": {
    "collapsed": false
   }
  },
  {
   "cell_type": "code",
   "execution_count": 11,
   "outputs": [
    {
     "data": {
      "text/plain": "                            Location    Price_Period  \\\n0  Bakare Estate Chevron Lekki Lagos  4,000,000/year   \n1      Phase 2 Estate, Gbagada Lagos  5,500,000/year   \n2                 Oregun Ikeja Lagos  1,200,000/year   \n3                  Opebi Ikeja Lagos  1,500,000/year   \n4                  Ikota Lekki Lagos  8,000,000/year   \n\n                          Date_Added_Updated  \\\n0    Updated 19 Feb 2023, Added 14 Feb 2023    \n1    Updated 19 Feb 2023, Added 15 Feb 2023    \n2    Updated 19 Feb 2023, Added 04 Jan 2023    \n3    Updated 19 Feb 2023, Added 09 Dec 2022    \n4    Updated 19 Feb 2023, Added 09 Feb 2023    \n\n                                         Description             Serviced  \\\n0   FOR RENT: BRAND NEW WELL SPACED DUPLEX IN A S...  ServicedNewly Built   \n1   FOR RENT: RELATIVELY NEW 4 BEDROOM DUPLEX!!! ...                  NaN   \n2   FOR RENT: A basic 2 bedroom apartment in a lo...                  NaN   \n3   FOR RENT: Lovely 2 bedrooms flat in opebi, up...          Newly Built   \n4   FOR RENT: FOR RENT: Luxury 5 Bedroom Detached...          Newly Built   \n\n          Bed_Bath_Toilet Listing_Type  \n0  3 beds3 baths4 Toilets         Rent  \n1  4 beds5 baths5 Toilets         Rent  \n2  2 beds2 baths2 Toilets         Rent  \n3  2 beds1 baths1 Toilets         Rent  \n4  5 beds6 baths7 Toilets         Rent  ",
      "text/html": "<div>\n<style scoped>\n    .dataframe tbody tr th:only-of-type {\n        vertical-align: middle;\n    }\n\n    .dataframe tbody tr th {\n        vertical-align: top;\n    }\n\n    .dataframe thead th {\n        text-align: right;\n    }\n</style>\n<table border=\"1\" class=\"dataframe\">\n  <thead>\n    <tr style=\"text-align: right;\">\n      <th></th>\n      <th>Location</th>\n      <th>Price_Period</th>\n      <th>Date_Added_Updated</th>\n      <th>Description</th>\n      <th>Serviced</th>\n      <th>Bed_Bath_Toilet</th>\n      <th>Listing_Type</th>\n    </tr>\n  </thead>\n  <tbody>\n    <tr>\n      <th>0</th>\n      <td>Bakare Estate Chevron Lekki Lagos</td>\n      <td>4,000,000/year</td>\n      <td>Updated 19 Feb 2023, Added 14 Feb 2023</td>\n      <td>FOR RENT: BRAND NEW WELL SPACED DUPLEX IN A S...</td>\n      <td>ServicedNewly Built</td>\n      <td>3 beds3 baths4 Toilets</td>\n      <td>Rent</td>\n    </tr>\n    <tr>\n      <th>1</th>\n      <td>Phase 2 Estate, Gbagada Lagos</td>\n      <td>5,500,000/year</td>\n      <td>Updated 19 Feb 2023, Added 15 Feb 2023</td>\n      <td>FOR RENT: RELATIVELY NEW 4 BEDROOM DUPLEX!!! ...</td>\n      <td>NaN</td>\n      <td>4 beds5 baths5 Toilets</td>\n      <td>Rent</td>\n    </tr>\n    <tr>\n      <th>2</th>\n      <td>Oregun Ikeja Lagos</td>\n      <td>1,200,000/year</td>\n      <td>Updated 19 Feb 2023, Added 04 Jan 2023</td>\n      <td>FOR RENT: A basic 2 bedroom apartment in a lo...</td>\n      <td>NaN</td>\n      <td>2 beds2 baths2 Toilets</td>\n      <td>Rent</td>\n    </tr>\n    <tr>\n      <th>3</th>\n      <td>Opebi Ikeja Lagos</td>\n      <td>1,500,000/year</td>\n      <td>Updated 19 Feb 2023, Added 09 Dec 2022</td>\n      <td>FOR RENT: Lovely 2 bedrooms flat in opebi, up...</td>\n      <td>Newly Built</td>\n      <td>2 beds1 baths1 Toilets</td>\n      <td>Rent</td>\n    </tr>\n    <tr>\n      <th>4</th>\n      <td>Ikota Lekki Lagos</td>\n      <td>8,000,000/year</td>\n      <td>Updated 19 Feb 2023, Added 09 Feb 2023</td>\n      <td>FOR RENT: FOR RENT: Luxury 5 Bedroom Detached...</td>\n      <td>Newly Built</td>\n      <td>5 beds6 baths7 Toilets</td>\n      <td>Rent</td>\n    </tr>\n  </tbody>\n</table>\n</div>"
     },
     "execution_count": 11,
     "metadata": {},
     "output_type": "execute_result"
    }
   ],
   "source": [
    "df.head()"
   ],
   "metadata": {
    "collapsed": false
   }
  },
  {
   "cell_type": "code",
   "execution_count": 12,
   "outputs": [
    {
     "data": {
      "text/plain": "0    4000000.0\n1    5500000.0\n2    1200000.0\n3    1500000.0\n4    8000000.0\nName: Price, dtype: float64"
     },
     "execution_count": 12,
     "metadata": {},
     "output_type": "execute_result"
    }
   ],
   "source": [
    "df['Price'] = df['Price_Period'].str.split('/').str[0]\n",
    "df['Price'] = df['Price'].apply(lambda x: ''.join(map(str, x.split(','))))\n",
    "df['Price'] = df['Price'].astype(float)\n",
    "df['Price'].head()"
   ],
   "metadata": {
    "collapsed": false
   }
  },
  {
   "cell_type": "code",
   "execution_count": 13,
   "outputs": [
    {
     "name": "stdout",
     "output_type": "stream",
     "text": [
      "<class 'pandas.core.series.Series'>\n",
      "RangeIndex: 17401 entries, 0 to 17400\n",
      "Series name: Price\n",
      "Non-Null Count  Dtype  \n",
      "--------------  -----  \n",
      "17401 non-null  float64\n",
      "dtypes: float64(1)\n",
      "memory usage: 136.1 KB\n"
     ]
    }
   ],
   "source": [
    "df['Price'].info()"
   ],
   "metadata": {
    "collapsed": false
   }
  },
  {
   "cell_type": "code",
   "execution_count": 14,
   "outputs": [
    {
     "data": {
      "text/plain": "year             16239\nsqm                310\nmonth              101\nday                 62\n3,000,000           32\n                 ...  \n6,500,000,000        1\n1,800                1\n560,000,000          1\n3,300,000,000        1\n450,000,000          1\nName: Period, Length: 150, dtype: int64"
     },
     "execution_count": 14,
     "metadata": {},
     "output_type": "execute_result"
    }
   ],
   "source": [
    "df['Period'] = df['Price_Period'].str.split('/').str[-1]\n",
    "df['Period'].value_counts()"
   ],
   "metadata": {
    "collapsed": false
   }
  },
  {
   "cell_type": "markdown",
   "source": [
    "The period column presents a unique challenge. Because of the different nature of the listings, period is not provided. We'll need to review further to determine how we will proceed."
   ],
   "metadata": {
    "collapsed": false
   }
  },
  {
   "cell_type": "code",
   "execution_count": 15,
   "outputs": [
    {
     "data": {
      "text/plain": "                                Location Price_Period  \\\n187   Idowu Taylor Victoria Island Lagos      550/sqm   \n206   Akin Adesola Victoria Island Lagos      800/sqm   \n320   Adeola Odeku Victoria Island Lagos      500/sqm   \n374   Akin Adesola Victoria Island Lagos  115,000/sqm   \n483                          Ikeja Lagos    3,000/sqm   \n491                 Acme Road Ogba Lagos    3,000/sqm   \n714                          Lekki Lagos  185,000/sqm   \n717                    Ikate Lekki Lagos   70,000/sqm   \n939          Alaka Iponri Surulere Lagos   20,000/sqm   \n1053           Lekki Phase 1 Lekki Lagos  100,000/sqm   \n\n                             Date_Added_Updated  \\\n187     Updated 15 Feb 2023, Added 01 Mar 2022    \n206     Updated 15 Feb 2023, Added 01 Mar 2022    \n320     Updated 15 Feb 2023, Added 19 Jan 2023    \n374     Updated 19 Feb 2023, Added 06 Apr 2022    \n483     Updated 19 Feb 2023, Added 01 Oct 2022    \n491     Updated 19 Feb 2023, Added 21 Sep 2022    \n714     Updated 18 Feb 2023, Added 26 Sep 2022    \n717     Updated 18 Feb 2023, Added 20 Oct 2022    \n939     Updated 17 Feb 2023, Added 12 Nov 2022    \n1053    Updated 16 Feb 2023, Added 16 Feb 2023    \n\n                                            Description  Serviced  \\\n187    FOR RENT: Double Glazed Curtain Wall Systems ...  Serviced   \n206    FOR RENT: Raised Floor for underground cablin...  Serviced   \n320    FOR RENT: Fully serviced premium office space...       NaN   \n374    FOR RENT: Exclusive office space is available...  Serviced   \n483    FOR RENT: Very clean warehouse measuring 6300...       NaN   \n491    FOR RENT: This Warehouse is 90,000 sqft on La...       NaN   \n714    FOR RENT: Various Shop spaces are available w...       NaN   \n717    FOR RENT: A commercial property suitable for ...       NaN   \n939    FOR RENT: Nice and well maintained open plan ...  Serviced   \n1053   FOR RENT: 21sqm and 23sqm shops (UPSTAIRS & D...       NaN   \n\n             Bed_Bath_Toilet Listing_Type     Price Period  \n187   0 beds0 baths0 Toilets         Rent     550.0    sqm  \n206       beds baths Toilets         Rent     800.0    sqm  \n320   0 beds0 baths0 Toilets         Rent     500.0    sqm  \n374   0 beds0 baths0 Toilets         Rent  115000.0    sqm  \n483   0 beds0 baths0 Toilets         Rent    3000.0    sqm  \n491   0 beds0 baths0 Toilets         Rent    3000.0    sqm  \n714   0 beds0 baths0 Toilets         Rent  185000.0    sqm  \n717   0 beds0 baths0 Toilets         Rent   70000.0    sqm  \n939   0 beds0 baths0 Toilets         Rent   20000.0    sqm  \n1053  0 beds0 baths0 Toilets         Rent  100000.0    sqm  ",
      "text/html": "<div>\n<style scoped>\n    .dataframe tbody tr th:only-of-type {\n        vertical-align: middle;\n    }\n\n    .dataframe tbody tr th {\n        vertical-align: top;\n    }\n\n    .dataframe thead th {\n        text-align: right;\n    }\n</style>\n<table border=\"1\" class=\"dataframe\">\n  <thead>\n    <tr style=\"text-align: right;\">\n      <th></th>\n      <th>Location</th>\n      <th>Price_Period</th>\n      <th>Date_Added_Updated</th>\n      <th>Description</th>\n      <th>Serviced</th>\n      <th>Bed_Bath_Toilet</th>\n      <th>Listing_Type</th>\n      <th>Price</th>\n      <th>Period</th>\n    </tr>\n  </thead>\n  <tbody>\n    <tr>\n      <th>187</th>\n      <td>Idowu Taylor Victoria Island Lagos</td>\n      <td>550/sqm</td>\n      <td>Updated 15 Feb 2023, Added 01 Mar 2022</td>\n      <td>FOR RENT: Double Glazed Curtain Wall Systems ...</td>\n      <td>Serviced</td>\n      <td>0 beds0 baths0 Toilets</td>\n      <td>Rent</td>\n      <td>550.0</td>\n      <td>sqm</td>\n    </tr>\n    <tr>\n      <th>206</th>\n      <td>Akin Adesola Victoria Island Lagos</td>\n      <td>800/sqm</td>\n      <td>Updated 15 Feb 2023, Added 01 Mar 2022</td>\n      <td>FOR RENT: Raised Floor for underground cablin...</td>\n      <td>Serviced</td>\n      <td>beds baths Toilets</td>\n      <td>Rent</td>\n      <td>800.0</td>\n      <td>sqm</td>\n    </tr>\n    <tr>\n      <th>320</th>\n      <td>Adeola Odeku Victoria Island Lagos</td>\n      <td>500/sqm</td>\n      <td>Updated 15 Feb 2023, Added 19 Jan 2023</td>\n      <td>FOR RENT: Fully serviced premium office space...</td>\n      <td>NaN</td>\n      <td>0 beds0 baths0 Toilets</td>\n      <td>Rent</td>\n      <td>500.0</td>\n      <td>sqm</td>\n    </tr>\n    <tr>\n      <th>374</th>\n      <td>Akin Adesola Victoria Island Lagos</td>\n      <td>115,000/sqm</td>\n      <td>Updated 19 Feb 2023, Added 06 Apr 2022</td>\n      <td>FOR RENT: Exclusive office space is available...</td>\n      <td>Serviced</td>\n      <td>0 beds0 baths0 Toilets</td>\n      <td>Rent</td>\n      <td>115000.0</td>\n      <td>sqm</td>\n    </tr>\n    <tr>\n      <th>483</th>\n      <td>Ikeja Lagos</td>\n      <td>3,000/sqm</td>\n      <td>Updated 19 Feb 2023, Added 01 Oct 2022</td>\n      <td>FOR RENT: Very clean warehouse measuring 6300...</td>\n      <td>NaN</td>\n      <td>0 beds0 baths0 Toilets</td>\n      <td>Rent</td>\n      <td>3000.0</td>\n      <td>sqm</td>\n    </tr>\n    <tr>\n      <th>491</th>\n      <td>Acme Road Ogba Lagos</td>\n      <td>3,000/sqm</td>\n      <td>Updated 19 Feb 2023, Added 21 Sep 2022</td>\n      <td>FOR RENT: This Warehouse is 90,000 sqft on La...</td>\n      <td>NaN</td>\n      <td>0 beds0 baths0 Toilets</td>\n      <td>Rent</td>\n      <td>3000.0</td>\n      <td>sqm</td>\n    </tr>\n    <tr>\n      <th>714</th>\n      <td>Lekki Lagos</td>\n      <td>185,000/sqm</td>\n      <td>Updated 18 Feb 2023, Added 26 Sep 2022</td>\n      <td>FOR RENT: Various Shop spaces are available w...</td>\n      <td>NaN</td>\n      <td>0 beds0 baths0 Toilets</td>\n      <td>Rent</td>\n      <td>185000.0</td>\n      <td>sqm</td>\n    </tr>\n    <tr>\n      <th>717</th>\n      <td>Ikate Lekki Lagos</td>\n      <td>70,000/sqm</td>\n      <td>Updated 18 Feb 2023, Added 20 Oct 2022</td>\n      <td>FOR RENT: A commercial property suitable for ...</td>\n      <td>NaN</td>\n      <td>0 beds0 baths0 Toilets</td>\n      <td>Rent</td>\n      <td>70000.0</td>\n      <td>sqm</td>\n    </tr>\n    <tr>\n      <th>939</th>\n      <td>Alaka Iponri Surulere Lagos</td>\n      <td>20,000/sqm</td>\n      <td>Updated 17 Feb 2023, Added 12 Nov 2022</td>\n      <td>FOR RENT: Nice and well maintained open plan ...</td>\n      <td>Serviced</td>\n      <td>0 beds0 baths0 Toilets</td>\n      <td>Rent</td>\n      <td>20000.0</td>\n      <td>sqm</td>\n    </tr>\n    <tr>\n      <th>1053</th>\n      <td>Lekki Phase 1 Lekki Lagos</td>\n      <td>100,000/sqm</td>\n      <td>Updated 16 Feb 2023, Added 16 Feb 2023</td>\n      <td>FOR RENT: 21sqm and 23sqm shops (UPSTAIRS &amp; D...</td>\n      <td>NaN</td>\n      <td>0 beds0 baths0 Toilets</td>\n      <td>Rent</td>\n      <td>100000.0</td>\n      <td>sqm</td>\n    </tr>\n  </tbody>\n</table>\n</div>"
     },
     "execution_count": 15,
     "metadata": {},
     "output_type": "execute_result"
    }
   ],
   "source": [
    "df.loc[df['Period'] == 'sqm'].head(10)"
   ],
   "metadata": {
    "collapsed": false
   }
  },
  {
   "cell_type": "markdown",
   "source": [
    "The sqm filings are commercial listings. We need to check if their sizes are contained in the description column, so we can determine how to use them."
   ],
   "metadata": {
    "collapsed": false
   }
  },
  {
   "cell_type": "code",
   "execution_count": 16,
   "outputs": [
    {
     "data": {
      "text/plain": "125"
     },
     "execution_count": 16,
     "metadata": {},
     "output_type": "execute_result"
    }
   ],
   "source": [
    "commercial = df.loc[df['Period'] == 'sqm']\n",
    "sqm_index = list()\n",
    "for index, row in commercial.iterrows():\n",
    "    if 'sqm' in row['Description']:\n",
    "        sqm_index.append(index)\n",
    "    elif 'sqft' in row['Description']:\n",
    "        sqm_index.append(index)\n",
    "    elif 'square' in row['Description']:\n",
    "        sqm_index.append(index)\n",
    "\n",
    "len(set(sqm_index))"
   ],
   "metadata": {
    "collapsed": false
   }
  },
  {
   "cell_type": "code",
   "execution_count": 17,
   "outputs": [
    {
     "data": {
      "text/plain": "475"
     },
     "execution_count": 17,
     "metadata": {},
     "output_type": "execute_result"
    }
   ],
   "source": [
    "df_sqm_index = list()\n",
    "for index, row in df.iterrows():\n",
    "    if 'sqm' in row['Description']:\n",
    "        df_sqm_index.append(index)\n",
    "    elif 'sqft' in row['Description']:\n",
    "        df_sqm_index.append(index)\n",
    "    elif 'square' in row['Description']:\n",
    "        df_sqm_index.append(index)\n",
    "\n",
    "len(set(df_sqm_index))"
   ],
   "metadata": {
    "collapsed": false
   }
  },
  {
   "cell_type": "markdown",
   "source": [
    "We find an interesting issue. The number of listings qualifying for our condition in the overall dataset is significantly larger than those in the subset of the dataset where period is `sqm`.\n",
    "\n",
    "We'll review further to determine how to handle this discrepancy"
   ],
   "metadata": {
    "collapsed": false
   }
  },
  {
   "cell_type": "markdown",
   "source": [
    "Due to the fact that there are some listings in the overall dataset without a value for `Period` yet are clearly sold either by square foot or meter, we'll be cleaning the overall dataset index instead.\n",
    "\n",
    "This time, we'll be working in the description column. We'll use regex to extract sqm or sqft substrings in the dataset."
   ],
   "metadata": {
    "collapsed": false
   }
  },
  {
   "cell_type": "code",
   "execution_count": 18,
   "outputs": [
    {
     "data": {
      "text/plain": "Unknown     16910\n[]             55\n[300sqm]       14\n[200sqm]       12\n[500sqm]       10\nName: Size, dtype: int64"
     },
     "execution_count": 18,
     "metadata": {},
     "output_type": "execute_result"
    }
   ],
   "source": [
    "df['Size'] = df['Description'].apply(lambda x: re.findall('\\d+ sqm|\\d+sqm|\\d+ sqft|\\d+sqft', x) if 'sq' in x else 'Unknown')\n",
    "df['Size'].value_counts().head()"
   ],
   "metadata": {
    "collapsed": false
   }
  },
  {
   "cell_type": "code",
   "execution_count": 19,
   "outputs": [
    {
     "data": {
      "text/plain": "Unknown    16910\n              55\n300sqm        14\n200sqm        12\n500sqm        10\nName: Size, dtype: int64"
     },
     "execution_count": 19,
     "metadata": {},
     "output_type": "execute_result"
    }
   ],
   "source": [
    "df['Size'] = df['Size'].apply(lambda x: ''.join(map(str, x)))\n",
    "df['Size'].value_counts().head()"
   ],
   "metadata": {
    "collapsed": false
   }
  },
  {
   "cell_type": "code",
   "execution_count": 20,
   "outputs": [
    {
     "data": {
      "text/plain": "                                               Location      Price_Period  \\\n21    Along Agege Motor Way, Between Ladipo Bus Stop...   81,000,000/year   \n479                           Lekki Scheme 2 Ajah Lagos    4,000,000/year   \n493                           Lekki Scheme 2 Ajah Lagos    7,000,000/year   \n937   Oshodi Apapa Express Way Lagos Oshodi Expressw...   20,000,000/year   \n2029  Ff Millennium Towers Ligali Ayorinde Victoria ...  110,000,000/year   \n\n                             Date_Added_Updated  \\\n21      Updated 19 Feb 2023, Added 30 Sep 2022    \n479     Updated 19 Feb 2023, Added 09 Feb 2023    \n493     Updated 19 Feb 2023, Added 09 Feb 2023    \n937     Updated 17 Feb 2023, Added 16 Feb 2023    \n2029    Updated 14 Feb 2023, Added 30 Aug 2022    \n\n                                            Description           Serviced  \\\n21     FOR RENT: Warehouse for lease A shared compou...                NaN   \n479    FOR RENT: FOR LEASE: Fully fenced with gate c...                NaN   \n493    FOR RENT: FOR LEASE: Fully fenced with gate c...                NaN   \n937    FOR RENT: Nice and well located concrete pave...                NaN   \n2029   FOR RENT: Brokerfield presents this completel...  FurnishedServiced   \n\n             Bed_Bath_Toilet Listing_Type        Price Period Size  \n21    0 beds0 baths0 Toilets         Rent   81000000.0   year       \n479   0 beds0 baths0 Toilets         Rent    4000000.0   year       \n493   0 beds0 baths0 Toilets         Rent    7000000.0   year       \n937       beds baths Toilets         Rent   20000000.0   year       \n2029    beds baths10 Toilets         Rent  110000000.0   year       ",
      "text/html": "<div>\n<style scoped>\n    .dataframe tbody tr th:only-of-type {\n        vertical-align: middle;\n    }\n\n    .dataframe tbody tr th {\n        vertical-align: top;\n    }\n\n    .dataframe thead th {\n        text-align: right;\n    }\n</style>\n<table border=\"1\" class=\"dataframe\">\n  <thead>\n    <tr style=\"text-align: right;\">\n      <th></th>\n      <th>Location</th>\n      <th>Price_Period</th>\n      <th>Date_Added_Updated</th>\n      <th>Description</th>\n      <th>Serviced</th>\n      <th>Bed_Bath_Toilet</th>\n      <th>Listing_Type</th>\n      <th>Price</th>\n      <th>Period</th>\n      <th>Size</th>\n    </tr>\n  </thead>\n  <tbody>\n    <tr>\n      <th>21</th>\n      <td>Along Agege Motor Way, Between Ladipo Bus Stop...</td>\n      <td>81,000,000/year</td>\n      <td>Updated 19 Feb 2023, Added 30 Sep 2022</td>\n      <td>FOR RENT: Warehouse for lease A shared compou...</td>\n      <td>NaN</td>\n      <td>0 beds0 baths0 Toilets</td>\n      <td>Rent</td>\n      <td>81000000.0</td>\n      <td>year</td>\n      <td></td>\n    </tr>\n    <tr>\n      <th>479</th>\n      <td>Lekki Scheme 2 Ajah Lagos</td>\n      <td>4,000,000/year</td>\n      <td>Updated 19 Feb 2023, Added 09 Feb 2023</td>\n      <td>FOR RENT: FOR LEASE: Fully fenced with gate c...</td>\n      <td>NaN</td>\n      <td>0 beds0 baths0 Toilets</td>\n      <td>Rent</td>\n      <td>4000000.0</td>\n      <td>year</td>\n      <td></td>\n    </tr>\n    <tr>\n      <th>493</th>\n      <td>Lekki Scheme 2 Ajah Lagos</td>\n      <td>7,000,000/year</td>\n      <td>Updated 19 Feb 2023, Added 09 Feb 2023</td>\n      <td>FOR RENT: FOR LEASE: Fully fenced with gate c...</td>\n      <td>NaN</td>\n      <td>0 beds0 baths0 Toilets</td>\n      <td>Rent</td>\n      <td>7000000.0</td>\n      <td>year</td>\n      <td></td>\n    </tr>\n    <tr>\n      <th>937</th>\n      <td>Oshodi Apapa Express Way Lagos Oshodi Expressw...</td>\n      <td>20,000,000/year</td>\n      <td>Updated 17 Feb 2023, Added 16 Feb 2023</td>\n      <td>FOR RENT: Nice and well located concrete pave...</td>\n      <td>NaN</td>\n      <td>beds baths Toilets</td>\n      <td>Rent</td>\n      <td>20000000.0</td>\n      <td>year</td>\n      <td></td>\n    </tr>\n    <tr>\n      <th>2029</th>\n      <td>Ff Millennium Towers Ligali Ayorinde Victoria ...</td>\n      <td>110,000,000/year</td>\n      <td>Updated 14 Feb 2023, Added 30 Aug 2022</td>\n      <td>FOR RENT: Brokerfield presents this completel...</td>\n      <td>FurnishedServiced</td>\n      <td>beds baths10 Toilets</td>\n      <td>Rent</td>\n      <td>110000000.0</td>\n      <td>year</td>\n      <td></td>\n    </tr>\n  </tbody>\n</table>\n</div>"
     },
     "execution_count": 20,
     "metadata": {},
     "output_type": "execute_result"
    }
   ],
   "source": [
    "df.loc[df['Size'] == ''].head()"
   ],
   "metadata": {
    "collapsed": false
   }
  },
  {
   "cell_type": "markdown",
   "source": [
    "We see that we need to expand our regex pattern to capture more variations of square meter!"
   ],
   "metadata": {
    "collapsed": false
   }
  },
  {
   "cell_type": "code",
   "execution_count": 21,
   "outputs": [
    {
     "data": {
      "text/plain": "Unknown    16910\n              31\n300sqm        14\n200sqm        12\n500sqm        10\nName: Size, dtype: int64"
     },
     "execution_count": 21,
     "metadata": {},
     "output_type": "execute_result"
    }
   ],
   "source": [
    "df['Size'] = df['Description'].apply(\n",
    "    lambda x: re.findall('\\d+ sqm|\\d+sqm|\\d+ sqft|\\d+sqft|\\d+square|\\d+ square|\\d+sqr|\\d+ sqr|\\d+,\\d+ sqm|\\d+,\\d+ square', x) if 'sq' in x else 'Unknown')\n",
    "df['Size'] = df['Size'].apply(lambda x: ''.join(map(str, x)))\n",
    "df['Size'].value_counts().head()"
   ],
   "metadata": {
    "collapsed": false
   }
  },
  {
   "cell_type": "markdown",
   "source": [
    "There are still some empties!!"
   ],
   "metadata": {
    "collapsed": false
   }
  },
  {
   "cell_type": "code",
   "execution_count": 22,
   "outputs": [
    {
     "data": {
      "text/plain": "                                               Location      Price_Period  \\\n2029  Ff Millennium Towers Ligali Ayorinde Victoria ...  110,000,000/year   \n4850                                        Ikoyi Lagos    9,000,000/year   \n5227                          Adeniyi Jones Ikeja Lagos           800,000   \n5323        Off Ayo Afolabi Bus Stop, Aboru Ipaja Lagos      300,000/year   \n5503          Budland Street, Akiode Berger Ojodu Lagos    1,500,000/year   \n\n                             Date_Added_Updated  \\\n2029    Updated 14 Feb 2023, Added 30 Aug 2022    \n4850    Updated 20 Feb 2023, Added 28 Jan 2023    \n5227                         Added 19 Feb 2023    \n5323    Updated 19 Feb 2023, Added 04 May 2022    \n5503    Updated 19 Feb 2023, Added 06 Sep 2022    \n\n                                            Description             Serviced  \\\n2029   FOR RENT: Brokerfield presents this completel...    FurnishedServiced   \n4850   FOR RENT: 3 bedroom Condominium with a bq fr ...          Newly Built   \n5227   FOR RENT: 45sq open space directly on Adeniyi...  ServicedNewly Built   \n5323   FOR RENT: Very spacious land. Good for church...                  NaN   \n5503   FOR RENT: 75sq meters hall with 4 rooms and a...                  NaN   \n\n            Bed_Bath_Toilet Listing_Type        Price   Period Size  \n2029   beds baths10 Toilets         Rent  110000000.0     year       \n4850                    NaN         Rent    9000000.0     year       \n5227                    NaN         Rent     800000.0  800,000       \n5323                    NaN         Rent     300000.0     year       \n5503                    NaN         Rent    1500000.0     year       ",
      "text/html": "<div>\n<style scoped>\n    .dataframe tbody tr th:only-of-type {\n        vertical-align: middle;\n    }\n\n    .dataframe tbody tr th {\n        vertical-align: top;\n    }\n\n    .dataframe thead th {\n        text-align: right;\n    }\n</style>\n<table border=\"1\" class=\"dataframe\">\n  <thead>\n    <tr style=\"text-align: right;\">\n      <th></th>\n      <th>Location</th>\n      <th>Price_Period</th>\n      <th>Date_Added_Updated</th>\n      <th>Description</th>\n      <th>Serviced</th>\n      <th>Bed_Bath_Toilet</th>\n      <th>Listing_Type</th>\n      <th>Price</th>\n      <th>Period</th>\n      <th>Size</th>\n    </tr>\n  </thead>\n  <tbody>\n    <tr>\n      <th>2029</th>\n      <td>Ff Millennium Towers Ligali Ayorinde Victoria ...</td>\n      <td>110,000,000/year</td>\n      <td>Updated 14 Feb 2023, Added 30 Aug 2022</td>\n      <td>FOR RENT: Brokerfield presents this completel...</td>\n      <td>FurnishedServiced</td>\n      <td>beds baths10 Toilets</td>\n      <td>Rent</td>\n      <td>110000000.0</td>\n      <td>year</td>\n      <td></td>\n    </tr>\n    <tr>\n      <th>4850</th>\n      <td>Ikoyi Lagos</td>\n      <td>9,000,000/year</td>\n      <td>Updated 20 Feb 2023, Added 28 Jan 2023</td>\n      <td>FOR RENT: 3 bedroom Condominium with a bq fr ...</td>\n      <td>Newly Built</td>\n      <td>NaN</td>\n      <td>Rent</td>\n      <td>9000000.0</td>\n      <td>year</td>\n      <td></td>\n    </tr>\n    <tr>\n      <th>5227</th>\n      <td>Adeniyi Jones Ikeja Lagos</td>\n      <td>800,000</td>\n      <td>Added 19 Feb 2023</td>\n      <td>FOR RENT: 45sq open space directly on Adeniyi...</td>\n      <td>ServicedNewly Built</td>\n      <td>NaN</td>\n      <td>Rent</td>\n      <td>800000.0</td>\n      <td>800,000</td>\n      <td></td>\n    </tr>\n    <tr>\n      <th>5323</th>\n      <td>Off Ayo Afolabi Bus Stop, Aboru Ipaja Lagos</td>\n      <td>300,000/year</td>\n      <td>Updated 19 Feb 2023, Added 04 May 2022</td>\n      <td>FOR RENT: Very spacious land. Good for church...</td>\n      <td>NaN</td>\n      <td>NaN</td>\n      <td>Rent</td>\n      <td>300000.0</td>\n      <td>year</td>\n      <td></td>\n    </tr>\n    <tr>\n      <th>5503</th>\n      <td>Budland Street, Akiode Berger Ojodu Lagos</td>\n      <td>1,500,000/year</td>\n      <td>Updated 19 Feb 2023, Added 06 Sep 2022</td>\n      <td>FOR RENT: 75sq meters hall with 4 rooms and a...</td>\n      <td>NaN</td>\n      <td>NaN</td>\n      <td>Rent</td>\n      <td>1500000.0</td>\n      <td>year</td>\n      <td></td>\n    </tr>\n  </tbody>\n</table>\n</div>"
     },
     "execution_count": 22,
     "metadata": {},
     "output_type": "execute_result"
    }
   ],
   "source": [
    "df.loc[df['Size'] == ''].head()"
   ],
   "metadata": {
    "collapsed": false
   }
  },
  {
   "cell_type": "code",
   "execution_count": 23,
   "outputs": [
    {
     "data": {
      "text/plain": "Unknown    16910\n220sqm         6\n1000sqm        6\n250sqm         5\n350sqm         5\nName: Size, dtype: int64"
     },
     "execution_count": 23,
     "metadata": {},
     "output_type": "execute_result"
    }
   ],
   "source": [
    "df['Size'] = df['Description'].apply(\n",
    "    lambda x: re.findall('\\d+ \\w+|\\d+\\w+|'\n",
    "                         '\\d+,\\d+ \\w+|\\d+,\\d+\\w+|'\n",
    "                         '\\d+ per sq|\\d+,\\d+ per sq|'\n",
    "                         '\\d+per sq|\\d+,\\d+per sq|'\n",
    "                         '\\d+/\\w+|\\d+,\\d+/\\w+|'\n",
    "                         '\\d+k per sq', x) if 'sq' in x else 'Unknown')\n",
    "df['Size'] = df['Size'].apply(lambda x: ''.join(map(str, x)))\n",
    "df['Size'].value_counts().head()"
   ],
   "metadata": {
    "collapsed": false
   }
  },
  {
   "cell_type": "code",
   "execution_count": 24,
   "outputs": [
    {
     "data": {
      "text/plain": "                                                Location     Price_Period  \\\n5323         Off Ayo Afolabi Bus Stop, Aboru Ipaja Lagos     300,000/year   \n6905                Marshy Hill Estate Badore Ajah Lagos   1,200,000/year   \n6949   Walter Carrington Crescent, Victoria Island Vi...  14,000,000/year   \n17227  Directly On Major Road Admiralty Lekki Phase 1...    7,000,000/sqm   \n\n                              Date_Added_Updated  \\\n5323     Updated 19 Feb 2023, Added 04 May 2022    \n6905                          Added 15 Feb 2023    \n6949     Updated 15 Feb 2023, Added 26 Jul 2022    \n17227    Updated 18 Jul 2022, Added 23 Jun 2022    \n\n                                             Description  Serviced  \\\n5323    FOR RENT: Very spacious land. Good for church...       NaN   \n6905    FOR RENT: Esquisitely finished apartment with...       NaN   \n6949    FOR RENT: Unfurnished three bed overlooking t...  Serviced   \n17227   FOR RENT: Shop's Space for Rent: we have diff...       NaN   \n\n              Bed_Bath_Toilet Listing_Type       Price Period Size  \n5323                      NaN         Rent    300000.0   year       \n6905   2 beds2 baths3 Toilets         Rent   1200000.0   year       \n6949       beds baths Toilets         Rent  14000000.0   year       \n17227  0 beds0 baths9 Toilets         Rent   7000000.0    sqm       ",
      "text/html": "<div>\n<style scoped>\n    .dataframe tbody tr th:only-of-type {\n        vertical-align: middle;\n    }\n\n    .dataframe tbody tr th {\n        vertical-align: top;\n    }\n\n    .dataframe thead th {\n        text-align: right;\n    }\n</style>\n<table border=\"1\" class=\"dataframe\">\n  <thead>\n    <tr style=\"text-align: right;\">\n      <th></th>\n      <th>Location</th>\n      <th>Price_Period</th>\n      <th>Date_Added_Updated</th>\n      <th>Description</th>\n      <th>Serviced</th>\n      <th>Bed_Bath_Toilet</th>\n      <th>Listing_Type</th>\n      <th>Price</th>\n      <th>Period</th>\n      <th>Size</th>\n    </tr>\n  </thead>\n  <tbody>\n    <tr>\n      <th>5323</th>\n      <td>Off Ayo Afolabi Bus Stop, Aboru Ipaja Lagos</td>\n      <td>300,000/year</td>\n      <td>Updated 19 Feb 2023, Added 04 May 2022</td>\n      <td>FOR RENT: Very spacious land. Good for church...</td>\n      <td>NaN</td>\n      <td>NaN</td>\n      <td>Rent</td>\n      <td>300000.0</td>\n      <td>year</td>\n      <td></td>\n    </tr>\n    <tr>\n      <th>6905</th>\n      <td>Marshy Hill Estate Badore Ajah Lagos</td>\n      <td>1,200,000/year</td>\n      <td>Added 15 Feb 2023</td>\n      <td>FOR RENT: Esquisitely finished apartment with...</td>\n      <td>NaN</td>\n      <td>2 beds2 baths3 Toilets</td>\n      <td>Rent</td>\n      <td>1200000.0</td>\n      <td>year</td>\n      <td></td>\n    </tr>\n    <tr>\n      <th>6949</th>\n      <td>Walter Carrington Crescent, Victoria Island Vi...</td>\n      <td>14,000,000/year</td>\n      <td>Updated 15 Feb 2023, Added 26 Jul 2022</td>\n      <td>FOR RENT: Unfurnished three bed overlooking t...</td>\n      <td>Serviced</td>\n      <td>beds baths Toilets</td>\n      <td>Rent</td>\n      <td>14000000.0</td>\n      <td>year</td>\n      <td></td>\n    </tr>\n    <tr>\n      <th>17227</th>\n      <td>Directly On Major Road Admiralty Lekki Phase 1...</td>\n      <td>7,000,000/sqm</td>\n      <td>Updated 18 Jul 2022, Added 23 Jun 2022</td>\n      <td>FOR RENT: Shop's Space for Rent: we have diff...</td>\n      <td>NaN</td>\n      <td>0 beds0 baths9 Toilets</td>\n      <td>Rent</td>\n      <td>7000000.0</td>\n      <td>sqm</td>\n      <td></td>\n    </tr>\n  </tbody>\n</table>\n</div>"
     },
     "execution_count": 24,
     "metadata": {},
     "output_type": "execute_result"
    }
   ],
   "source": [
    "df.loc[df['Size'] == '']"
   ],
   "metadata": {
    "collapsed": false
   }
  },
  {
   "cell_type": "markdown",
   "source": [
    "From our analysis, only 1 record (at index 17227) has no square meter. It seems to be a range of commercial properties, sold at NGN7m per sqm. We'll use 0 for this value"
   ],
   "metadata": {
    "collapsed": false
   }
  },
  {
   "cell_type": "code",
   "execution_count": 25,
   "outputs": [
    {
     "data": {
      "text/plain": "0"
     },
     "execution_count": 25,
     "metadata": {},
     "output_type": "execute_result"
    }
   ],
   "source": [
    "df.at[17227, 'Size'] = 0\n",
    "df['Size'].iloc[17227]"
   ],
   "metadata": {
    "collapsed": false
   }
  },
  {
   "cell_type": "markdown",
   "source": [
    "#### Square Meter v. Square Feet?\n",
    "Let's clean the Size column. We need to clean this column because we'll be using it to update our price column where applicable."
   ],
   "metadata": {
    "collapsed": false
   }
  },
  {
   "cell_type": "code",
   "execution_count": 26,
   "outputs": [
    {
     "data": {
      "text/plain": "Unknown    16910\n220sqm         6\n1000sqm        6\n250sqm         5\n350sqm         5\nName: Size, dtype: int64"
     },
     "execution_count": 26,
     "metadata": {},
     "output_type": "execute_result"
    }
   ],
   "source": [
    "df['Size'].value_counts(dropna=False).head()"
   ],
   "metadata": {
    "collapsed": false
   }
  },
  {
   "cell_type": "code",
   "execution_count": 27,
   "outputs": [],
   "source": [
    "def clean_size(row):\n",
    "    row = str(row)\n",
    "    if re.findall(r'(\\d+) sq', row):\n",
    "        result = re.findall(r'(\\d+) sq', row)[0]\n",
    "    elif re.findall(r'(\\d+)sq', row):\n",
    "        result = re.findall(r'(\\d+)sq', row)[0]\n",
    "    else:\n",
    "        result = row\n",
    "    return result\n",
    "\n",
    "df['Size_Num'] = df['Size'].apply(clean_size)"
   ],
   "metadata": {
    "collapsed": false
   }
  },
  {
   "cell_type": "code",
   "execution_count": 28,
   "outputs": [
    {
     "data": {
      "text/plain": "Unknown    16910\n200           18\n500           18\n300           15\n250           11\nName: Size_Num, dtype: int64"
     },
     "execution_count": 28,
     "metadata": {},
     "output_type": "execute_result"
    }
   ],
   "source": [
    "df['Size_Num'].value_counts().head()"
   ],
   "metadata": {
    "collapsed": false
   }
  },
  {
   "cell_type": "markdown",
   "source": [
    "We'll do some manual cleaning of the remainder erroneous values. In cleaning, we'll consider the Price_Period columns and determine whether the record already provides for annual rent. We're cleaning the size column, so we can multiply it by sqm rent in order to get annual rent. If we already have annual rent, this will be a non-issue.\n",
    "\n",
    "Let's Consider this Size Number - 3 bedroom"
   ],
   "metadata": {
    "collapsed": false
   }
  },
  {
   "cell_type": "code",
   "execution_count": 29,
   "outputs": [],
   "source": [
    "size_discrepancies = ['50k30', '70k5k', '15000 per',\n",
    "                      '110k800 sm', '60k10k', '150k20k', '50k20k10',\n",
    "                      '8500 per', '75k190', '230 and130', '1 ocean60k',\n",
    "                      '1 Rent70000 per', '2,325000']"
   ],
   "metadata": {
    "collapsed": false
   }
  },
  {
   "cell_type": "code",
   "execution_count": 30,
   "outputs": [
    {
     "name": "stdout",
     "output_type": "stream",
     "text": [
      "4889 55,000/sqm  FOR RENT: Well renovated and service office space measuring 230 and130 square meters on t.. Read more \n",
      "10441 2,352,000/year  FOR RENT: Rent N2,325,000 at 75,000/sqm Caution 300,000 Service charge 837,000 exclusive.. Read more \n",
      "10447 2,000,000/year  FOR RENT: Newly Built shop space) office space at Lekki phrase 1 Rent #70,000 per square .. Read more \n",
      "12101 60,000/sqm  FOR RENT: Open office space for rent admaralty way lekki 1 ocean view 60k per sqm.. Read more \n",
      "15151 50,000/sqm  FOR RENT: Rent Office space Amount 50k per sqm Sc 20k per sqm Agency 10%.. Read more \n",
      "15186 50,000/sqm  FOR RENT: For rent Office Space Rent 50k per square meter Service charge: 30% .. Read more \n",
      "15225 150,000/sqm  FOR RENT: Rent Shops space Amount 150k per square meter Sc 20k per square mete.. Read more \n",
      "15369 60,000/sqm  FOR RENT: For rent Office space Rent 60k per square meter Sc 10k per square me.. Read more \n",
      "15464 110,000/sqm  FOR RENT: For rent Office space Rent 110k per sqm Square meter: 800 sm S.. Read more \n",
      "15500 15,000/sqm  FOR RENT: Warehouse for rent 15,000 per square metres .. Read more \n",
      "15507 70,000/sqm  FOR RENT: For rent Shop space Rent 70k per square meter Sc: 5k per square met.. Read more \n",
      "15899 75,000/year  FOR RENT: Office Space For Rent Rent 75k per sqms Sqms 190.. Location: Victoria .. Read more \n",
      "16983 8,500/sqm  FOR RENT: 8500 per sqm per month.. Read more \n"
     ]
    }
   ],
   "source": [
    "for index, row in df.iterrows():\n",
    "    for i in size_discrepancies:\n",
    "        if i in str(row['Size_Num']):\n",
    "            print(index, row['Price_Period'], row['Description'])"
   ],
   "metadata": {
    "collapsed": false
   }
  },
  {
   "cell_type": "code",
   "execution_count": 31,
   "outputs": [],
   "source": [
    "df.at[4889, 'Size_Num'] = 230\n",
    "df.at[15464, 'Size_Num'] = 800\n",
    "df.at[15899, 'Size_Num'] = 190"
   ],
   "metadata": {
    "collapsed": false
   }
  },
  {
   "cell_type": "code",
   "execution_count": 32,
   "outputs": [],
   "source": [
    "size_0s = ['50k30', '70k5k', '15000 per', '60k10k',\n",
    "           '150k20k', '50k20k10', '8500 per',\n",
    "           '1 ocean60k', '1 Rent70000 per', '2,325000']"
   ],
   "metadata": {
    "collapsed": false
   }
  },
  {
   "cell_type": "code",
   "execution_count": 33,
   "outputs": [],
   "source": [
    "for index, row in df.iterrows():\n",
    "    for i in size_discrepancies:\n",
    "        if i in str(row['Size_Num']):\n",
    "            df.at[index, 'Size_Num'] = 0"
   ],
   "metadata": {
    "collapsed": false
   }
  },
  {
   "cell_type": "markdown",
   "source": [
    "Further cleaning of the size_num column below:"
   ],
   "metadata": {
    "collapsed": false
   }
  },
  {
   "cell_type": "code",
   "execution_count": 34,
   "outputs": [
    {
     "name": "stdout",
     "output_type": "stream",
     "text": [
      "4850 9,000,000/year  FOR RENT: 3 bedroom Condominium with a bq fr rent Tennis and squash court Swimming poo.. Read more \n",
      "16091 9,000,000/year  FOR RENT: 3 bedroom Condominium with a bq fr rent Tennis and squash court Swimming poo.. Read more \n",
      "16262 9,000,000/year  FOR RENT: 3 bedroom Condominium with a bq fr rent Tennis and squash court Swimming poo.. Read more \n"
     ]
    }
   ],
   "source": [
    "for index, row in df.iterrows():\n",
    "    if '3 bedroom' in str(row['Size_Num']):\n",
    "        print(index, row['Price_Period'], row['Description'])"
   ],
   "metadata": {
    "collapsed": false
   }
  },
  {
   "cell_type": "markdown",
   "source": [
    "This seems like duplicates. Let's investigate further."
   ],
   "metadata": {
    "collapsed": false
   }
  },
  {
   "cell_type": "code",
   "execution_count": 35,
   "outputs": [
    {
     "data": {
      "text/plain": "          Location    Price_Period                         Date_Added_Updated  \\\n4850   Ikoyi Lagos  9,000,000/year    Updated 20 Feb 2023, Added 28 Jan 2023    \n16091  Ikoyi Lagos  9,000,000/year    Updated 30 Nov 2022, Added 23 Oct 2022    \n16262  Ikoyi Lagos  9,000,000/year    Updated 30 Nov 2022, Added 11 Nov 2022    \n\n                                             Description     Serviced  \\\n4850    FOR RENT: 3 bedroom Condominium with a bq fr ...  Newly Built   \n16091   FOR RENT: 3 bedroom Condominium with a bq fr ...          NaN   \n16262   FOR RENT: 3 bedroom Condominium with a bq fr ...          NaN   \n\n              Bed_Bath_Toilet Listing_Type      Price Period       Size  \\\n4850                      NaN         Rent  9000000.0   year  3 bedroom   \n16091  0 beds0 baths0 Toilets         Rent  9000000.0   year  3 bedroom   \n16262  0 beds0 baths0 Toilets         Rent  9000000.0   year  3 bedroom   \n\n        Size_Num  \n4850   3 bedroom  \n16091  3 bedroom  \n16262  3 bedroom  ",
      "text/html": "<div>\n<style scoped>\n    .dataframe tbody tr th:only-of-type {\n        vertical-align: middle;\n    }\n\n    .dataframe tbody tr th {\n        vertical-align: top;\n    }\n\n    .dataframe thead th {\n        text-align: right;\n    }\n</style>\n<table border=\"1\" class=\"dataframe\">\n  <thead>\n    <tr style=\"text-align: right;\">\n      <th></th>\n      <th>Location</th>\n      <th>Price_Period</th>\n      <th>Date_Added_Updated</th>\n      <th>Description</th>\n      <th>Serviced</th>\n      <th>Bed_Bath_Toilet</th>\n      <th>Listing_Type</th>\n      <th>Price</th>\n      <th>Period</th>\n      <th>Size</th>\n      <th>Size_Num</th>\n    </tr>\n  </thead>\n  <tbody>\n    <tr>\n      <th>4850</th>\n      <td>Ikoyi Lagos</td>\n      <td>9,000,000/year</td>\n      <td>Updated 20 Feb 2023, Added 28 Jan 2023</td>\n      <td>FOR RENT: 3 bedroom Condominium with a bq fr ...</td>\n      <td>Newly Built</td>\n      <td>NaN</td>\n      <td>Rent</td>\n      <td>9000000.0</td>\n      <td>year</td>\n      <td>3 bedroom</td>\n      <td>3 bedroom</td>\n    </tr>\n    <tr>\n      <th>16091</th>\n      <td>Ikoyi Lagos</td>\n      <td>9,000,000/year</td>\n      <td>Updated 30 Nov 2022, Added 23 Oct 2022</td>\n      <td>FOR RENT: 3 bedroom Condominium with a bq fr ...</td>\n      <td>NaN</td>\n      <td>0 beds0 baths0 Toilets</td>\n      <td>Rent</td>\n      <td>9000000.0</td>\n      <td>year</td>\n      <td>3 bedroom</td>\n      <td>3 bedroom</td>\n    </tr>\n    <tr>\n      <th>16262</th>\n      <td>Ikoyi Lagos</td>\n      <td>9,000,000/year</td>\n      <td>Updated 30 Nov 2022, Added 11 Nov 2022</td>\n      <td>FOR RENT: 3 bedroom Condominium with a bq fr ...</td>\n      <td>NaN</td>\n      <td>0 beds0 baths0 Toilets</td>\n      <td>Rent</td>\n      <td>9000000.0</td>\n      <td>year</td>\n      <td>3 bedroom</td>\n      <td>3 bedroom</td>\n    </tr>\n  </tbody>\n</table>\n</div>"
     },
     "execution_count": 35,
     "metadata": {},
     "output_type": "execute_result"
    }
   ],
   "source": [
    "df.iloc[[4850, 16091, 16262]]"
   ],
   "metadata": {
    "collapsed": false
   }
  },
  {
   "cell_type": "markdown",
   "source": [
    "It seems like duplicates so we'll drop 2."
   ],
   "metadata": {
    "collapsed": false
   }
  },
  {
   "cell_type": "code",
   "execution_count": 36,
   "outputs": [],
   "source": [
    "df.drop(labels=[16091,16262], axis=0, inplace=True)"
   ],
   "metadata": {
    "collapsed": false
   }
  },
  {
   "cell_type": "markdown",
   "source": [
    "We'll update Size and Size_num to 0."
   ],
   "metadata": {
    "collapsed": false
   }
  },
  {
   "cell_type": "code",
   "execution_count": 37,
   "outputs": [],
   "source": [
    "df.at[4850, 'Size'] = 0\n",
    "df.at[4850, 'Size_Num'] = 0"
   ],
   "metadata": {
    "collapsed": false
   }
  },
  {
   "cell_type": "code",
   "execution_count": 38,
   "outputs": [
    {
     "data": {
      "text/plain": "0"
     },
     "execution_count": 38,
     "metadata": {},
     "output_type": "execute_result"
    }
   ],
   "source": [
    "df.at[4850, 'Size_Num']"
   ],
   "metadata": {
    "collapsed": false
   }
  },
  {
   "cell_type": "code",
   "execution_count": 39,
   "outputs": [
    {
     "name": "stdout",
     "output_type": "stream",
     "text": [
      "15410 30,000/sqm  FOR RENT: For rent.. 3404.36 sqm Office Building with Warehouse. Price: 30000/sqm .. Read more \n"
     ]
    }
   ],
   "source": [
    "for index, row in df.iterrows():\n",
    "    if '340436' in str(row['Size_Num']):\n",
    "        print(index, row['Price_Period'], row['Description'])"
   ],
   "metadata": {
    "collapsed": false
   }
  },
  {
   "cell_type": "code",
   "execution_count": 40,
   "outputs": [
    {
     "data": {
      "text/plain": "3404.36"
     },
     "execution_count": 40,
     "metadata": {},
     "output_type": "execute_result"
    }
   ],
   "source": [
    "df.at[15410, 'Size_Num'] = 3404.36\n",
    "df.at[15410, 'Size_Num']"
   ],
   "metadata": {
    "collapsed": false
   }
  },
  {
   "cell_type": "code",
   "execution_count": 41,
   "outputs": [
    {
     "name": "stdout",
     "output_type": "stream",
     "text": [
      "12571 1,000,000  FOR RENT: JV (Development Lease) - Ikoyi. We have a land measuring 3032.800 square mete.. Read more \n"
     ]
    }
   ],
   "source": [
    "for index, row in df.iterrows():\n",
    "    if '3032800' in str(row['Size_Num']):\n",
    "        print(index, row['Price_Period'], row['Description'])"
   ],
   "metadata": {
    "collapsed": false
   }
  },
  {
   "cell_type": "code",
   "execution_count": 42,
   "outputs": [
    {
     "data": {
      "text/plain": "3032.8"
     },
     "execution_count": 42,
     "metadata": {},
     "output_type": "execute_result"
    }
   ],
   "source": [
    "df.at[12571, 'Size_Num'] = 3032.800\n",
    "df.at[12571, 'Size_Num']"
   ],
   "metadata": {
    "collapsed": false
   }
  },
  {
   "cell_type": "code",
   "execution_count": 43,
   "outputs": [
    {
     "data": {
      "text/plain": "0"
     },
     "execution_count": 43,
     "metadata": {},
     "output_type": "execute_result"
    }
   ],
   "source": [
    "df.at[6245, 'Size_Num'] = 0\n",
    "df.at[6245, 'Size_Num']"
   ],
   "metadata": {
    "collapsed": false
   }
  },
  {
   "cell_type": "code",
   "execution_count": 44,
   "outputs": [],
   "source": [
    "df['Size_Num'] = df['Size_Num'].str.strip()"
   ],
   "metadata": {
    "collapsed": false
   }
  },
  {
   "cell_type": "code",
   "execution_count": 46,
   "outputs": [
    {
     "data": {
      "text/plain": "200.0    18\n500.0    18\n300.0    15\n250.0    11\n100.0    10\nName: Size_Num, dtype: int64"
     },
     "execution_count": 46,
     "metadata": {},
     "output_type": "execute_result"
    }
   ],
   "source": [
    "df['Size_Num'] = df['Size_Num'].apply(lambda x: np.nan if x == 'Unknown' or x == '' else float(x))\n",
    "df['Size_Num'].value_counts().head()"
   ],
   "metadata": {
    "collapsed": false
   }
  },
  {
   "cell_type": "code",
   "execution_count": 47,
   "outputs": [
    {
     "name": "stdout",
     "output_type": "stream",
     "text": [
      "483 3,000/sqm  FOR RENT: Very clean warehouse measuring 6300 sqft for lease in a ikeja for 3000 per sqm.. Read more \n",
      "491 3,000/sqm  FOR RENT: This Warehouse is 90,000 sqft on Land size of 6 Acres at ACME ROAD OGBA, PRICE #.. Read more \n",
      "4880 15,000,000/year  FOR RENT: Semi direct...Massive Warehouse measuring 9000 sqft good for storage at Ago pala.. Read more \n",
      "5288 2,000/sqm  FOR RENT: 60,000 sqft warehouse for lease off Oregun Ikeja road, N2K per sqft.. Read more \n",
      "6605 20,000,000/year  FOR RENT: A warehouse of 10000sqft for lease in amuwo.. Read more \n",
      "12903 2,000/sqm  FOR RENT: WAREHOUSE......Letting @Amuwo odofin. 18,600sqft 25,000sqft 21,000sqft 8000.. Read more \n",
      "13008 2,200,000/sqm  FOR RENT: 2,200 per sqft Warehouse Size ....33,000 sqft.. Read more \n",
      "13293 20,000,000/year  FOR RENT: A warehouse of 15000 sqft with a large compound both up and down for lease at am.. Read more \n",
      "13326 2,000  FOR RENT: Sizes of 19,000sqft, 8,,[email protected] N2,000 per sqft .. Read more \n",
      "15898 3,500/sqm  FOR RENT: Warehouse for lease - 7427 sqft Price - 3500/sqft.. Read more \n",
      "16492 22,257,000/year  FOR RENT: Location: Matori. For Lease warehouse with office of 7,419 sqft high roof, excl.. Read more \n",
      "16509 106,000,000/year  FOR RENT: Location: Oregun ikeja Lagos For Lease warehouse with office of 53,000 sqft hig.. Read more \n",
      "16510 88,000,000/year  FOR RENT: Location: Oshodi Apapa express road For Lease warehouse of 44,000 sqft high roo.. Read more \n",
      "16515 49,400,000/year  FOR RENT: Location: Oregun industrial area For lease warehouse capacity of 26,000sqft in.. Read more \n",
      "16525 47,500,000/year  FOR RENT: Location: Oregun Ikeja For lease warehouse capacity of 25,000sqft in a spaciou.. Read more \n",
      "16526 40,000,000/year  FOR RENT: Location: Oshoi Apapa express way For Lease warehouse capacity of 20,000 sqft w.. Read more \n",
      "17166 1,900/sqm  FOR RENT: For lease; A two bay 2,600sqft warehouse @ off billings way Oregun. Rate:N.. Read more \n"
     ]
    }
   ],
   "source": [
    "for index, row in df.iterrows():\n",
    "    if 'sqft' in row['Description']:\n",
    "        print(index, row['Price_Period'], row['Description'])"
   ],
   "metadata": {
    "collapsed": false
   }
  },
  {
   "cell_type": "code",
   "execution_count": 48,
   "outputs": [],
   "source": [
    "df.at[483, 'Size_Num'] = 585.2892\n",
    "df.at[491, 'Size_Num'] = 8361.2736\n",
    "df.at[5288, 'Size_Num'] = 5574.1824\n",
    "df.at[12903, 'Size_Num'] = 1727.9965\n",
    "df.at[13008, 'Size_Num'] = 3065.8003\n",
    "df.at[13326, 'Size_Num'] = 1765.1578\n",
    "df.at[15898, 'Size_Num'] = 689.9909\n",
    "df.at[17166, 'Size_Num'] = 241.5479"
   ],
   "metadata": {
    "collapsed": false
   }
  },
  {
   "cell_type": "code",
   "execution_count": 50,
   "outputs": [
    {
     "data": {
      "text/plain": "NaN      16930\n200.0       18\n500.0       18\n300.0       15\n250.0       11\nName: Size_Num, dtype: int64"
     },
     "execution_count": 50,
     "metadata": {},
     "output_type": "execute_result"
    }
   ],
   "source": [
    "df['Size_Num'].value_counts(dropna=False).head()"
   ],
   "metadata": {
    "collapsed": false
   }
  },
  {
   "cell_type": "code",
   "execution_count": 51,
   "outputs": [
    {
     "data": {
      "text/plain": "                            Location    Price_Period  \\\n0  Bakare Estate Chevron Lekki Lagos  4,000,000/year   \n1      Phase 2 Estate, Gbagada Lagos  5,500,000/year   \n2                 Oregun Ikeja Lagos  1,200,000/year   \n3                  Opebi Ikeja Lagos  1,500,000/year   \n4                  Ikota Lekki Lagos  8,000,000/year   \n\n                          Date_Added_Updated  \\\n0    Updated 19 Feb 2023, Added 14 Feb 2023    \n1    Updated 19 Feb 2023, Added 15 Feb 2023    \n2    Updated 19 Feb 2023, Added 04 Jan 2023    \n3    Updated 19 Feb 2023, Added 09 Dec 2022    \n4    Updated 19 Feb 2023, Added 09 Feb 2023    \n\n                                         Description             Serviced  \\\n0   FOR RENT: BRAND NEW WELL SPACED DUPLEX IN A S...  ServicedNewly Built   \n1   FOR RENT: RELATIVELY NEW 4 BEDROOM DUPLEX!!! ...                  NaN   \n2   FOR RENT: A basic 2 bedroom apartment in a lo...                  NaN   \n3   FOR RENT: Lovely 2 bedrooms flat in opebi, up...          Newly Built   \n4   FOR RENT: FOR RENT: Luxury 5 Bedroom Detached...          Newly Built   \n\n          Bed_Bath_Toilet Listing_Type      Price Period     Size  Size_Num  \n0  3 beds3 baths4 Toilets         Rent  4000000.0   year  Unknown       NaN  \n1  4 beds5 baths5 Toilets         Rent  5500000.0   year  Unknown       NaN  \n2  2 beds2 baths2 Toilets         Rent  1200000.0   year  Unknown       NaN  \n3  2 beds1 baths1 Toilets         Rent  1500000.0   year  Unknown       NaN  \n4  5 beds6 baths7 Toilets         Rent  8000000.0   year  Unknown       NaN  ",
      "text/html": "<div>\n<style scoped>\n    .dataframe tbody tr th:only-of-type {\n        vertical-align: middle;\n    }\n\n    .dataframe tbody tr th {\n        vertical-align: top;\n    }\n\n    .dataframe thead th {\n        text-align: right;\n    }\n</style>\n<table border=\"1\" class=\"dataframe\">\n  <thead>\n    <tr style=\"text-align: right;\">\n      <th></th>\n      <th>Location</th>\n      <th>Price_Period</th>\n      <th>Date_Added_Updated</th>\n      <th>Description</th>\n      <th>Serviced</th>\n      <th>Bed_Bath_Toilet</th>\n      <th>Listing_Type</th>\n      <th>Price</th>\n      <th>Period</th>\n      <th>Size</th>\n      <th>Size_Num</th>\n    </tr>\n  </thead>\n  <tbody>\n    <tr>\n      <th>0</th>\n      <td>Bakare Estate Chevron Lekki Lagos</td>\n      <td>4,000,000/year</td>\n      <td>Updated 19 Feb 2023, Added 14 Feb 2023</td>\n      <td>FOR RENT: BRAND NEW WELL SPACED DUPLEX IN A S...</td>\n      <td>ServicedNewly Built</td>\n      <td>3 beds3 baths4 Toilets</td>\n      <td>Rent</td>\n      <td>4000000.0</td>\n      <td>year</td>\n      <td>Unknown</td>\n      <td>NaN</td>\n    </tr>\n    <tr>\n      <th>1</th>\n      <td>Phase 2 Estate, Gbagada Lagos</td>\n      <td>5,500,000/year</td>\n      <td>Updated 19 Feb 2023, Added 15 Feb 2023</td>\n      <td>FOR RENT: RELATIVELY NEW 4 BEDROOM DUPLEX!!! ...</td>\n      <td>NaN</td>\n      <td>4 beds5 baths5 Toilets</td>\n      <td>Rent</td>\n      <td>5500000.0</td>\n      <td>year</td>\n      <td>Unknown</td>\n      <td>NaN</td>\n    </tr>\n    <tr>\n      <th>2</th>\n      <td>Oregun Ikeja Lagos</td>\n      <td>1,200,000/year</td>\n      <td>Updated 19 Feb 2023, Added 04 Jan 2023</td>\n      <td>FOR RENT: A basic 2 bedroom apartment in a lo...</td>\n      <td>NaN</td>\n      <td>2 beds2 baths2 Toilets</td>\n      <td>Rent</td>\n      <td>1200000.0</td>\n      <td>year</td>\n      <td>Unknown</td>\n      <td>NaN</td>\n    </tr>\n    <tr>\n      <th>3</th>\n      <td>Opebi Ikeja Lagos</td>\n      <td>1,500,000/year</td>\n      <td>Updated 19 Feb 2023, Added 09 Dec 2022</td>\n      <td>FOR RENT: Lovely 2 bedrooms flat in opebi, up...</td>\n      <td>Newly Built</td>\n      <td>2 beds1 baths1 Toilets</td>\n      <td>Rent</td>\n      <td>1500000.0</td>\n      <td>year</td>\n      <td>Unknown</td>\n      <td>NaN</td>\n    </tr>\n    <tr>\n      <th>4</th>\n      <td>Ikota Lekki Lagos</td>\n      <td>8,000,000/year</td>\n      <td>Updated 19 Feb 2023, Added 09 Feb 2023</td>\n      <td>FOR RENT: FOR RENT: Luxury 5 Bedroom Detached...</td>\n      <td>Newly Built</td>\n      <td>5 beds6 baths7 Toilets</td>\n      <td>Rent</td>\n      <td>8000000.0</td>\n      <td>year</td>\n      <td>Unknown</td>\n      <td>NaN</td>\n    </tr>\n  </tbody>\n</table>\n</div>"
     },
     "execution_count": 51,
     "metadata": {},
     "output_type": "execute_result"
    }
   ],
   "source": [
    "df.head()"
   ],
   "metadata": {
    "collapsed": false
   }
  },
  {
   "cell_type": "code",
   "execution_count": 52,
   "outputs": [
    {
     "data": {
      "text/plain": "year         16237\nsqm            310\nmonth          101\nday             62\n3,000,000       32\nName: Period, dtype: int64"
     },
     "execution_count": 52,
     "metadata": {},
     "output_type": "execute_result"
    }
   ],
   "source": [
    "df.Period.value_counts().head()"
   ],
   "metadata": {
    "collapsed": false
   }
  },
  {
   "cell_type": "markdown",
   "source": [
    "Let's get the annual value for listings in sqm, month and day."
   ],
   "metadata": {
    "collapsed": false
   }
  },
  {
   "cell_type": "code",
   "execution_count": 53,
   "outputs": [],
   "source": [
    "for index, row in df.iterrows():\n",
    "    if row['Period'] == 'sqm':\n",
    "        df.at[index, 'Price_1'] = row['Price'] * row['Size_Num']"
   ],
   "metadata": {
    "collapsed": false
   }
  },
  {
   "cell_type": "markdown",
   "source": [
    "We'll use Price_1 where calculation has been done to replace the sqm values in the price column."
   ],
   "metadata": {
    "collapsed": false
   }
  },
  {
   "cell_type": "code",
   "execution_count": 54,
   "outputs": [],
   "source": [
    "for index, row in df.iterrows():\n",
    "    if row['Price'] < row['Price_1']:\n",
    "        df.at[index, 'Price'] = row['Price_1']"
   ],
   "metadata": {
    "collapsed": false
   }
  },
  {
   "cell_type": "markdown",
   "source": [
    "Let's do the same for month and day."
   ],
   "metadata": {
    "collapsed": false
   }
  },
  {
   "cell_type": "code",
   "execution_count": 55,
   "outputs": [],
   "source": [
    "for index, row in df.iterrows():\n",
    "    if row['Period'] == 'month':\n",
    "        df.at[index, 'Price'] = row['Price'] * 12\n",
    "\n",
    "for index, row in df.iterrows():\n",
    "    if row['Period'] == 'day':\n",
    "        df.at[index, 'Price'] = row['Price'] * 365"
   ],
   "metadata": {
    "collapsed": false
   }
  },
  {
   "cell_type": "code",
   "execution_count": 56,
   "outputs": [
    {
     "data": {
      "text/plain": "                            Location    Price_Period  \\\n0  Bakare Estate Chevron Lekki Lagos  4,000,000/year   \n1      Phase 2 Estate, Gbagada Lagos  5,500,000/year   \n2                 Oregun Ikeja Lagos  1,200,000/year   \n3                  Opebi Ikeja Lagos  1,500,000/year   \n4                  Ikota Lekki Lagos  8,000,000/year   \n\n                          Date_Added_Updated  \\\n0    Updated 19 Feb 2023, Added 14 Feb 2023    \n1    Updated 19 Feb 2023, Added 15 Feb 2023    \n2    Updated 19 Feb 2023, Added 04 Jan 2023    \n3    Updated 19 Feb 2023, Added 09 Dec 2022    \n4    Updated 19 Feb 2023, Added 09 Feb 2023    \n\n                                         Description             Serviced  \\\n0   FOR RENT: BRAND NEW WELL SPACED DUPLEX IN A S...  ServicedNewly Built   \n1   FOR RENT: RELATIVELY NEW 4 BEDROOM DUPLEX!!! ...                  NaN   \n2   FOR RENT: A basic 2 bedroom apartment in a lo...                  NaN   \n3   FOR RENT: Lovely 2 bedrooms flat in opebi, up...          Newly Built   \n4   FOR RENT: FOR RENT: Luxury 5 Bedroom Detached...          Newly Built   \n\n          Bed_Bath_Toilet Listing_Type      Price Period     Size  Size_Num  \\\n0  3 beds3 baths4 Toilets         Rent  4000000.0   year  Unknown       NaN   \n1  4 beds5 baths5 Toilets         Rent  5500000.0   year  Unknown       NaN   \n2  2 beds2 baths2 Toilets         Rent  1200000.0   year  Unknown       NaN   \n3  2 beds1 baths1 Toilets         Rent  1500000.0   year  Unknown       NaN   \n4  5 beds6 baths7 Toilets         Rent  8000000.0   year  Unknown       NaN   \n\n   Price_1  \n0      NaN  \n1      NaN  \n2      NaN  \n3      NaN  \n4      NaN  ",
      "text/html": "<div>\n<style scoped>\n    .dataframe tbody tr th:only-of-type {\n        vertical-align: middle;\n    }\n\n    .dataframe tbody tr th {\n        vertical-align: top;\n    }\n\n    .dataframe thead th {\n        text-align: right;\n    }\n</style>\n<table border=\"1\" class=\"dataframe\">\n  <thead>\n    <tr style=\"text-align: right;\">\n      <th></th>\n      <th>Location</th>\n      <th>Price_Period</th>\n      <th>Date_Added_Updated</th>\n      <th>Description</th>\n      <th>Serviced</th>\n      <th>Bed_Bath_Toilet</th>\n      <th>Listing_Type</th>\n      <th>Price</th>\n      <th>Period</th>\n      <th>Size</th>\n      <th>Size_Num</th>\n      <th>Price_1</th>\n    </tr>\n  </thead>\n  <tbody>\n    <tr>\n      <th>0</th>\n      <td>Bakare Estate Chevron Lekki Lagos</td>\n      <td>4,000,000/year</td>\n      <td>Updated 19 Feb 2023, Added 14 Feb 2023</td>\n      <td>FOR RENT: BRAND NEW WELL SPACED DUPLEX IN A S...</td>\n      <td>ServicedNewly Built</td>\n      <td>3 beds3 baths4 Toilets</td>\n      <td>Rent</td>\n      <td>4000000.0</td>\n      <td>year</td>\n      <td>Unknown</td>\n      <td>NaN</td>\n      <td>NaN</td>\n    </tr>\n    <tr>\n      <th>1</th>\n      <td>Phase 2 Estate, Gbagada Lagos</td>\n      <td>5,500,000/year</td>\n      <td>Updated 19 Feb 2023, Added 15 Feb 2023</td>\n      <td>FOR RENT: RELATIVELY NEW 4 BEDROOM DUPLEX!!! ...</td>\n      <td>NaN</td>\n      <td>4 beds5 baths5 Toilets</td>\n      <td>Rent</td>\n      <td>5500000.0</td>\n      <td>year</td>\n      <td>Unknown</td>\n      <td>NaN</td>\n      <td>NaN</td>\n    </tr>\n    <tr>\n      <th>2</th>\n      <td>Oregun Ikeja Lagos</td>\n      <td>1,200,000/year</td>\n      <td>Updated 19 Feb 2023, Added 04 Jan 2023</td>\n      <td>FOR RENT: A basic 2 bedroom apartment in a lo...</td>\n      <td>NaN</td>\n      <td>2 beds2 baths2 Toilets</td>\n      <td>Rent</td>\n      <td>1200000.0</td>\n      <td>year</td>\n      <td>Unknown</td>\n      <td>NaN</td>\n      <td>NaN</td>\n    </tr>\n    <tr>\n      <th>3</th>\n      <td>Opebi Ikeja Lagos</td>\n      <td>1,500,000/year</td>\n      <td>Updated 19 Feb 2023, Added 09 Dec 2022</td>\n      <td>FOR RENT: Lovely 2 bedrooms flat in opebi, up...</td>\n      <td>Newly Built</td>\n      <td>2 beds1 baths1 Toilets</td>\n      <td>Rent</td>\n      <td>1500000.0</td>\n      <td>year</td>\n      <td>Unknown</td>\n      <td>NaN</td>\n      <td>NaN</td>\n    </tr>\n    <tr>\n      <th>4</th>\n      <td>Ikota Lekki Lagos</td>\n      <td>8,000,000/year</td>\n      <td>Updated 19 Feb 2023, Added 09 Feb 2023</td>\n      <td>FOR RENT: FOR RENT: Luxury 5 Bedroom Detached...</td>\n      <td>Newly Built</td>\n      <td>5 beds6 baths7 Toilets</td>\n      <td>Rent</td>\n      <td>8000000.0</td>\n      <td>year</td>\n      <td>Unknown</td>\n      <td>NaN</td>\n      <td>NaN</td>\n    </tr>\n  </tbody>\n</table>\n</div>"
     },
     "execution_count": 56,
     "metadata": {},
     "output_type": "execute_result"
    }
   ],
   "source": [
    "df.head()"
   ],
   "metadata": {
    "collapsed": false
   }
  },
  {
   "cell_type": "markdown",
   "source": [
    "We'll drop the cleaning columns - Size, Size_Num, Price_1"
   ],
   "metadata": {
    "collapsed": false
   }
  },
  {
   "cell_type": "code",
   "execution_count": 57,
   "outputs": [
    {
     "data": {
      "text/plain": "                            Location    Price_Period  \\\n0  Bakare Estate Chevron Lekki Lagos  4,000,000/year   \n1      Phase 2 Estate, Gbagada Lagos  5,500,000/year   \n2                 Oregun Ikeja Lagos  1,200,000/year   \n3                  Opebi Ikeja Lagos  1,500,000/year   \n4                  Ikota Lekki Lagos  8,000,000/year   \n\n                          Date_Added_Updated  \\\n0    Updated 19 Feb 2023, Added 14 Feb 2023    \n1    Updated 19 Feb 2023, Added 15 Feb 2023    \n2    Updated 19 Feb 2023, Added 04 Jan 2023    \n3    Updated 19 Feb 2023, Added 09 Dec 2022    \n4    Updated 19 Feb 2023, Added 09 Feb 2023    \n\n                                         Description             Serviced  \\\n0   FOR RENT: BRAND NEW WELL SPACED DUPLEX IN A S...  ServicedNewly Built   \n1   FOR RENT: RELATIVELY NEW 4 BEDROOM DUPLEX!!! ...                  NaN   \n2   FOR RENT: A basic 2 bedroom apartment in a lo...                  NaN   \n3   FOR RENT: Lovely 2 bedrooms flat in opebi, up...          Newly Built   \n4   FOR RENT: FOR RENT: Luxury 5 Bedroom Detached...          Newly Built   \n\n          Bed_Bath_Toilet Listing_Type      Price Period  \n0  3 beds3 baths4 Toilets         Rent  4000000.0   year  \n1  4 beds5 baths5 Toilets         Rent  5500000.0   year  \n2  2 beds2 baths2 Toilets         Rent  1200000.0   year  \n3  2 beds1 baths1 Toilets         Rent  1500000.0   year  \n4  5 beds6 baths7 Toilets         Rent  8000000.0   year  ",
      "text/html": "<div>\n<style scoped>\n    .dataframe tbody tr th:only-of-type {\n        vertical-align: middle;\n    }\n\n    .dataframe tbody tr th {\n        vertical-align: top;\n    }\n\n    .dataframe thead th {\n        text-align: right;\n    }\n</style>\n<table border=\"1\" class=\"dataframe\">\n  <thead>\n    <tr style=\"text-align: right;\">\n      <th></th>\n      <th>Location</th>\n      <th>Price_Period</th>\n      <th>Date_Added_Updated</th>\n      <th>Description</th>\n      <th>Serviced</th>\n      <th>Bed_Bath_Toilet</th>\n      <th>Listing_Type</th>\n      <th>Price</th>\n      <th>Period</th>\n    </tr>\n  </thead>\n  <tbody>\n    <tr>\n      <th>0</th>\n      <td>Bakare Estate Chevron Lekki Lagos</td>\n      <td>4,000,000/year</td>\n      <td>Updated 19 Feb 2023, Added 14 Feb 2023</td>\n      <td>FOR RENT: BRAND NEW WELL SPACED DUPLEX IN A S...</td>\n      <td>ServicedNewly Built</td>\n      <td>3 beds3 baths4 Toilets</td>\n      <td>Rent</td>\n      <td>4000000.0</td>\n      <td>year</td>\n    </tr>\n    <tr>\n      <th>1</th>\n      <td>Phase 2 Estate, Gbagada Lagos</td>\n      <td>5,500,000/year</td>\n      <td>Updated 19 Feb 2023, Added 15 Feb 2023</td>\n      <td>FOR RENT: RELATIVELY NEW 4 BEDROOM DUPLEX!!! ...</td>\n      <td>NaN</td>\n      <td>4 beds5 baths5 Toilets</td>\n      <td>Rent</td>\n      <td>5500000.0</td>\n      <td>year</td>\n    </tr>\n    <tr>\n      <th>2</th>\n      <td>Oregun Ikeja Lagos</td>\n      <td>1,200,000/year</td>\n      <td>Updated 19 Feb 2023, Added 04 Jan 2023</td>\n      <td>FOR RENT: A basic 2 bedroom apartment in a lo...</td>\n      <td>NaN</td>\n      <td>2 beds2 baths2 Toilets</td>\n      <td>Rent</td>\n      <td>1200000.0</td>\n      <td>year</td>\n    </tr>\n    <tr>\n      <th>3</th>\n      <td>Opebi Ikeja Lagos</td>\n      <td>1,500,000/year</td>\n      <td>Updated 19 Feb 2023, Added 09 Dec 2022</td>\n      <td>FOR RENT: Lovely 2 bedrooms flat in opebi, up...</td>\n      <td>Newly Built</td>\n      <td>2 beds1 baths1 Toilets</td>\n      <td>Rent</td>\n      <td>1500000.0</td>\n      <td>year</td>\n    </tr>\n    <tr>\n      <th>4</th>\n      <td>Ikota Lekki Lagos</td>\n      <td>8,000,000/year</td>\n      <td>Updated 19 Feb 2023, Added 09 Feb 2023</td>\n      <td>FOR RENT: FOR RENT: Luxury 5 Bedroom Detached...</td>\n      <td>Newly Built</td>\n      <td>5 beds6 baths7 Toilets</td>\n      <td>Rent</td>\n      <td>8000000.0</td>\n      <td>year</td>\n    </tr>\n  </tbody>\n</table>\n</div>"
     },
     "execution_count": 57,
     "metadata": {},
     "output_type": "execute_result"
    }
   ],
   "source": [
    "df.drop(columns=['Size', 'Size_Num', 'Price_1'], inplace=True)\n",
    "df.head()"
   ],
   "metadata": {
    "collapsed": false
   }
  },
  {
   "cell_type": "markdown",
   "source": [
    "#### Cleaning Beds, Baths and Toilets\n",
    "We can now move on to cleaning the Bed_Bath_Toilet feature. There are about 2000 null values in this feature. Let's analyze."
   ],
   "metadata": {
    "collapsed": false
   }
  },
  {
   "cell_type": "code",
   "execution_count": 58,
   "outputs": [
    {
     "name": "stdout",
     "output_type": "stream",
     "text": [
      "<class 'pandas.core.series.Series'>\n",
      "Int64Index: 17399 entries, 0 to 17400\n",
      "Series name: Bed_Bath_Toilet\n",
      "Non-Null Count  Dtype \n",
      "--------------  ----- \n",
      "15350 non-null  object\n",
      "dtypes: object(1)\n",
      "memory usage: 787.9+ KB\n"
     ]
    }
   ],
   "source": [
    "df['Bed_Bath_Toilet'].info()"
   ],
   "metadata": {
    "collapsed": false
   }
  },
  {
   "cell_type": "code",
   "execution_count": 59,
   "outputs": [
    {
     "data": {
      "text/plain": "0 beds0 baths0 Toilets    5140\nNaN                       2049\n3 beds3 baths4 Toilets    1467\n4 beds4 baths5 Toilets    1398\n2 beds2 baths3 Toilets    1228\nName: Bed_Bath_Toilet, dtype: int64"
     },
     "execution_count": 59,
     "metadata": {},
     "output_type": "execute_result"
    }
   ],
   "source": [
    "df['Bed_Bath_Toilet'].value_counts(dropna=False).head()"
   ],
   "metadata": {
    "collapsed": false
   }
  },
  {
   "cell_type": "code",
   "execution_count": 60,
   "outputs": [
    {
     "data": {
      "text/plain": "                            Location    Price_Period  \\\n0  Bakare Estate Chevron Lekki Lagos  4,000,000/year   \n1      Phase 2 Estate, Gbagada Lagos  5,500,000/year   \n2                 Oregun Ikeja Lagos  1,200,000/year   \n3                  Opebi Ikeja Lagos  1,500,000/year   \n4                  Ikota Lekki Lagos  8,000,000/year   \n\n                          Date_Added_Updated  \\\n0    Updated 19 Feb 2023, Added 14 Feb 2023    \n1    Updated 19 Feb 2023, Added 15 Feb 2023    \n2    Updated 19 Feb 2023, Added 04 Jan 2023    \n3    Updated 19 Feb 2023, Added 09 Dec 2022    \n4    Updated 19 Feb 2023, Added 09 Feb 2023    \n\n                                         Description             Serviced  \\\n0   FOR RENT: BRAND NEW WELL SPACED DUPLEX IN A S...  ServicedNewly Built   \n1   FOR RENT: RELATIVELY NEW 4 BEDROOM DUPLEX!!! ...                  NaN   \n2   FOR RENT: A basic 2 bedroom apartment in a lo...                  NaN   \n3   FOR RENT: Lovely 2 bedrooms flat in opebi, up...          Newly Built   \n4   FOR RENT: FOR RENT: Luxury 5 Bedroom Detached...          Newly Built   \n\n          Bed_Bath_Toilet Listing_Type      Price Period Beds Baths Toilets  \n0  3 beds3 baths4 Toilets         Rent  4000000.0   year    3     3       4  \n1  4 beds5 baths5 Toilets         Rent  5500000.0   year    4     5       5  \n2  2 beds2 baths2 Toilets         Rent  1200000.0   year    2     2       2  \n3  2 beds1 baths1 Toilets         Rent  1500000.0   year    2     1       1  \n4  5 beds6 baths7 Toilets         Rent  8000000.0   year    5     6       7  ",
      "text/html": "<div>\n<style scoped>\n    .dataframe tbody tr th:only-of-type {\n        vertical-align: middle;\n    }\n\n    .dataframe tbody tr th {\n        vertical-align: top;\n    }\n\n    .dataframe thead th {\n        text-align: right;\n    }\n</style>\n<table border=\"1\" class=\"dataframe\">\n  <thead>\n    <tr style=\"text-align: right;\">\n      <th></th>\n      <th>Location</th>\n      <th>Price_Period</th>\n      <th>Date_Added_Updated</th>\n      <th>Description</th>\n      <th>Serviced</th>\n      <th>Bed_Bath_Toilet</th>\n      <th>Listing_Type</th>\n      <th>Price</th>\n      <th>Period</th>\n      <th>Beds</th>\n      <th>Baths</th>\n      <th>Toilets</th>\n    </tr>\n  </thead>\n  <tbody>\n    <tr>\n      <th>0</th>\n      <td>Bakare Estate Chevron Lekki Lagos</td>\n      <td>4,000,000/year</td>\n      <td>Updated 19 Feb 2023, Added 14 Feb 2023</td>\n      <td>FOR RENT: BRAND NEW WELL SPACED DUPLEX IN A S...</td>\n      <td>ServicedNewly Built</td>\n      <td>3 beds3 baths4 Toilets</td>\n      <td>Rent</td>\n      <td>4000000.0</td>\n      <td>year</td>\n      <td>3</td>\n      <td>3</td>\n      <td>4</td>\n    </tr>\n    <tr>\n      <th>1</th>\n      <td>Phase 2 Estate, Gbagada Lagos</td>\n      <td>5,500,000/year</td>\n      <td>Updated 19 Feb 2023, Added 15 Feb 2023</td>\n      <td>FOR RENT: RELATIVELY NEW 4 BEDROOM DUPLEX!!! ...</td>\n      <td>NaN</td>\n      <td>4 beds5 baths5 Toilets</td>\n      <td>Rent</td>\n      <td>5500000.0</td>\n      <td>year</td>\n      <td>4</td>\n      <td>5</td>\n      <td>5</td>\n    </tr>\n    <tr>\n      <th>2</th>\n      <td>Oregun Ikeja Lagos</td>\n      <td>1,200,000/year</td>\n      <td>Updated 19 Feb 2023, Added 04 Jan 2023</td>\n      <td>FOR RENT: A basic 2 bedroom apartment in a lo...</td>\n      <td>NaN</td>\n      <td>2 beds2 baths2 Toilets</td>\n      <td>Rent</td>\n      <td>1200000.0</td>\n      <td>year</td>\n      <td>2</td>\n      <td>2</td>\n      <td>2</td>\n    </tr>\n    <tr>\n      <th>3</th>\n      <td>Opebi Ikeja Lagos</td>\n      <td>1,500,000/year</td>\n      <td>Updated 19 Feb 2023, Added 09 Dec 2022</td>\n      <td>FOR RENT: Lovely 2 bedrooms flat in opebi, up...</td>\n      <td>Newly Built</td>\n      <td>2 beds1 baths1 Toilets</td>\n      <td>Rent</td>\n      <td>1500000.0</td>\n      <td>year</td>\n      <td>2</td>\n      <td>1</td>\n      <td>1</td>\n    </tr>\n    <tr>\n      <th>4</th>\n      <td>Ikota Lekki Lagos</td>\n      <td>8,000,000/year</td>\n      <td>Updated 19 Feb 2023, Added 09 Feb 2023</td>\n      <td>FOR RENT: FOR RENT: Luxury 5 Bedroom Detached...</td>\n      <td>Newly Built</td>\n      <td>5 beds6 baths7 Toilets</td>\n      <td>Rent</td>\n      <td>8000000.0</td>\n      <td>year</td>\n      <td>5</td>\n      <td>6</td>\n      <td>7</td>\n    </tr>\n  </tbody>\n</table>\n</div>"
     },
     "execution_count": 60,
     "metadata": {},
     "output_type": "execute_result"
    }
   ],
   "source": [
    "for index, value in df['Bed_Bath_Toilet'].items():\n",
    "    if value is np.nan:\n",
    "        df.at[index, 'Beds'] = value\n",
    "    else:\n",
    "        bbt_list = value.split(' ')\n",
    "        df.at[index, 'Beds'] = bbt_list[0]\n",
    "        df.at[index, 'Baths'] = bbt_list[1][-1]\n",
    "        df.at[index, 'Toilets'] = bbt_list[2][-1]\n",
    "\n",
    "df.head()"
   ],
   "metadata": {
    "collapsed": false
   }
  },
  {
   "cell_type": "markdown",
   "source": [
    "#### Location! Location!! Location!!!\n",
    "Location is definitely an important factor affecting price, especially in the Lagos real estate market. We'll create a City feature in order to determine whether a location is on the Island or the Mainland. This segmentation is also important for price analysis."
   ],
   "metadata": {
    "collapsed": false
   }
  },
  {
   "cell_type": "code",
   "execution_count": 61,
   "outputs": [
    {
     "data": {
      "text/plain": "0    Bakare Estate Chevron Lekki Lagos\n1        Phase 2 Estate, Gbagada Lagos\n2                   Oregun Ikeja Lagos\n3                    Opebi Ikeja Lagos\n4                    Ikota Lekki Lagos\nName: Location, dtype: object"
     },
     "execution_count": 61,
     "metadata": {},
     "output_type": "execute_result"
    }
   ],
   "source": [
    "df['Location'].head()"
   ],
   "metadata": {
    "collapsed": false
   }
  },
  {
   "cell_type": "code",
   "execution_count": 62,
   "outputs": [
    {
     "data": {
      "text/plain": "Lekki    5480\nAjah     1567\nIkoyi    1464\nOjodu    1075\nIkeja    1007\nName: City, dtype: int64"
     },
     "execution_count": 62,
     "metadata": {},
     "output_type": "execute_result"
    }
   ],
   "source": [
    "df['City'] = df['Location'].str.split(' ').str[-2]\n",
    "df['City'] = df['City'].str.strip()\n",
    "\n",
    "df['City'].value_counts().head()"
   ],
   "metadata": {
    "collapsed": false
   }
  },
  {
   "cell_type": "markdown",
   "source": [
    "Let's clean the city column to provide clarity on location. For example, if we review the Location feature, we will see that Island in City represents the Victoria Island Area. We'll be updating this value along with Egba and Odofin"
   ],
   "metadata": {
    "collapsed": false
   }
  },
  {
   "cell_type": "code",
   "execution_count": 63,
   "outputs": [
    {
     "data": {
      "text/plain": "                                          Location     Price_Period  \\\n29                           Victoria Island Lagos  25,000,000/year   \n40  Heart Of Victoria Island Victoria Island Lagos  15,000,000/year   \n62                           Victoria Island Lagos  20,000,000/year   \n81                           Victoria Island Lagos  12,000,000/year   \n89                           Victoria Island Lagos  15,000,000/year   \n\n                           Date_Added_Updated  \\\n29    Updated 19 Feb 2023, Added 07 Feb 2023    \n40    Updated 18 Feb 2023, Added 16 Feb 2023    \n62    Updated 18 Feb 2023, Added 10 Feb 2023    \n81    Updated 18 Feb 2023, Added 14 Feb 2023    \n89    Updated 18 Feb 2023, Added 07 Feb 2023    \n\n                                          Description              Serviced  \\\n29   FOR RENT: LETTING IN VI Brand new tastefully ...                   NaN   \n40   FOR RENT: 4 bedroom House for rent Heart Of V...   ServicedNewly Built   \n62   FOR RENT: 4 BEDROOM TERRACE DUPLEX IN VICTORI...  FurnishedNewly Built   \n81   FOR RENT: A 3 bedroom Apartment For Rent Pric...   ServicedNewly Built   \n89   FOR RENT: 5 BEDROOM PENTHOUSE IN VICTORIA ISL...  FurnishedNewly Built   \n\n           Bed_Bath_Toilet Listing_Type       Price Period Beds Baths Toilets  \\\n29  4 beds0 baths0 Toilets         Rent  25000000.0   year    4     0       0   \n40  3 beds3 baths4 Toilets         Rent  15000000.0   year    3     3       4   \n62  4 beds5 baths5 Toilets         Rent  20000000.0   year    4     5       5   \n81  3 beds4 baths4 Toilets         Rent  12000000.0   year    3     4       4   \n89  5 beds6 baths6 Toilets         Rent  15000000.0   year    5     6       6   \n\n      City  \n29  Island  \n40  Island  \n62  Island  \n81  Island  \n89  Island  ",
      "text/html": "<div>\n<style scoped>\n    .dataframe tbody tr th:only-of-type {\n        vertical-align: middle;\n    }\n\n    .dataframe tbody tr th {\n        vertical-align: top;\n    }\n\n    .dataframe thead th {\n        text-align: right;\n    }\n</style>\n<table border=\"1\" class=\"dataframe\">\n  <thead>\n    <tr style=\"text-align: right;\">\n      <th></th>\n      <th>Location</th>\n      <th>Price_Period</th>\n      <th>Date_Added_Updated</th>\n      <th>Description</th>\n      <th>Serviced</th>\n      <th>Bed_Bath_Toilet</th>\n      <th>Listing_Type</th>\n      <th>Price</th>\n      <th>Period</th>\n      <th>Beds</th>\n      <th>Baths</th>\n      <th>Toilets</th>\n      <th>City</th>\n    </tr>\n  </thead>\n  <tbody>\n    <tr>\n      <th>29</th>\n      <td>Victoria Island Lagos</td>\n      <td>25,000,000/year</td>\n      <td>Updated 19 Feb 2023, Added 07 Feb 2023</td>\n      <td>FOR RENT: LETTING IN VI Brand new tastefully ...</td>\n      <td>NaN</td>\n      <td>4 beds0 baths0 Toilets</td>\n      <td>Rent</td>\n      <td>25000000.0</td>\n      <td>year</td>\n      <td>4</td>\n      <td>0</td>\n      <td>0</td>\n      <td>Island</td>\n    </tr>\n    <tr>\n      <th>40</th>\n      <td>Heart Of Victoria Island Victoria Island Lagos</td>\n      <td>15,000,000/year</td>\n      <td>Updated 18 Feb 2023, Added 16 Feb 2023</td>\n      <td>FOR RENT: 4 bedroom House for rent Heart Of V...</td>\n      <td>ServicedNewly Built</td>\n      <td>3 beds3 baths4 Toilets</td>\n      <td>Rent</td>\n      <td>15000000.0</td>\n      <td>year</td>\n      <td>3</td>\n      <td>3</td>\n      <td>4</td>\n      <td>Island</td>\n    </tr>\n    <tr>\n      <th>62</th>\n      <td>Victoria Island Lagos</td>\n      <td>20,000,000/year</td>\n      <td>Updated 18 Feb 2023, Added 10 Feb 2023</td>\n      <td>FOR RENT: 4 BEDROOM TERRACE DUPLEX IN VICTORI...</td>\n      <td>FurnishedNewly Built</td>\n      <td>4 beds5 baths5 Toilets</td>\n      <td>Rent</td>\n      <td>20000000.0</td>\n      <td>year</td>\n      <td>4</td>\n      <td>5</td>\n      <td>5</td>\n      <td>Island</td>\n    </tr>\n    <tr>\n      <th>81</th>\n      <td>Victoria Island Lagos</td>\n      <td>12,000,000/year</td>\n      <td>Updated 18 Feb 2023, Added 14 Feb 2023</td>\n      <td>FOR RENT: A 3 bedroom Apartment For Rent Pric...</td>\n      <td>ServicedNewly Built</td>\n      <td>3 beds4 baths4 Toilets</td>\n      <td>Rent</td>\n      <td>12000000.0</td>\n      <td>year</td>\n      <td>3</td>\n      <td>4</td>\n      <td>4</td>\n      <td>Island</td>\n    </tr>\n    <tr>\n      <th>89</th>\n      <td>Victoria Island Lagos</td>\n      <td>15,000,000/year</td>\n      <td>Updated 18 Feb 2023, Added 07 Feb 2023</td>\n      <td>FOR RENT: 5 BEDROOM PENTHOUSE IN VICTORIA ISL...</td>\n      <td>FurnishedNewly Built</td>\n      <td>5 beds6 baths6 Toilets</td>\n      <td>Rent</td>\n      <td>15000000.0</td>\n      <td>year</td>\n      <td>5</td>\n      <td>6</td>\n      <td>6</td>\n      <td>Island</td>\n    </tr>\n  </tbody>\n</table>\n</div>"
     },
     "execution_count": 63,
     "metadata": {},
     "output_type": "execute_result"
    }
   ],
   "source": [
    "df.loc[df['City'] == 'Island'].head()"
   ],
   "metadata": {
    "collapsed": false
   }
  },
  {
   "cell_type": "code",
   "execution_count": 64,
   "outputs": [
    {
     "data": {
      "text/plain": "Lekki    5480\nAjah     1567\nIkoyi    1464\nOjodu    1075\nIkeja    1007\nName: City, dtype: int64"
     },
     "execution_count": 64,
     "metadata": {},
     "output_type": "execute_result"
    }
   ],
   "source": [
    "for index, value in df['City'].items():\n",
    "    if value == 'Island':\n",
    "        df.at[index, 'City'] = 'Victoria Island'\n",
    "    elif value == 'Egba':\n",
    "        df.at[index, 'City'] = 'Abule Egba'\n",
    "    elif value == 'Odofin':\n",
    "        df.at[index, 'City'] = 'Amuwo Odofin'\n",
    "\n",
    "df['City'].value_counts().head()"
   ],
   "metadata": {
    "collapsed": false
   }
  },
  {
   "cell_type": "markdown",
   "source": [
    "Outliers exist. Apo Katampe Ext and Life Camp are not in locations in Lagos. We'll drop those records from the dataset."
   ],
   "metadata": {
    "collapsed": false
   }
  },
  {
   "cell_type": "code",
   "execution_count": 65,
   "outputs": [
    {
     "data": {
      "text/plain": "                                        Location Price_Period  \\\n5532   Brains And Hammers Estate Life Camp Abuja  150,000,000   \n13638                            Life Camp Abuja   70,000/day   \n16053                            Life Camp Abuja   22,500,000   \n17235  Brains And Hammers Estate Life Camp Abuja  150,000,000   \n\n                              Date_Added_Updated  \\\n5532     Updated 19 Feb 2023, Added 15 Dec 2022    \n13638    Updated 19 Feb 2023, Added 14 Dec 2022    \n16053    Updated 19 Feb 2023, Added 30 Jan 2023    \n17235    Updated 19 Feb 2023, Added 15 Dec 2022    \n\n                                             Description           Serviced  \\\n5532    FOR SALE: Furnished 4 Bedroom Duplex - 24Hrs ...  ServicedFurnished   \n13638   FOR SHORTLET: This Clean and secure haven loc...  FurnishedServiced   \n16053   FOR SALE: A fully automated 4 bedroom flat in...                NaN   \n17235   FOR SALE: Furnished 4 Bedroom Duplex - 24Hrs ...  ServicedFurnished   \n\n              Bed_Bath_Toilet Listing_Type        Price       Period Beds  \\\n5532                      NaN         Sale  150000000.0  150,000,000  NaN   \n13638  4 beds4 baths5 Toilets     Shortlet   25550000.0          day    4   \n16053  4 beds5 baths5 Toilets         Sale   22500000.0   22,500,000    4   \n17235  4 beds4 baths5 Toilets         Sale  150000000.0  150,000,000    4   \n\n      Baths Toilets  City  \n5532    NaN     NaN  Camp  \n13638     4       5  Camp  \n16053     5       5  Camp  \n17235     4       5  Camp  ",
      "text/html": "<div>\n<style scoped>\n    .dataframe tbody tr th:only-of-type {\n        vertical-align: middle;\n    }\n\n    .dataframe tbody tr th {\n        vertical-align: top;\n    }\n\n    .dataframe thead th {\n        text-align: right;\n    }\n</style>\n<table border=\"1\" class=\"dataframe\">\n  <thead>\n    <tr style=\"text-align: right;\">\n      <th></th>\n      <th>Location</th>\n      <th>Price_Period</th>\n      <th>Date_Added_Updated</th>\n      <th>Description</th>\n      <th>Serviced</th>\n      <th>Bed_Bath_Toilet</th>\n      <th>Listing_Type</th>\n      <th>Price</th>\n      <th>Period</th>\n      <th>Beds</th>\n      <th>Baths</th>\n      <th>Toilets</th>\n      <th>City</th>\n    </tr>\n  </thead>\n  <tbody>\n    <tr>\n      <th>5532</th>\n      <td>Brains And Hammers Estate Life Camp Abuja</td>\n      <td>150,000,000</td>\n      <td>Updated 19 Feb 2023, Added 15 Dec 2022</td>\n      <td>FOR SALE: Furnished 4 Bedroom Duplex - 24Hrs ...</td>\n      <td>ServicedFurnished</td>\n      <td>NaN</td>\n      <td>Sale</td>\n      <td>150000000.0</td>\n      <td>150,000,000</td>\n      <td>NaN</td>\n      <td>NaN</td>\n      <td>NaN</td>\n      <td>Camp</td>\n    </tr>\n    <tr>\n      <th>13638</th>\n      <td>Life Camp Abuja</td>\n      <td>70,000/day</td>\n      <td>Updated 19 Feb 2023, Added 14 Dec 2022</td>\n      <td>FOR SHORTLET: This Clean and secure haven loc...</td>\n      <td>FurnishedServiced</td>\n      <td>4 beds4 baths5 Toilets</td>\n      <td>Shortlet</td>\n      <td>25550000.0</td>\n      <td>day</td>\n      <td>4</td>\n      <td>4</td>\n      <td>5</td>\n      <td>Camp</td>\n    </tr>\n    <tr>\n      <th>16053</th>\n      <td>Life Camp Abuja</td>\n      <td>22,500,000</td>\n      <td>Updated 19 Feb 2023, Added 30 Jan 2023</td>\n      <td>FOR SALE: A fully automated 4 bedroom flat in...</td>\n      <td>NaN</td>\n      <td>4 beds5 baths5 Toilets</td>\n      <td>Sale</td>\n      <td>22500000.0</td>\n      <td>22,500,000</td>\n      <td>4</td>\n      <td>5</td>\n      <td>5</td>\n      <td>Camp</td>\n    </tr>\n    <tr>\n      <th>17235</th>\n      <td>Brains And Hammers Estate Life Camp Abuja</td>\n      <td>150,000,000</td>\n      <td>Updated 19 Feb 2023, Added 15 Dec 2022</td>\n      <td>FOR SALE: Furnished 4 Bedroom Duplex - 24Hrs ...</td>\n      <td>ServicedFurnished</td>\n      <td>4 beds4 baths5 Toilets</td>\n      <td>Sale</td>\n      <td>150000000.0</td>\n      <td>150,000,000</td>\n      <td>4</td>\n      <td>4</td>\n      <td>5</td>\n      <td>Camp</td>\n    </tr>\n  </tbody>\n</table>\n</div>"
     },
     "execution_count": 65,
     "metadata": {},
     "output_type": "execute_result"
    }
   ],
   "source": [
    "df.loc[df['City'] == 'Camp']"
   ],
   "metadata": {
    "collapsed": false
   }
  },
  {
   "cell_type": "code",
   "execution_count": 66,
   "outputs": [
    {
     "data": {
      "text/plain": "                   Location Price_Period  \\\n4081   Apo Zone D Apo Abuja  280,000,000   \n16398  Apo Zone D Apo Abuja  280,000,000   \n\n                              Date_Added_Updated  \\\n4081     Updated 18 Feb 2023, Added 12 Jun 2022    \n16398    Updated 18 Feb 2023, Added 12 Jun 2022    \n\n                                             Description     Serviced  \\\n4081    FOR SALE: For Sale 6 Bedroom Detached Duplex ...  Newly Built   \n16398   FOR SALE: For Sale 6 Bedroom Detached Duplex ...  Newly Built   \n\n              Bed_Bath_Toilet Listing_Type        Price       Period Beds  \\\n4081                      NaN         Sale  280000000.0  280,000,000  NaN   \n16398  6 beds6 baths7 Toilets         Sale  280000000.0  280,000,000    6   \n\n      Baths Toilets City  \n4081    NaN     NaN  Apo  \n16398     6       7  Apo  ",
      "text/html": "<div>\n<style scoped>\n    .dataframe tbody tr th:only-of-type {\n        vertical-align: middle;\n    }\n\n    .dataframe tbody tr th {\n        vertical-align: top;\n    }\n\n    .dataframe thead th {\n        text-align: right;\n    }\n</style>\n<table border=\"1\" class=\"dataframe\">\n  <thead>\n    <tr style=\"text-align: right;\">\n      <th></th>\n      <th>Location</th>\n      <th>Price_Period</th>\n      <th>Date_Added_Updated</th>\n      <th>Description</th>\n      <th>Serviced</th>\n      <th>Bed_Bath_Toilet</th>\n      <th>Listing_Type</th>\n      <th>Price</th>\n      <th>Period</th>\n      <th>Beds</th>\n      <th>Baths</th>\n      <th>Toilets</th>\n      <th>City</th>\n    </tr>\n  </thead>\n  <tbody>\n    <tr>\n      <th>4081</th>\n      <td>Apo Zone D Apo Abuja</td>\n      <td>280,000,000</td>\n      <td>Updated 18 Feb 2023, Added 12 Jun 2022</td>\n      <td>FOR SALE: For Sale 6 Bedroom Detached Duplex ...</td>\n      <td>Newly Built</td>\n      <td>NaN</td>\n      <td>Sale</td>\n      <td>280000000.0</td>\n      <td>280,000,000</td>\n      <td>NaN</td>\n      <td>NaN</td>\n      <td>NaN</td>\n      <td>Apo</td>\n    </tr>\n    <tr>\n      <th>16398</th>\n      <td>Apo Zone D Apo Abuja</td>\n      <td>280,000,000</td>\n      <td>Updated 18 Feb 2023, Added 12 Jun 2022</td>\n      <td>FOR SALE: For Sale 6 Bedroom Detached Duplex ...</td>\n      <td>Newly Built</td>\n      <td>6 beds6 baths7 Toilets</td>\n      <td>Sale</td>\n      <td>280000000.0</td>\n      <td>280,000,000</td>\n      <td>6</td>\n      <td>6</td>\n      <td>7</td>\n      <td>Apo</td>\n    </tr>\n  </tbody>\n</table>\n</div>"
     },
     "execution_count": 66,
     "metadata": {},
     "output_type": "execute_result"
    }
   ],
   "source": [
    "df.loc[df['City'] == 'Apo']"
   ],
   "metadata": {
    "collapsed": false
   }
  },
  {
   "cell_type": "code",
   "execution_count": 67,
   "outputs": [
    {
     "data": {
      "text/plain": "                Location    Price_Period  \\\n15971  Katampe Ext Abuja  9,000,000/year   \n\n                              Date_Added_Updated  \\\n15971    Updated 18 Feb 2023, Added 01 Feb 2023    \n\n                                             Description  \\\n15971   FOR RENT: Well built world-class smart standa...   \n\n                           Serviced         Bed_Bath_Toilet Listing_Type  \\\n15971  FurnishedServicedNewly Built  4 beds5 baths5 Toilets         Rent   \n\n           Price Period Beds Baths Toilets City  \n15971  9000000.0   year    4     5       5  Ext  ",
      "text/html": "<div>\n<style scoped>\n    .dataframe tbody tr th:only-of-type {\n        vertical-align: middle;\n    }\n\n    .dataframe tbody tr th {\n        vertical-align: top;\n    }\n\n    .dataframe thead th {\n        text-align: right;\n    }\n</style>\n<table border=\"1\" class=\"dataframe\">\n  <thead>\n    <tr style=\"text-align: right;\">\n      <th></th>\n      <th>Location</th>\n      <th>Price_Period</th>\n      <th>Date_Added_Updated</th>\n      <th>Description</th>\n      <th>Serviced</th>\n      <th>Bed_Bath_Toilet</th>\n      <th>Listing_Type</th>\n      <th>Price</th>\n      <th>Period</th>\n      <th>Beds</th>\n      <th>Baths</th>\n      <th>Toilets</th>\n      <th>City</th>\n    </tr>\n  </thead>\n  <tbody>\n    <tr>\n      <th>15971</th>\n      <td>Katampe Ext Abuja</td>\n      <td>9,000,000/year</td>\n      <td>Updated 18 Feb 2023, Added 01 Feb 2023</td>\n      <td>FOR RENT: Well built world-class smart standa...</td>\n      <td>FurnishedServicedNewly Built</td>\n      <td>4 beds5 baths5 Toilets</td>\n      <td>Rent</td>\n      <td>9000000.0</td>\n      <td>year</td>\n      <td>4</td>\n      <td>5</td>\n      <td>5</td>\n      <td>Ext</td>\n    </tr>\n  </tbody>\n</table>\n</div>"
     },
     "execution_count": 67,
     "metadata": {},
     "output_type": "execute_result"
    }
   ],
   "source": [
    "df.loc[df['City'] == 'Ext']"
   ],
   "metadata": {
    "collapsed": false
   }
  },
  {
   "cell_type": "code",
   "execution_count": 68,
   "outputs": [],
   "source": [
    "apo_index = list(df.loc[df['City'] == 'Camp'].index)\n",
    "ext_index = list(df.loc[df['City'] == 'Ext'].index)\n",
    "camp_index = list(df.loc[df['City'] == 'Apo'].index)\n"
   ],
   "metadata": {
    "collapsed": false
   }
  },
  {
   "cell_type": "code",
   "execution_count": 69,
   "outputs": [],
   "source": [
    "df.drop(index=apo_index, inplace=True)\n",
    "df.drop(index=ext_index, inplace=True)\n",
    "df.drop(index=camp_index, inplace=True)"
   ],
   "metadata": {
    "collapsed": false
   }
  },
  {
   "cell_type": "markdown",
   "source": [
    "Now, let's segment cities/ records into Island and Mainland"
   ],
   "metadata": {
    "collapsed": false
   }
  },
  {
   "cell_type": "code",
   "execution_count": 70,
   "outputs": [
    {
     "data": {
      "text/plain": "Lekki    5480\nAjah     1567\nIkoyi    1464\nOjodu    1075\nIkeja    1007\nName: City, dtype: int64"
     },
     "execution_count": 70,
     "metadata": {},
     "output_type": "execute_result"
    }
   ],
   "source": [
    "df.City.value_counts().head()"
   ],
   "metadata": {
    "collapsed": false
   }
  },
  {
   "cell_type": "markdown",
   "source": [
    "Our island list comprises cities in Lagos Island Local Government and Eti-Osa Local Government Areas of Lagos State."
   ],
   "metadata": {
    "collapsed": false
   }
  },
  {
   "cell_type": "code",
   "execution_count": 71,
   "outputs": [],
   "source": [
    "island_list = ['Lekki', 'Ajah', 'Ikoyi', 'Victoria Island']"
   ],
   "metadata": {
    "collapsed": false
   }
  },
  {
   "cell_type": "code",
   "execution_count": 72,
   "outputs": [
    {
     "data": {
      "text/plain": "      City Location_Area\n0    Lekki        Island\n1  Gbagada      Mainland\n2    Ikeja      Mainland\n3    Ikeja      Mainland\n4    Lekki        Island",
      "text/html": "<div>\n<style scoped>\n    .dataframe tbody tr th:only-of-type {\n        vertical-align: middle;\n    }\n\n    .dataframe tbody tr th {\n        vertical-align: top;\n    }\n\n    .dataframe thead th {\n        text-align: right;\n    }\n</style>\n<table border=\"1\" class=\"dataframe\">\n  <thead>\n    <tr style=\"text-align: right;\">\n      <th></th>\n      <th>City</th>\n      <th>Location_Area</th>\n    </tr>\n  </thead>\n  <tbody>\n    <tr>\n      <th>0</th>\n      <td>Lekki</td>\n      <td>Island</td>\n    </tr>\n    <tr>\n      <th>1</th>\n      <td>Gbagada</td>\n      <td>Mainland</td>\n    </tr>\n    <tr>\n      <th>2</th>\n      <td>Ikeja</td>\n      <td>Mainland</td>\n    </tr>\n    <tr>\n      <th>3</th>\n      <td>Ikeja</td>\n      <td>Mainland</td>\n    </tr>\n    <tr>\n      <th>4</th>\n      <td>Lekki</td>\n      <td>Island</td>\n    </tr>\n  </tbody>\n</table>\n</div>"
     },
     "execution_count": 72,
     "metadata": {},
     "output_type": "execute_result"
    }
   ],
   "source": [
    "df['Location_Area'] = df['City'].apply(lambda x:'Island' if x in island_list else 'Mainland')\n",
    "df[['City', 'Location_Area']].head()"
   ],
   "metadata": {
    "collapsed": false
   }
  },
  {
   "cell_type": "code",
   "execution_count": 73,
   "outputs": [
    {
     "data": {
      "text/plain": "Island      0.540133\nMainland    0.459867\nName: Location_Area, dtype: float64"
     },
     "execution_count": 73,
     "metadata": {},
     "output_type": "execute_result"
    }
   ],
   "source": [
    "df['Location_Area'].value_counts(normalize=True)"
   ],
   "metadata": {
    "collapsed": false
   }
  },
  {
   "cell_type": "markdown",
   "source": [
    "The dataset seems well split between Island and Mainland. This is great."
   ],
   "metadata": {
    "collapsed": false
   }
  },
  {
   "cell_type": "code",
   "execution_count": 74,
   "outputs": [
    {
     "data": {
      "text/plain": "                            Location    Price_Period  \\\n0  Bakare Estate Chevron Lekki Lagos  4,000,000/year   \n1      Phase 2 Estate, Gbagada Lagos  5,500,000/year   \n2                 Oregun Ikeja Lagos  1,200,000/year   \n3                  Opebi Ikeja Lagos  1,500,000/year   \n4                  Ikota Lekki Lagos  8,000,000/year   \n\n                          Date_Added_Updated  \\\n0    Updated 19 Feb 2023, Added 14 Feb 2023    \n1    Updated 19 Feb 2023, Added 15 Feb 2023    \n2    Updated 19 Feb 2023, Added 04 Jan 2023    \n3    Updated 19 Feb 2023, Added 09 Dec 2022    \n4    Updated 19 Feb 2023, Added 09 Feb 2023    \n\n                                         Description             Serviced  \\\n0   FOR RENT: BRAND NEW WELL SPACED DUPLEX IN A S...  ServicedNewly Built   \n1   FOR RENT: RELATIVELY NEW 4 BEDROOM DUPLEX!!! ...                  NaN   \n2   FOR RENT: A basic 2 bedroom apartment in a lo...                  NaN   \n3   FOR RENT: Lovely 2 bedrooms flat in opebi, up...          Newly Built   \n4   FOR RENT: FOR RENT: Luxury 5 Bedroom Detached...          Newly Built   \n\n          Bed_Bath_Toilet Listing_Type      Price Period Beds Baths Toilets  \\\n0  3 beds3 baths4 Toilets         Rent  4000000.0   year    3     3       4   \n1  4 beds5 baths5 Toilets         Rent  5500000.0   year    4     5       5   \n2  2 beds2 baths2 Toilets         Rent  1200000.0   year    2     2       2   \n3  2 beds1 baths1 Toilets         Rent  1500000.0   year    2     1       1   \n4  5 beds6 baths7 Toilets         Rent  8000000.0   year    5     6       7   \n\n      City Location_Area  \n0    Lekki        Island  \n1  Gbagada      Mainland  \n2    Ikeja      Mainland  \n3    Ikeja      Mainland  \n4    Lekki        Island  ",
      "text/html": "<div>\n<style scoped>\n    .dataframe tbody tr th:only-of-type {\n        vertical-align: middle;\n    }\n\n    .dataframe tbody tr th {\n        vertical-align: top;\n    }\n\n    .dataframe thead th {\n        text-align: right;\n    }\n</style>\n<table border=\"1\" class=\"dataframe\">\n  <thead>\n    <tr style=\"text-align: right;\">\n      <th></th>\n      <th>Location</th>\n      <th>Price_Period</th>\n      <th>Date_Added_Updated</th>\n      <th>Description</th>\n      <th>Serviced</th>\n      <th>Bed_Bath_Toilet</th>\n      <th>Listing_Type</th>\n      <th>Price</th>\n      <th>Period</th>\n      <th>Beds</th>\n      <th>Baths</th>\n      <th>Toilets</th>\n      <th>City</th>\n      <th>Location_Area</th>\n    </tr>\n  </thead>\n  <tbody>\n    <tr>\n      <th>0</th>\n      <td>Bakare Estate Chevron Lekki Lagos</td>\n      <td>4,000,000/year</td>\n      <td>Updated 19 Feb 2023, Added 14 Feb 2023</td>\n      <td>FOR RENT: BRAND NEW WELL SPACED DUPLEX IN A S...</td>\n      <td>ServicedNewly Built</td>\n      <td>3 beds3 baths4 Toilets</td>\n      <td>Rent</td>\n      <td>4000000.0</td>\n      <td>year</td>\n      <td>3</td>\n      <td>3</td>\n      <td>4</td>\n      <td>Lekki</td>\n      <td>Island</td>\n    </tr>\n    <tr>\n      <th>1</th>\n      <td>Phase 2 Estate, Gbagada Lagos</td>\n      <td>5,500,000/year</td>\n      <td>Updated 19 Feb 2023, Added 15 Feb 2023</td>\n      <td>FOR RENT: RELATIVELY NEW 4 BEDROOM DUPLEX!!! ...</td>\n      <td>NaN</td>\n      <td>4 beds5 baths5 Toilets</td>\n      <td>Rent</td>\n      <td>5500000.0</td>\n      <td>year</td>\n      <td>4</td>\n      <td>5</td>\n      <td>5</td>\n      <td>Gbagada</td>\n      <td>Mainland</td>\n    </tr>\n    <tr>\n      <th>2</th>\n      <td>Oregun Ikeja Lagos</td>\n      <td>1,200,000/year</td>\n      <td>Updated 19 Feb 2023, Added 04 Jan 2023</td>\n      <td>FOR RENT: A basic 2 bedroom apartment in a lo...</td>\n      <td>NaN</td>\n      <td>2 beds2 baths2 Toilets</td>\n      <td>Rent</td>\n      <td>1200000.0</td>\n      <td>year</td>\n      <td>2</td>\n      <td>2</td>\n      <td>2</td>\n      <td>Ikeja</td>\n      <td>Mainland</td>\n    </tr>\n    <tr>\n      <th>3</th>\n      <td>Opebi Ikeja Lagos</td>\n      <td>1,500,000/year</td>\n      <td>Updated 19 Feb 2023, Added 09 Dec 2022</td>\n      <td>FOR RENT: Lovely 2 bedrooms flat in opebi, up...</td>\n      <td>Newly Built</td>\n      <td>2 beds1 baths1 Toilets</td>\n      <td>Rent</td>\n      <td>1500000.0</td>\n      <td>year</td>\n      <td>2</td>\n      <td>1</td>\n      <td>1</td>\n      <td>Ikeja</td>\n      <td>Mainland</td>\n    </tr>\n    <tr>\n      <th>4</th>\n      <td>Ikota Lekki Lagos</td>\n      <td>8,000,000/year</td>\n      <td>Updated 19 Feb 2023, Added 09 Feb 2023</td>\n      <td>FOR RENT: FOR RENT: Luxury 5 Bedroom Detached...</td>\n      <td>Newly Built</td>\n      <td>5 beds6 baths7 Toilets</td>\n      <td>Rent</td>\n      <td>8000000.0</td>\n      <td>year</td>\n      <td>5</td>\n      <td>6</td>\n      <td>7</td>\n      <td>Lekki</td>\n      <td>Island</td>\n    </tr>\n  </tbody>\n</table>\n</div>"
     },
     "execution_count": 74,
     "metadata": {},
     "output_type": "execute_result"
    }
   ],
   "source": [
    "df.head()"
   ],
   "metadata": {
    "collapsed": false
   }
  },
  {
   "cell_type": "markdown",
   "source": [
    "Let's clean the Serviced column. From our analysis below, it seems we have 3 options from the Serviced Column - Newly Built, Serviced, and/or Furnished. We'll provide 1/0 column values for these options."
   ],
   "metadata": {
    "collapsed": false
   }
  },
  {
   "cell_type": "code",
   "execution_count": 75,
   "outputs": [
    {
     "data": {
      "text/plain": "NaN                             10699\nNewly Built                      2367\nServiced                         1727\nServicedNewly Built              1256\nFurnished                         550\nFurnishedServicedNewly Built      280\nFurnishedNewly Built              252\nFurnishedServiced                 249\nNewly BuiltFurnishedServiced        6\nServicedFurnished                   3\nNewly BuiltFurnished                2\nServicedNewly BuiltFurnished        1\nName: Serviced, dtype: int64"
     },
     "execution_count": 75,
     "metadata": {},
     "output_type": "execute_result"
    }
   ],
   "source": [
    "df['Serviced'].value_counts(dropna=False)"
   ],
   "metadata": {
    "collapsed": false
   }
  },
  {
   "cell_type": "code",
   "execution_count": 76,
   "outputs": [],
   "source": [
    "df['Newly Built'] = df['Serviced'].apply(lambda x:1 if 'Newly Built' in str(x) else 0)\n",
    "df['Furnished'] = df['Serviced'].apply(lambda x:1 if 'Furnished' in str(x) else 0)\n",
    "df['Serviced_1'] = df['Serviced'].apply(lambda x:1 if 'Serviced' in str(x) else 0)"
   ],
   "metadata": {
    "collapsed": false
   }
  },
  {
   "cell_type": "code",
   "execution_count": 77,
   "outputs": [
    {
     "data": {
      "text/plain": "                            Location    Price_Period  \\\n0  Bakare Estate Chevron Lekki Lagos  4,000,000/year   \n1      Phase 2 Estate, Gbagada Lagos  5,500,000/year   \n2                 Oregun Ikeja Lagos  1,200,000/year   \n3                  Opebi Ikeja Lagos  1,500,000/year   \n4                  Ikota Lekki Lagos  8,000,000/year   \n\n                          Date_Added_Updated  \\\n0    Updated 19 Feb 2023, Added 14 Feb 2023    \n1    Updated 19 Feb 2023, Added 15 Feb 2023    \n2    Updated 19 Feb 2023, Added 04 Jan 2023    \n3    Updated 19 Feb 2023, Added 09 Dec 2022    \n4    Updated 19 Feb 2023, Added 09 Feb 2023    \n\n                                         Description             Serviced  \\\n0   FOR RENT: BRAND NEW WELL SPACED DUPLEX IN A S...  ServicedNewly Built   \n1   FOR RENT: RELATIVELY NEW 4 BEDROOM DUPLEX!!! ...                  NaN   \n2   FOR RENT: A basic 2 bedroom apartment in a lo...                  NaN   \n3   FOR RENT: Lovely 2 bedrooms flat in opebi, up...          Newly Built   \n4   FOR RENT: FOR RENT: Luxury 5 Bedroom Detached...          Newly Built   \n\n          Bed_Bath_Toilet Listing_Type      Price Period Beds Baths Toilets  \\\n0  3 beds3 baths4 Toilets         Rent  4000000.0   year    3     3       4   \n1  4 beds5 baths5 Toilets         Rent  5500000.0   year    4     5       5   \n2  2 beds2 baths2 Toilets         Rent  1200000.0   year    2     2       2   \n3  2 beds1 baths1 Toilets         Rent  1500000.0   year    2     1       1   \n4  5 beds6 baths7 Toilets         Rent  8000000.0   year    5     6       7   \n\n      City Location_Area  Newly Built  Furnished  Serviced_1  \n0    Lekki        Island            1          0           1  \n1  Gbagada      Mainland            0          0           0  \n2    Ikeja      Mainland            0          0           0  \n3    Ikeja      Mainland            1          0           0  \n4    Lekki        Island            1          0           0  ",
      "text/html": "<div>\n<style scoped>\n    .dataframe tbody tr th:only-of-type {\n        vertical-align: middle;\n    }\n\n    .dataframe tbody tr th {\n        vertical-align: top;\n    }\n\n    .dataframe thead th {\n        text-align: right;\n    }\n</style>\n<table border=\"1\" class=\"dataframe\">\n  <thead>\n    <tr style=\"text-align: right;\">\n      <th></th>\n      <th>Location</th>\n      <th>Price_Period</th>\n      <th>Date_Added_Updated</th>\n      <th>Description</th>\n      <th>Serviced</th>\n      <th>Bed_Bath_Toilet</th>\n      <th>Listing_Type</th>\n      <th>Price</th>\n      <th>Period</th>\n      <th>Beds</th>\n      <th>Baths</th>\n      <th>Toilets</th>\n      <th>City</th>\n      <th>Location_Area</th>\n      <th>Newly Built</th>\n      <th>Furnished</th>\n      <th>Serviced_1</th>\n    </tr>\n  </thead>\n  <tbody>\n    <tr>\n      <th>0</th>\n      <td>Bakare Estate Chevron Lekki Lagos</td>\n      <td>4,000,000/year</td>\n      <td>Updated 19 Feb 2023, Added 14 Feb 2023</td>\n      <td>FOR RENT: BRAND NEW WELL SPACED DUPLEX IN A S...</td>\n      <td>ServicedNewly Built</td>\n      <td>3 beds3 baths4 Toilets</td>\n      <td>Rent</td>\n      <td>4000000.0</td>\n      <td>year</td>\n      <td>3</td>\n      <td>3</td>\n      <td>4</td>\n      <td>Lekki</td>\n      <td>Island</td>\n      <td>1</td>\n      <td>0</td>\n      <td>1</td>\n    </tr>\n    <tr>\n      <th>1</th>\n      <td>Phase 2 Estate, Gbagada Lagos</td>\n      <td>5,500,000/year</td>\n      <td>Updated 19 Feb 2023, Added 15 Feb 2023</td>\n      <td>FOR RENT: RELATIVELY NEW 4 BEDROOM DUPLEX!!! ...</td>\n      <td>NaN</td>\n      <td>4 beds5 baths5 Toilets</td>\n      <td>Rent</td>\n      <td>5500000.0</td>\n      <td>year</td>\n      <td>4</td>\n      <td>5</td>\n      <td>5</td>\n      <td>Gbagada</td>\n      <td>Mainland</td>\n      <td>0</td>\n      <td>0</td>\n      <td>0</td>\n    </tr>\n    <tr>\n      <th>2</th>\n      <td>Oregun Ikeja Lagos</td>\n      <td>1,200,000/year</td>\n      <td>Updated 19 Feb 2023, Added 04 Jan 2023</td>\n      <td>FOR RENT: A basic 2 bedroom apartment in a lo...</td>\n      <td>NaN</td>\n      <td>2 beds2 baths2 Toilets</td>\n      <td>Rent</td>\n      <td>1200000.0</td>\n      <td>year</td>\n      <td>2</td>\n      <td>2</td>\n      <td>2</td>\n      <td>Ikeja</td>\n      <td>Mainland</td>\n      <td>0</td>\n      <td>0</td>\n      <td>0</td>\n    </tr>\n    <tr>\n      <th>3</th>\n      <td>Opebi Ikeja Lagos</td>\n      <td>1,500,000/year</td>\n      <td>Updated 19 Feb 2023, Added 09 Dec 2022</td>\n      <td>FOR RENT: Lovely 2 bedrooms flat in opebi, up...</td>\n      <td>Newly Built</td>\n      <td>2 beds1 baths1 Toilets</td>\n      <td>Rent</td>\n      <td>1500000.0</td>\n      <td>year</td>\n      <td>2</td>\n      <td>1</td>\n      <td>1</td>\n      <td>Ikeja</td>\n      <td>Mainland</td>\n      <td>1</td>\n      <td>0</td>\n      <td>0</td>\n    </tr>\n    <tr>\n      <th>4</th>\n      <td>Ikota Lekki Lagos</td>\n      <td>8,000,000/year</td>\n      <td>Updated 19 Feb 2023, Added 09 Feb 2023</td>\n      <td>FOR RENT: FOR RENT: Luxury 5 Bedroom Detached...</td>\n      <td>Newly Built</td>\n      <td>5 beds6 baths7 Toilets</td>\n      <td>Rent</td>\n      <td>8000000.0</td>\n      <td>year</td>\n      <td>5</td>\n      <td>6</td>\n      <td>7</td>\n      <td>Lekki</td>\n      <td>Island</td>\n      <td>1</td>\n      <td>0</td>\n      <td>0</td>\n    </tr>\n  </tbody>\n</table>\n</div>"
     },
     "execution_count": 77,
     "metadata": {},
     "output_type": "execute_result"
    }
   ],
   "source": [
    "df.head()"
   ],
   "metadata": {
    "collapsed": false
   }
  },
  {
   "cell_type": "markdown",
   "source": [
    "#### What's Up with these Dates?\n",
    "We've come to the final cleaning column - Dates!\n",
    "We'll split this column into 2 - Added and Updated."
   ],
   "metadata": {
    "collapsed": false
   }
  },
  {
   "cell_type": "code",
   "execution_count": 78,
   "outputs": [
    {
     "data": {
      "text/plain": "            Date_Added           Date_Updated\n0   Added 14 Feb 2023     Updated 19 Feb 2023\n1   Added 15 Feb 2023     Updated 19 Feb 2023\n2   Added 04 Jan 2023     Updated 19 Feb 2023\n3   Added 09 Dec 2022     Updated 19 Feb 2023\n4   Added 09 Feb 2023     Updated 19 Feb 2023",
      "text/html": "<div>\n<style scoped>\n    .dataframe tbody tr th:only-of-type {\n        vertical-align: middle;\n    }\n\n    .dataframe tbody tr th {\n        vertical-align: top;\n    }\n\n    .dataframe thead th {\n        text-align: right;\n    }\n</style>\n<table border=\"1\" class=\"dataframe\">\n  <thead>\n    <tr style=\"text-align: right;\">\n      <th></th>\n      <th>Date_Added</th>\n      <th>Date_Updated</th>\n    </tr>\n  </thead>\n  <tbody>\n    <tr>\n      <th>0</th>\n      <td>Added 14 Feb 2023</td>\n      <td>Updated 19 Feb 2023</td>\n    </tr>\n    <tr>\n      <th>1</th>\n      <td>Added 15 Feb 2023</td>\n      <td>Updated 19 Feb 2023</td>\n    </tr>\n    <tr>\n      <th>2</th>\n      <td>Added 04 Jan 2023</td>\n      <td>Updated 19 Feb 2023</td>\n    </tr>\n    <tr>\n      <th>3</th>\n      <td>Added 09 Dec 2022</td>\n      <td>Updated 19 Feb 2023</td>\n    </tr>\n    <tr>\n      <th>4</th>\n      <td>Added 09 Feb 2023</td>\n      <td>Updated 19 Feb 2023</td>\n    </tr>\n  </tbody>\n</table>\n</div>"
     },
     "execution_count": 78,
     "metadata": {},
     "output_type": "execute_result"
    }
   ],
   "source": [
    "df['Date_Added'] = df['Date_Added_Updated'].str.split(',').str[-1]\n",
    "df['Date_Updated'] = df['Date_Added_Updated'].str.split(',').str[0]\n",
    "\n",
    "df[['Date_Added', 'Date_Updated']].head()"
   ],
   "metadata": {
    "collapsed": false
   }
  },
  {
   "cell_type": "code",
   "execution_count": 79,
   "outputs": [
    {
     "data": {
      "text/plain": "0    14 Feb 2023\n1    15 Feb 2023\n2    04 Jan 2023\n3    09 Dec 2022\n4    09 Feb 2023\nName: Date_Added, dtype: object"
     },
     "execution_count": 79,
     "metadata": {},
     "output_type": "execute_result"
    }
   ],
   "source": [
    "df['Date_Added'] = df['Date_Added'].str.strip().str[6:]\n",
    "df['Date_Added'].head()"
   ],
   "metadata": {
    "collapsed": false
   }
  },
  {
   "cell_type": "code",
   "execution_count": 80,
   "outputs": [
    {
     "data": {
      "text/plain": "0    19 Feb 2023\n1    19 Feb 2023\n2    19 Feb 2023\n3    19 Feb 2023\n4    19 Feb 2023\nName: Date_Updated, dtype: object"
     },
     "execution_count": 80,
     "metadata": {},
     "output_type": "execute_result"
    }
   ],
   "source": [
    "# Done using reverse indexing to avoid losses where records dont have explicit update dates\n",
    "df['Date_Updated'] = df['Date_Updated'].str.strip().str[-11:]\n",
    "df['Date_Updated'].head()"
   ],
   "metadata": {
    "collapsed": false
   }
  },
  {
   "cell_type": "code",
   "execution_count": 81,
   "outputs": [
    {
     "data": {
      "text/plain": "  Date_Added Date_Updated\n0 2023-02-14   2023-02-19\n1 2023-02-15   2023-02-19\n2 2023-01-04   2023-02-19\n3 2022-12-09   2023-02-19\n4 2023-02-09   2023-02-19",
      "text/html": "<div>\n<style scoped>\n    .dataframe tbody tr th:only-of-type {\n        vertical-align: middle;\n    }\n\n    .dataframe tbody tr th {\n        vertical-align: top;\n    }\n\n    .dataframe thead th {\n        text-align: right;\n    }\n</style>\n<table border=\"1\" class=\"dataframe\">\n  <thead>\n    <tr style=\"text-align: right;\">\n      <th></th>\n      <th>Date_Added</th>\n      <th>Date_Updated</th>\n    </tr>\n  </thead>\n  <tbody>\n    <tr>\n      <th>0</th>\n      <td>2023-02-14</td>\n      <td>2023-02-19</td>\n    </tr>\n    <tr>\n      <th>1</th>\n      <td>2023-02-15</td>\n      <td>2023-02-19</td>\n    </tr>\n    <tr>\n      <th>2</th>\n      <td>2023-01-04</td>\n      <td>2023-02-19</td>\n    </tr>\n    <tr>\n      <th>3</th>\n      <td>2022-12-09</td>\n      <td>2023-02-19</td>\n    </tr>\n    <tr>\n      <th>4</th>\n      <td>2023-02-09</td>\n      <td>2023-02-19</td>\n    </tr>\n  </tbody>\n</table>\n</div>"
     },
     "execution_count": 81,
     "metadata": {},
     "output_type": "execute_result"
    }
   ],
   "source": [
    "df['Date_Added'] = pd.to_datetime(df['Date_Added'])\n",
    "df['Date_Updated'] = pd.to_datetime(df['Date_Updated'])\n",
    "\n",
    "df[['Date_Added', 'Date_Updated']].head()"
   ],
   "metadata": {
    "collapsed": false
   }
  },
  {
   "cell_type": "markdown",
   "source": [
    "#### Cleaning Complete!\n",
    "Let's drop the irrelevant columns and export the cleaned dataframe into local device"
   ],
   "metadata": {
    "collapsed": false
   }
  },
  {
   "cell_type": "code",
   "execution_count": 82,
   "outputs": [
    {
     "data": {
      "text/plain": "                            Location    Price_Period  \\\n0  Bakare Estate Chevron Lekki Lagos  4,000,000/year   \n1      Phase 2 Estate, Gbagada Lagos  5,500,000/year   \n2                 Oregun Ikeja Lagos  1,200,000/year   \n3                  Opebi Ikeja Lagos  1,500,000/year   \n4                  Ikota Lekki Lagos  8,000,000/year   \n\n                          Date_Added_Updated  \\\n0    Updated 19 Feb 2023, Added 14 Feb 2023    \n1    Updated 19 Feb 2023, Added 15 Feb 2023    \n2    Updated 19 Feb 2023, Added 04 Jan 2023    \n3    Updated 19 Feb 2023, Added 09 Dec 2022    \n4    Updated 19 Feb 2023, Added 09 Feb 2023    \n\n                                         Description             Serviced  \\\n0   FOR RENT: BRAND NEW WELL SPACED DUPLEX IN A S...  ServicedNewly Built   \n1   FOR RENT: RELATIVELY NEW 4 BEDROOM DUPLEX!!! ...                  NaN   \n2   FOR RENT: A basic 2 bedroom apartment in a lo...                  NaN   \n3   FOR RENT: Lovely 2 bedrooms flat in opebi, up...          Newly Built   \n4   FOR RENT: FOR RENT: Luxury 5 Bedroom Detached...          Newly Built   \n\n          Bed_Bath_Toilet Listing_Type      Price Period Beds Baths Toilets  \\\n0  3 beds3 baths4 Toilets         Rent  4000000.0   year    3     3       4   \n1  4 beds5 baths5 Toilets         Rent  5500000.0   year    4     5       5   \n2  2 beds2 baths2 Toilets         Rent  1200000.0   year    2     2       2   \n3  2 beds1 baths1 Toilets         Rent  1500000.0   year    2     1       1   \n4  5 beds6 baths7 Toilets         Rent  8000000.0   year    5     6       7   \n\n      City Location_Area  Newly Built  Furnished  Serviced_1 Date_Added  \\\n0    Lekki        Island            1          0           1 2023-02-14   \n1  Gbagada      Mainland            0          0           0 2023-02-15   \n2    Ikeja      Mainland            0          0           0 2023-01-04   \n3    Ikeja      Mainland            1          0           0 2022-12-09   \n4    Lekki        Island            1          0           0 2023-02-09   \n\n  Date_Updated  \n0   2023-02-19  \n1   2023-02-19  \n2   2023-02-19  \n3   2023-02-19  \n4   2023-02-19  ",
      "text/html": "<div>\n<style scoped>\n    .dataframe tbody tr th:only-of-type {\n        vertical-align: middle;\n    }\n\n    .dataframe tbody tr th {\n        vertical-align: top;\n    }\n\n    .dataframe thead th {\n        text-align: right;\n    }\n</style>\n<table border=\"1\" class=\"dataframe\">\n  <thead>\n    <tr style=\"text-align: right;\">\n      <th></th>\n      <th>Location</th>\n      <th>Price_Period</th>\n      <th>Date_Added_Updated</th>\n      <th>Description</th>\n      <th>Serviced</th>\n      <th>Bed_Bath_Toilet</th>\n      <th>Listing_Type</th>\n      <th>Price</th>\n      <th>Period</th>\n      <th>Beds</th>\n      <th>Baths</th>\n      <th>Toilets</th>\n      <th>City</th>\n      <th>Location_Area</th>\n      <th>Newly Built</th>\n      <th>Furnished</th>\n      <th>Serviced_1</th>\n      <th>Date_Added</th>\n      <th>Date_Updated</th>\n    </tr>\n  </thead>\n  <tbody>\n    <tr>\n      <th>0</th>\n      <td>Bakare Estate Chevron Lekki Lagos</td>\n      <td>4,000,000/year</td>\n      <td>Updated 19 Feb 2023, Added 14 Feb 2023</td>\n      <td>FOR RENT: BRAND NEW WELL SPACED DUPLEX IN A S...</td>\n      <td>ServicedNewly Built</td>\n      <td>3 beds3 baths4 Toilets</td>\n      <td>Rent</td>\n      <td>4000000.0</td>\n      <td>year</td>\n      <td>3</td>\n      <td>3</td>\n      <td>4</td>\n      <td>Lekki</td>\n      <td>Island</td>\n      <td>1</td>\n      <td>0</td>\n      <td>1</td>\n      <td>2023-02-14</td>\n      <td>2023-02-19</td>\n    </tr>\n    <tr>\n      <th>1</th>\n      <td>Phase 2 Estate, Gbagada Lagos</td>\n      <td>5,500,000/year</td>\n      <td>Updated 19 Feb 2023, Added 15 Feb 2023</td>\n      <td>FOR RENT: RELATIVELY NEW 4 BEDROOM DUPLEX!!! ...</td>\n      <td>NaN</td>\n      <td>4 beds5 baths5 Toilets</td>\n      <td>Rent</td>\n      <td>5500000.0</td>\n      <td>year</td>\n      <td>4</td>\n      <td>5</td>\n      <td>5</td>\n      <td>Gbagada</td>\n      <td>Mainland</td>\n      <td>0</td>\n      <td>0</td>\n      <td>0</td>\n      <td>2023-02-15</td>\n      <td>2023-02-19</td>\n    </tr>\n    <tr>\n      <th>2</th>\n      <td>Oregun Ikeja Lagos</td>\n      <td>1,200,000/year</td>\n      <td>Updated 19 Feb 2023, Added 04 Jan 2023</td>\n      <td>FOR RENT: A basic 2 bedroom apartment in a lo...</td>\n      <td>NaN</td>\n      <td>2 beds2 baths2 Toilets</td>\n      <td>Rent</td>\n      <td>1200000.0</td>\n      <td>year</td>\n      <td>2</td>\n      <td>2</td>\n      <td>2</td>\n      <td>Ikeja</td>\n      <td>Mainland</td>\n      <td>0</td>\n      <td>0</td>\n      <td>0</td>\n      <td>2023-01-04</td>\n      <td>2023-02-19</td>\n    </tr>\n    <tr>\n      <th>3</th>\n      <td>Opebi Ikeja Lagos</td>\n      <td>1,500,000/year</td>\n      <td>Updated 19 Feb 2023, Added 09 Dec 2022</td>\n      <td>FOR RENT: Lovely 2 bedrooms flat in opebi, up...</td>\n      <td>Newly Built</td>\n      <td>2 beds1 baths1 Toilets</td>\n      <td>Rent</td>\n      <td>1500000.0</td>\n      <td>year</td>\n      <td>2</td>\n      <td>1</td>\n      <td>1</td>\n      <td>Ikeja</td>\n      <td>Mainland</td>\n      <td>1</td>\n      <td>0</td>\n      <td>0</td>\n      <td>2022-12-09</td>\n      <td>2023-02-19</td>\n    </tr>\n    <tr>\n      <th>4</th>\n      <td>Ikota Lekki Lagos</td>\n      <td>8,000,000/year</td>\n      <td>Updated 19 Feb 2023, Added 09 Feb 2023</td>\n      <td>FOR RENT: FOR RENT: Luxury 5 Bedroom Detached...</td>\n      <td>Newly Built</td>\n      <td>5 beds6 baths7 Toilets</td>\n      <td>Rent</td>\n      <td>8000000.0</td>\n      <td>year</td>\n      <td>5</td>\n      <td>6</td>\n      <td>7</td>\n      <td>Lekki</td>\n      <td>Island</td>\n      <td>1</td>\n      <td>0</td>\n      <td>0</td>\n      <td>2023-02-09</td>\n      <td>2023-02-19</td>\n    </tr>\n  </tbody>\n</table>\n</div>"
     },
     "execution_count": 82,
     "metadata": {},
     "output_type": "execute_result"
    }
   ],
   "source": [
    "df.head()"
   ],
   "metadata": {
    "collapsed": false
   }
  },
  {
   "cell_type": "code",
   "execution_count": 83,
   "outputs": [
    {
     "data": {
      "text/plain": "                            Location  \\\n0  Bakare Estate Chevron Lekki Lagos   \n1      Phase 2 Estate, Gbagada Lagos   \n2                 Oregun Ikeja Lagos   \n3                  Opebi Ikeja Lagos   \n4                  Ikota Lekki Lagos   \n\n                                         Description Listing_Type      Price  \\\n0   FOR RENT: BRAND NEW WELL SPACED DUPLEX IN A S...         Rent  4000000.0   \n1   FOR RENT: RELATIVELY NEW 4 BEDROOM DUPLEX!!! ...         Rent  5500000.0   \n2   FOR RENT: A basic 2 bedroom apartment in a lo...         Rent  1200000.0   \n3   FOR RENT: Lovely 2 bedrooms flat in opebi, up...         Rent  1500000.0   \n4   FOR RENT: FOR RENT: Luxury 5 Bedroom Detached...         Rent  8000000.0   \n\n  Beds Baths Toilets     City Location_Area  Newly Built  Furnished  \\\n0    3     3       4    Lekki        Island            1          0   \n1    4     5       5  Gbagada      Mainland            0          0   \n2    2     2       2    Ikeja      Mainland            0          0   \n3    2     1       1    Ikeja      Mainland            1          0   \n4    5     6       7    Lekki        Island            1          0   \n\n   Serviced_1 Date_Added Date_Updated  \n0           1 2023-02-14   2023-02-19  \n1           0 2023-02-15   2023-02-19  \n2           0 2023-01-04   2023-02-19  \n3           0 2022-12-09   2023-02-19  \n4           0 2023-02-09   2023-02-19  ",
      "text/html": "<div>\n<style scoped>\n    .dataframe tbody tr th:only-of-type {\n        vertical-align: middle;\n    }\n\n    .dataframe tbody tr th {\n        vertical-align: top;\n    }\n\n    .dataframe thead th {\n        text-align: right;\n    }\n</style>\n<table border=\"1\" class=\"dataframe\">\n  <thead>\n    <tr style=\"text-align: right;\">\n      <th></th>\n      <th>Location</th>\n      <th>Description</th>\n      <th>Listing_Type</th>\n      <th>Price</th>\n      <th>Beds</th>\n      <th>Baths</th>\n      <th>Toilets</th>\n      <th>City</th>\n      <th>Location_Area</th>\n      <th>Newly Built</th>\n      <th>Furnished</th>\n      <th>Serviced_1</th>\n      <th>Date_Added</th>\n      <th>Date_Updated</th>\n    </tr>\n  </thead>\n  <tbody>\n    <tr>\n      <th>0</th>\n      <td>Bakare Estate Chevron Lekki Lagos</td>\n      <td>FOR RENT: BRAND NEW WELL SPACED DUPLEX IN A S...</td>\n      <td>Rent</td>\n      <td>4000000.0</td>\n      <td>3</td>\n      <td>3</td>\n      <td>4</td>\n      <td>Lekki</td>\n      <td>Island</td>\n      <td>1</td>\n      <td>0</td>\n      <td>1</td>\n      <td>2023-02-14</td>\n      <td>2023-02-19</td>\n    </tr>\n    <tr>\n      <th>1</th>\n      <td>Phase 2 Estate, Gbagada Lagos</td>\n      <td>FOR RENT: RELATIVELY NEW 4 BEDROOM DUPLEX!!! ...</td>\n      <td>Rent</td>\n      <td>5500000.0</td>\n      <td>4</td>\n      <td>5</td>\n      <td>5</td>\n      <td>Gbagada</td>\n      <td>Mainland</td>\n      <td>0</td>\n      <td>0</td>\n      <td>0</td>\n      <td>2023-02-15</td>\n      <td>2023-02-19</td>\n    </tr>\n    <tr>\n      <th>2</th>\n      <td>Oregun Ikeja Lagos</td>\n      <td>FOR RENT: A basic 2 bedroom apartment in a lo...</td>\n      <td>Rent</td>\n      <td>1200000.0</td>\n      <td>2</td>\n      <td>2</td>\n      <td>2</td>\n      <td>Ikeja</td>\n      <td>Mainland</td>\n      <td>0</td>\n      <td>0</td>\n      <td>0</td>\n      <td>2023-01-04</td>\n      <td>2023-02-19</td>\n    </tr>\n    <tr>\n      <th>3</th>\n      <td>Opebi Ikeja Lagos</td>\n      <td>FOR RENT: Lovely 2 bedrooms flat in opebi, up...</td>\n      <td>Rent</td>\n      <td>1500000.0</td>\n      <td>2</td>\n      <td>1</td>\n      <td>1</td>\n      <td>Ikeja</td>\n      <td>Mainland</td>\n      <td>1</td>\n      <td>0</td>\n      <td>0</td>\n      <td>2022-12-09</td>\n      <td>2023-02-19</td>\n    </tr>\n    <tr>\n      <th>4</th>\n      <td>Ikota Lekki Lagos</td>\n      <td>FOR RENT: FOR RENT: Luxury 5 Bedroom Detached...</td>\n      <td>Rent</td>\n      <td>8000000.0</td>\n      <td>5</td>\n      <td>6</td>\n      <td>7</td>\n      <td>Lekki</td>\n      <td>Island</td>\n      <td>1</td>\n      <td>0</td>\n      <td>0</td>\n      <td>2023-02-09</td>\n      <td>2023-02-19</td>\n    </tr>\n  </tbody>\n</table>\n</div>"
     },
     "execution_count": 83,
     "metadata": {},
     "output_type": "execute_result"
    }
   ],
   "source": [
    "df.drop(labels=['Price_Period', 'Date_Added_Updated', 'Serviced',\n",
    "                'Bed_Bath_Toilet', 'Period'], axis=1, inplace=True)\n",
    "df.head()"
   ],
   "metadata": {
    "collapsed": false
   }
  },
  {
   "cell_type": "code",
   "execution_count": 84,
   "outputs": [
    {
     "data": {
      "text/plain": "                            Location  \\\n0  Bakare Estate Chevron Lekki Lagos   \n1      Phase 2 Estate, Gbagada Lagos   \n2                 Oregun Ikeja Lagos   \n3                  Opebi Ikeja Lagos   \n4                  Ikota Lekki Lagos   \n\n                                         Description Listing_Type      Price  \\\n0   FOR RENT: BRAND NEW WELL SPACED DUPLEX IN A S...         Rent  4000000.0   \n1   FOR RENT: RELATIVELY NEW 4 BEDROOM DUPLEX!!! ...         Rent  5500000.0   \n2   FOR RENT: A basic 2 bedroom apartment in a lo...         Rent  1200000.0   \n3   FOR RENT: Lovely 2 bedrooms flat in opebi, up...         Rent  1500000.0   \n4   FOR RENT: FOR RENT: Luxury 5 Bedroom Detached...         Rent  8000000.0   \n\n  Beds Baths Toilets     City Location_Area  Newly Built  Furnished  Serviced  \\\n0    3     3       4    Lekki        Island            1          0         1   \n1    4     5       5  Gbagada      Mainland            0          0         0   \n2    2     2       2    Ikeja      Mainland            0          0         0   \n3    2     1       1    Ikeja      Mainland            1          0         0   \n4    5     6       7    Lekki        Island            1          0         0   \n\n  Date_Added Date_Updated  \n0 2023-02-14   2023-02-19  \n1 2023-02-15   2023-02-19  \n2 2023-01-04   2023-02-19  \n3 2022-12-09   2023-02-19  \n4 2023-02-09   2023-02-19  ",
      "text/html": "<div>\n<style scoped>\n    .dataframe tbody tr th:only-of-type {\n        vertical-align: middle;\n    }\n\n    .dataframe tbody tr th {\n        vertical-align: top;\n    }\n\n    .dataframe thead th {\n        text-align: right;\n    }\n</style>\n<table border=\"1\" class=\"dataframe\">\n  <thead>\n    <tr style=\"text-align: right;\">\n      <th></th>\n      <th>Location</th>\n      <th>Description</th>\n      <th>Listing_Type</th>\n      <th>Price</th>\n      <th>Beds</th>\n      <th>Baths</th>\n      <th>Toilets</th>\n      <th>City</th>\n      <th>Location_Area</th>\n      <th>Newly Built</th>\n      <th>Furnished</th>\n      <th>Serviced</th>\n      <th>Date_Added</th>\n      <th>Date_Updated</th>\n    </tr>\n  </thead>\n  <tbody>\n    <tr>\n      <th>0</th>\n      <td>Bakare Estate Chevron Lekki Lagos</td>\n      <td>FOR RENT: BRAND NEW WELL SPACED DUPLEX IN A S...</td>\n      <td>Rent</td>\n      <td>4000000.0</td>\n      <td>3</td>\n      <td>3</td>\n      <td>4</td>\n      <td>Lekki</td>\n      <td>Island</td>\n      <td>1</td>\n      <td>0</td>\n      <td>1</td>\n      <td>2023-02-14</td>\n      <td>2023-02-19</td>\n    </tr>\n    <tr>\n      <th>1</th>\n      <td>Phase 2 Estate, Gbagada Lagos</td>\n      <td>FOR RENT: RELATIVELY NEW 4 BEDROOM DUPLEX!!! ...</td>\n      <td>Rent</td>\n      <td>5500000.0</td>\n      <td>4</td>\n      <td>5</td>\n      <td>5</td>\n      <td>Gbagada</td>\n      <td>Mainland</td>\n      <td>0</td>\n      <td>0</td>\n      <td>0</td>\n      <td>2023-02-15</td>\n      <td>2023-02-19</td>\n    </tr>\n    <tr>\n      <th>2</th>\n      <td>Oregun Ikeja Lagos</td>\n      <td>FOR RENT: A basic 2 bedroom apartment in a lo...</td>\n      <td>Rent</td>\n      <td>1200000.0</td>\n      <td>2</td>\n      <td>2</td>\n      <td>2</td>\n      <td>Ikeja</td>\n      <td>Mainland</td>\n      <td>0</td>\n      <td>0</td>\n      <td>0</td>\n      <td>2023-01-04</td>\n      <td>2023-02-19</td>\n    </tr>\n    <tr>\n      <th>3</th>\n      <td>Opebi Ikeja Lagos</td>\n      <td>FOR RENT: Lovely 2 bedrooms flat in opebi, up...</td>\n      <td>Rent</td>\n      <td>1500000.0</td>\n      <td>2</td>\n      <td>1</td>\n      <td>1</td>\n      <td>Ikeja</td>\n      <td>Mainland</td>\n      <td>1</td>\n      <td>0</td>\n      <td>0</td>\n      <td>2022-12-09</td>\n      <td>2023-02-19</td>\n    </tr>\n    <tr>\n      <th>4</th>\n      <td>Ikota Lekki Lagos</td>\n      <td>FOR RENT: FOR RENT: Luxury 5 Bedroom Detached...</td>\n      <td>Rent</td>\n      <td>8000000.0</td>\n      <td>5</td>\n      <td>6</td>\n      <td>7</td>\n      <td>Lekki</td>\n      <td>Island</td>\n      <td>1</td>\n      <td>0</td>\n      <td>0</td>\n      <td>2023-02-09</td>\n      <td>2023-02-19</td>\n    </tr>\n  </tbody>\n</table>\n</div>"
     },
     "execution_count": 84,
     "metadata": {},
     "output_type": "execute_result"
    }
   ],
   "source": [
    "df.rename(columns={'Serviced_1': 'Serviced'}, inplace=True)\n",
    "df.head()"
   ],
   "metadata": {
    "collapsed": false
   }
  },
  {
   "cell_type": "code",
   "execution_count": 85,
   "outputs": [
    {
     "name": "stdout",
     "output_type": "stream",
     "text": [
      "<class 'pandas.core.frame.DataFrame'>\n",
      "Int64Index: 17392 entries, 0 to 17400\n",
      "Data columns (total 14 columns):\n",
      " #   Column         Non-Null Count  Dtype         \n",
      "---  ------         --------------  -----         \n",
      " 0   Location       17392 non-null  object        \n",
      " 1   Description    17392 non-null  object        \n",
      " 2   Listing_Type   17392 non-null  object        \n",
      " 3   Price          17392 non-null  float64       \n",
      " 4   Beds           15345 non-null  object        \n",
      " 5   Baths          15345 non-null  object        \n",
      " 6   Toilets        15345 non-null  object        \n",
      " 7   City           17392 non-null  object        \n",
      " 8   Location_Area  17392 non-null  object        \n",
      " 9   Newly Built    17392 non-null  int64         \n",
      " 10  Furnished      17392 non-null  int64         \n",
      " 11  Serviced       17392 non-null  int64         \n",
      " 12  Date_Added     17392 non-null  datetime64[ns]\n",
      " 13  Date_Updated   17392 non-null  datetime64[ns]\n",
      "dtypes: datetime64[ns](2), float64(1), int64(3), object(8)\n",
      "memory usage: 2.0+ MB\n"
     ]
    }
   ],
   "source": [
    "df.info()"
   ],
   "metadata": {
    "collapsed": false
   }
  },
  {
   "cell_type": "markdown",
   "source": [
    "We'll convert some object columns into the appropriate float datatype."
   ],
   "metadata": {
    "collapsed": false
   }
  },
  {
   "cell_type": "code",
   "execution_count": 86,
   "outputs": [],
   "source": [
    "categorical_variables = ['Beds', 'Baths', 'Toilets', 'Newly Built', 'Furnished', 'Serviced']"
   ],
   "metadata": {
    "collapsed": false
   }
  },
  {
   "cell_type": "code",
   "execution_count": 87,
   "outputs": [],
   "source": [
    "for i in categorical_variables:\n",
    "    for index, value in df[i].items():\n",
    "        if value == '':\n",
    "            df.at[index, i] = np.nan\n",
    "        if value == 's':\n",
    "            df.at[index, i] = np.nan"
   ],
   "metadata": {
    "collapsed": false
   }
  },
  {
   "cell_type": "code",
   "execution_count": 88,
   "outputs": [],
   "source": [
    "df[categorical_variables] = df[categorical_variables].astype(float)"
   ],
   "metadata": {
    "collapsed": false
   }
  },
  {
   "cell_type": "code",
   "execution_count": 89,
   "outputs": [
    {
     "name": "stdout",
     "output_type": "stream",
     "text": [
      "<class 'pandas.core.frame.DataFrame'>\n",
      "Int64Index: 17392 entries, 0 to 17400\n",
      "Data columns (total 14 columns):\n",
      " #   Column         Non-Null Count  Dtype         \n",
      "---  ------         --------------  -----         \n",
      " 0   Location       17392 non-null  object        \n",
      " 1   Description    17392 non-null  object        \n",
      " 2   Listing_Type   17392 non-null  object        \n",
      " 3   Price          17392 non-null  float64       \n",
      " 4   Beds           14755 non-null  float64       \n",
      " 5   Baths          14738 non-null  float64       \n",
      " 6   Toilets        14793 non-null  float64       \n",
      " 7   City           17392 non-null  object        \n",
      " 8   Location_Area  17392 non-null  object        \n",
      " 9   Newly Built    17392 non-null  float64       \n",
      " 10  Furnished      17392 non-null  float64       \n",
      " 11  Serviced       17392 non-null  float64       \n",
      " 12  Date_Added     17392 non-null  datetime64[ns]\n",
      " 13  Date_Updated   17392 non-null  datetime64[ns]\n",
      "dtypes: datetime64[ns](2), float64(7), object(5)\n",
      "memory usage: 2.5+ MB\n"
     ]
    }
   ],
   "source": [
    "df.info()"
   ],
   "metadata": {
    "collapsed": false
   }
  },
  {
   "cell_type": "code",
   "execution_count": 90,
   "outputs": [
    {
     "data": {
      "text/plain": "                            Location  \\\n0  Bakare Estate Chevron Lekki Lagos   \n1      Phase 2 Estate, Gbagada Lagos   \n2                 Oregun Ikeja Lagos   \n3                  Opebi Ikeja Lagos   \n4                  Ikota Lekki Lagos   \n\n                                         Description Listing_Type      Price  \\\n0   FOR RENT: BRAND NEW WELL SPACED DUPLEX IN A S...         Rent  4000000.0   \n1   FOR RENT: RELATIVELY NEW 4 BEDROOM DUPLEX!!! ...         Rent  5500000.0   \n2   FOR RENT: A basic 2 bedroom apartment in a lo...         Rent  1200000.0   \n3   FOR RENT: Lovely 2 bedrooms flat in opebi, up...         Rent  1500000.0   \n4   FOR RENT: FOR RENT: Luxury 5 Bedroom Detached...         Rent  8000000.0   \n\n   Beds  Baths  Toilets     City Location_Area  Newly Built  Furnished  \\\n0   3.0    3.0      4.0    Lekki        Island          1.0        0.0   \n1   4.0    5.0      5.0  Gbagada      Mainland          0.0        0.0   \n2   2.0    2.0      2.0    Ikeja      Mainland          0.0        0.0   \n3   2.0    1.0      1.0    Ikeja      Mainland          1.0        0.0   \n4   5.0    6.0      7.0    Lekki        Island          1.0        0.0   \n\n   Serviced Date_Added Date_Updated  \n0       1.0 2023-02-14   2023-02-19  \n1       0.0 2023-02-15   2023-02-19  \n2       0.0 2023-01-04   2023-02-19  \n3       0.0 2022-12-09   2023-02-19  \n4       0.0 2023-02-09   2023-02-19  ",
      "text/html": "<div>\n<style scoped>\n    .dataframe tbody tr th:only-of-type {\n        vertical-align: middle;\n    }\n\n    .dataframe tbody tr th {\n        vertical-align: top;\n    }\n\n    .dataframe thead th {\n        text-align: right;\n    }\n</style>\n<table border=\"1\" class=\"dataframe\">\n  <thead>\n    <tr style=\"text-align: right;\">\n      <th></th>\n      <th>Location</th>\n      <th>Description</th>\n      <th>Listing_Type</th>\n      <th>Price</th>\n      <th>Beds</th>\n      <th>Baths</th>\n      <th>Toilets</th>\n      <th>City</th>\n      <th>Location_Area</th>\n      <th>Newly Built</th>\n      <th>Furnished</th>\n      <th>Serviced</th>\n      <th>Date_Added</th>\n      <th>Date_Updated</th>\n    </tr>\n  </thead>\n  <tbody>\n    <tr>\n      <th>0</th>\n      <td>Bakare Estate Chevron Lekki Lagos</td>\n      <td>FOR RENT: BRAND NEW WELL SPACED DUPLEX IN A S...</td>\n      <td>Rent</td>\n      <td>4000000.0</td>\n      <td>3.0</td>\n      <td>3.0</td>\n      <td>4.0</td>\n      <td>Lekki</td>\n      <td>Island</td>\n      <td>1.0</td>\n      <td>0.0</td>\n      <td>1.0</td>\n      <td>2023-02-14</td>\n      <td>2023-02-19</td>\n    </tr>\n    <tr>\n      <th>1</th>\n      <td>Phase 2 Estate, Gbagada Lagos</td>\n      <td>FOR RENT: RELATIVELY NEW 4 BEDROOM DUPLEX!!! ...</td>\n      <td>Rent</td>\n      <td>5500000.0</td>\n      <td>4.0</td>\n      <td>5.0</td>\n      <td>5.0</td>\n      <td>Gbagada</td>\n      <td>Mainland</td>\n      <td>0.0</td>\n      <td>0.0</td>\n      <td>0.0</td>\n      <td>2023-02-15</td>\n      <td>2023-02-19</td>\n    </tr>\n    <tr>\n      <th>2</th>\n      <td>Oregun Ikeja Lagos</td>\n      <td>FOR RENT: A basic 2 bedroom apartment in a lo...</td>\n      <td>Rent</td>\n      <td>1200000.0</td>\n      <td>2.0</td>\n      <td>2.0</td>\n      <td>2.0</td>\n      <td>Ikeja</td>\n      <td>Mainland</td>\n      <td>0.0</td>\n      <td>0.0</td>\n      <td>0.0</td>\n      <td>2023-01-04</td>\n      <td>2023-02-19</td>\n    </tr>\n    <tr>\n      <th>3</th>\n      <td>Opebi Ikeja Lagos</td>\n      <td>FOR RENT: Lovely 2 bedrooms flat in opebi, up...</td>\n      <td>Rent</td>\n      <td>1500000.0</td>\n      <td>2.0</td>\n      <td>1.0</td>\n      <td>1.0</td>\n      <td>Ikeja</td>\n      <td>Mainland</td>\n      <td>1.0</td>\n      <td>0.0</td>\n      <td>0.0</td>\n      <td>2022-12-09</td>\n      <td>2023-02-19</td>\n    </tr>\n    <tr>\n      <th>4</th>\n      <td>Ikota Lekki Lagos</td>\n      <td>FOR RENT: FOR RENT: Luxury 5 Bedroom Detached...</td>\n      <td>Rent</td>\n      <td>8000000.0</td>\n      <td>5.0</td>\n      <td>6.0</td>\n      <td>7.0</td>\n      <td>Lekki</td>\n      <td>Island</td>\n      <td>1.0</td>\n      <td>0.0</td>\n      <td>0.0</td>\n      <td>2023-02-09</td>\n      <td>2023-02-19</td>\n    </tr>\n  </tbody>\n</table>\n</div>"
     },
     "execution_count": 90,
     "metadata": {},
     "output_type": "execute_result"
    }
   ],
   "source": [
    "df.head()"
   ],
   "metadata": {
    "collapsed": false
   }
  },
  {
   "cell_type": "code",
   "execution_count": 91,
   "outputs": [],
   "source": [
    "df.to_csv('lag_listings_clean.csv', index=False)"
   ],
   "metadata": {
    "collapsed": false
   }
  }
 ],
 "metadata": {
  "kernelspec": {
   "display_name": "Python 3",
   "language": "python",
   "name": "python3"
  },
  "language_info": {
   "codemirror_mode": {
    "name": "ipython",
    "version": 2
   },
   "file_extension": ".py",
   "mimetype": "text/x-python",
   "name": "python",
   "nbconvert_exporter": "python",
   "pygments_lexer": "ipython2",
   "version": "2.7.6"
  }
 },
 "nbformat": 4,
 "nbformat_minor": 0
}

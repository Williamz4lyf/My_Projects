{
 "cells": [
  {
   "cell_type": "code",
   "execution_count": 1,
   "metadata": {
    "collapsed": true
   },
   "outputs": [],
   "source": [
    "import warnings\n",
    "warnings.simplefilter(action='ignore')\n",
    "\n",
    "import pandas as pd\n",
    "import numpy as np\n",
    "import matplotlib.pyplot as plt"
   ]
  },
  {
   "cell_type": "code",
   "execution_count": 5,
   "outputs": [
    {
     "data": {
      "text/plain": "          hotel  is_canceled  lead_time  arrival_date_year arrival_date_month  \\\n0  Resort Hotel            0        342               2015               July   \n1  Resort Hotel            0        737               2015               July   \n2  Resort Hotel            0          7               2015               July   \n3  Resort Hotel            0         13               2015               July   \n4  Resort Hotel            0         14               2015               July   \n\n   arrival_date_week_number  arrival_date_day_of_month  \\\n0                        27                          1   \n1                        27                          1   \n2                        27                          1   \n3                        27                          1   \n4                        27                          1   \n\n   stays_in_weekend_nights  stays_in_week_nights  adults  ...  deposit_type  \\\n0                        0                     0       2  ...    No Deposit   \n1                        0                     0       2  ...    No Deposit   \n2                        0                     1       1  ...    No Deposit   \n3                        0                     1       1  ...    No Deposit   \n4                        0                     2       2  ...    No Deposit   \n\n   agent company days_in_waiting_list customer_type   adr  \\\n0    NaN     NaN                    0     Transient   0.0   \n1    NaN     NaN                    0     Transient   0.0   \n2    NaN     NaN                    0     Transient  75.0   \n3  304.0     NaN                    0     Transient  75.0   \n4  240.0     NaN                    0     Transient  98.0   \n\n   required_car_parking_spaces  total_of_special_requests  reservation_status  \\\n0                            0                          0           Check-Out   \n1                            0                          0           Check-Out   \n2                            0                          0           Check-Out   \n3                            0                          0           Check-Out   \n4                            0                          1           Check-Out   \n\n  reservation_status_date  \n0              2015-07-01  \n1              2015-07-01  \n2              2015-07-02  \n3              2015-07-02  \n4              2015-07-03  \n\n[5 rows x 32 columns]",
      "text/html": "<div>\n<style scoped>\n    .dataframe tbody tr th:only-of-type {\n        vertical-align: middle;\n    }\n\n    .dataframe tbody tr th {\n        vertical-align: top;\n    }\n\n    .dataframe thead th {\n        text-align: right;\n    }\n</style>\n<table border=\"1\" class=\"dataframe\">\n  <thead>\n    <tr style=\"text-align: right;\">\n      <th></th>\n      <th>hotel</th>\n      <th>is_canceled</th>\n      <th>lead_time</th>\n      <th>arrival_date_year</th>\n      <th>arrival_date_month</th>\n      <th>arrival_date_week_number</th>\n      <th>arrival_date_day_of_month</th>\n      <th>stays_in_weekend_nights</th>\n      <th>stays_in_week_nights</th>\n      <th>adults</th>\n      <th>...</th>\n      <th>deposit_type</th>\n      <th>agent</th>\n      <th>company</th>\n      <th>days_in_waiting_list</th>\n      <th>customer_type</th>\n      <th>adr</th>\n      <th>required_car_parking_spaces</th>\n      <th>total_of_special_requests</th>\n      <th>reservation_status</th>\n      <th>reservation_status_date</th>\n    </tr>\n  </thead>\n  <tbody>\n    <tr>\n      <th>0</th>\n      <td>Resort Hotel</td>\n      <td>0</td>\n      <td>342</td>\n      <td>2015</td>\n      <td>July</td>\n      <td>27</td>\n      <td>1</td>\n      <td>0</td>\n      <td>0</td>\n      <td>2</td>\n      <td>...</td>\n      <td>No Deposit</td>\n      <td>NaN</td>\n      <td>NaN</td>\n      <td>0</td>\n      <td>Transient</td>\n      <td>0.0</td>\n      <td>0</td>\n      <td>0</td>\n      <td>Check-Out</td>\n      <td>2015-07-01</td>\n    </tr>\n    <tr>\n      <th>1</th>\n      <td>Resort Hotel</td>\n      <td>0</td>\n      <td>737</td>\n      <td>2015</td>\n      <td>July</td>\n      <td>27</td>\n      <td>1</td>\n      <td>0</td>\n      <td>0</td>\n      <td>2</td>\n      <td>...</td>\n      <td>No Deposit</td>\n      <td>NaN</td>\n      <td>NaN</td>\n      <td>0</td>\n      <td>Transient</td>\n      <td>0.0</td>\n      <td>0</td>\n      <td>0</td>\n      <td>Check-Out</td>\n      <td>2015-07-01</td>\n    </tr>\n    <tr>\n      <th>2</th>\n      <td>Resort Hotel</td>\n      <td>0</td>\n      <td>7</td>\n      <td>2015</td>\n      <td>July</td>\n      <td>27</td>\n      <td>1</td>\n      <td>0</td>\n      <td>1</td>\n      <td>1</td>\n      <td>...</td>\n      <td>No Deposit</td>\n      <td>NaN</td>\n      <td>NaN</td>\n      <td>0</td>\n      <td>Transient</td>\n      <td>75.0</td>\n      <td>0</td>\n      <td>0</td>\n      <td>Check-Out</td>\n      <td>2015-07-02</td>\n    </tr>\n    <tr>\n      <th>3</th>\n      <td>Resort Hotel</td>\n      <td>0</td>\n      <td>13</td>\n      <td>2015</td>\n      <td>July</td>\n      <td>27</td>\n      <td>1</td>\n      <td>0</td>\n      <td>1</td>\n      <td>1</td>\n      <td>...</td>\n      <td>No Deposit</td>\n      <td>304.0</td>\n      <td>NaN</td>\n      <td>0</td>\n      <td>Transient</td>\n      <td>75.0</td>\n      <td>0</td>\n      <td>0</td>\n      <td>Check-Out</td>\n      <td>2015-07-02</td>\n    </tr>\n    <tr>\n      <th>4</th>\n      <td>Resort Hotel</td>\n      <td>0</td>\n      <td>14</td>\n      <td>2015</td>\n      <td>July</td>\n      <td>27</td>\n      <td>1</td>\n      <td>0</td>\n      <td>2</td>\n      <td>2</td>\n      <td>...</td>\n      <td>No Deposit</td>\n      <td>240.0</td>\n      <td>NaN</td>\n      <td>0</td>\n      <td>Transient</td>\n      <td>98.0</td>\n      <td>0</td>\n      <td>1</td>\n      <td>Check-Out</td>\n      <td>2015-07-03</td>\n    </tr>\n  </tbody>\n</table>\n<p>5 rows × 32 columns</p>\n</div>"
     },
     "execution_count": 5,
     "metadata": {},
     "output_type": "execute_result"
    }
   ],
   "source": [
    "df_1517 = pd.read_csv('hotel_booking.csv').drop(columns=['name', 'email', 'phone-number', 'credit_card'])\n",
    "df_18 = pd.read_csv('2018_hotel_revenue.csv')\n",
    "df_19 = pd.read_csv('2019_hotel_revenue.csv')\n",
    "df_20 = pd.read_csv('2020_hotel_revenue.csv')\n",
    "df = pd.concat([df_1517, df_18, df_19, df_20])\n",
    "df.head()"
   ],
   "metadata": {
    "collapsed": false
   }
  },
  {
   "cell_type": "code",
   "execution_count": 11,
   "outputs": [],
   "source": [
    "df.to_csv('hotel_bookings_2015_2020.csv', index=False)"
   ],
   "metadata": {
    "collapsed": false
   }
  },
  {
   "cell_type": "code",
   "execution_count": 6,
   "outputs": [
    {
     "name": "stdout",
     "output_type": "stream",
     "text": [
      "<class 'pandas.core.frame.DataFrame'>\n",
      "Int64Index: 261337 entries, 0 to 40686\n",
      "Data columns (total 32 columns):\n",
      " #   Column                          Non-Null Count   Dtype  \n",
      "---  ------                          --------------   -----  \n",
      " 0   hotel                           261337 non-null  object \n",
      " 1   is_canceled                     261337 non-null  int64  \n",
      " 2   lead_time                       261337 non-null  int64  \n",
      " 3   arrival_date_year               261337 non-null  int64  \n",
      " 4   arrival_date_month              261337 non-null  object \n",
      " 5   arrival_date_week_number        261337 non-null  int64  \n",
      " 6   arrival_date_day_of_month       261337 non-null  int64  \n",
      " 7   stays_in_weekend_nights         261337 non-null  int64  \n",
      " 8   stays_in_week_nights            261337 non-null  int64  \n",
      " 9   adults                          261337 non-null  int64  \n",
      " 10  children                        261325 non-null  float64\n",
      " 11  babies                          261337 non-null  int64  \n",
      " 12  meal                            261337 non-null  object \n",
      " 13  country                         260224 non-null  object \n",
      " 14  market_segment                  261337 non-null  object \n",
      " 15  distribution_channel            261337 non-null  object \n",
      " 16  is_repeated_guest               261337 non-null  int64  \n",
      " 17  previous_cancellations          261337 non-null  int64  \n",
      " 18  previous_bookings_not_canceled  261337 non-null  int64  \n",
      " 19  reserved_room_type              261337 non-null  object \n",
      " 20  assigned_room_type              261337 non-null  object \n",
      " 21  booking_changes                 261337 non-null  int64  \n",
      " 22  deposit_type                    261337 non-null  object \n",
      " 23  agent                           225442 non-null  float64\n",
      " 24  company                         14922 non-null   float64\n",
      " 25  days_in_waiting_list            261337 non-null  int64  \n",
      " 26  customer_type                   261337 non-null  object \n",
      " 27  adr                             261337 non-null  float64\n",
      " 28  required_car_parking_spaces     261337 non-null  int64  \n",
      " 29  total_of_special_requests       261337 non-null  int64  \n",
      " 30  reservation_status              261337 non-null  object \n",
      " 31  reservation_status_date         261337 non-null  object \n",
      "dtypes: float64(4), int64(16), object(12)\n",
      "memory usage: 65.8+ MB\n"
     ]
    }
   ],
   "source": [
    "df.info()"
   ],
   "metadata": {
    "collapsed": false
   }
  },
  {
   "cell_type": "code",
   "execution_count": 7,
   "outputs": [
    {
     "data": {
      "text/plain": "array([2015, 2016, 2017, 2018, 2019, 2020])"
     },
     "execution_count": 7,
     "metadata": {},
     "output_type": "execute_result"
    }
   ],
   "source": [
    "df['arrival_date_year'].unique()"
   ],
   "metadata": {
    "collapsed": false
   }
  },
  {
   "cell_type": "code",
   "execution_count": 10,
   "outputs": [
    {
     "data": {
      "text/plain": "NaN      112593\n40.0        927\n223.0       784\n67.0        267\n45.0        250\n          ...  \n32.0          1\n11.0          1\n487.0         1\n101.0         1\n376.0         1\nName: company, Length: 353, dtype: int64"
     },
     "execution_count": 10,
     "metadata": {},
     "output_type": "execute_result"
    }
   ],
   "source": [
    "df_1517['company'].value_counts(dropna=False)"
   ],
   "metadata": {
    "collapsed": false
   }
  }
 ],
 "metadata": {
  "kernelspec": {
   "display_name": "Python 3",
   "language": "python",
   "name": "python3"
  },
  "language_info": {
   "codemirror_mode": {
    "name": "ipython",
    "version": 2
   },
   "file_extension": ".py",
   "mimetype": "text/x-python",
   "name": "python",
   "nbconvert_exporter": "python",
   "pygments_lexer": "ipython2",
   "version": "2.7.6"
  }
 },
 "nbformat": 4,
 "nbformat_minor": 0
}

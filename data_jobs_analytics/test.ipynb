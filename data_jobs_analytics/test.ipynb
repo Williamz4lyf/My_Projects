{
 "cells": [
  {
   "cell_type": "code",
   "execution_count": 3,
   "metadata": {
    "collapsed": true
   },
   "outputs": [],
   "source": [
    "import pandas as pd\n",
    "import numpy as np\n",
    "import matplotlib.pyplot as plt\n",
    "%matplotlib inline\n",
    "import folium"
   ]
  },
  {
   "cell_type": "code",
   "execution_count": 5,
   "outputs": [],
   "source": [
    "df1 = pd.read_excel('/Users/nnankewilliams/Library/CloudStorage/OneDrive-Personal/Data Analytics/Tableau/netflix_titles.xlsx', sheet_name=0)\n",
    "df2 = pd.read_excel('/Users/nnankewilliams/Library/CloudStorage/OneDrive-Personal/Data Analytics/Tableau/netflix_titles.xlsx', sheet_name=1)\n",
    "df3 = pd.read_excel('/Users/nnankewilliams/Library/CloudStorage/OneDrive-Personal/Data Analytics/Tableau/netflix_titles.xlsx', sheet_name=2)\n",
    "df4 = pd.read_excel('/Users/nnankewilliams/Library/CloudStorage/OneDrive-Personal/Data Analytics/Tableau/netflix_titles.xlsx', sheet_name=3)\n",
    "df5 = pd.read_excel('/Users/nnankewilliams/Library/CloudStorage/OneDrive-Personal/Data Analytics/Tableau/netflix_titles.xlsx', sheet_name=4)\n",
    "\n"
   ],
   "metadata": {
    "collapsed": false
   }
  },
  {
   "cell_type": "code",
   "execution_count": 7,
   "outputs": [
    {
     "data": {
      "text/plain": "  duration_minutes duration_seasons     type  \\\n0               90              NaN    Movie   \n1               94              NaN    Movie   \n2              NaN                1  TV Show   \n3              NaN                1  TV Show   \n4               99              NaN    Movie   \n\n                                     title           date_added  release_year  \\\n0  Norm of the North: King Sized Adventure  2019-09-09 00:00:00        2019.0   \n1               Jandino: Whatever it Takes  2016-09-09 00:00:00        2016.0   \n2                       Transformers Prime  2018-09-08 00:00:00        2013.0   \n3         Transformers: Robots in Disguise  2018-09-08 00:00:00        2016.0   \n4                             #realityhigh  2017-09-08 00:00:00        2017.0   \n\n     rating                                        description     show_id  \n0     TV-PG  Before planning an awesome wedding for his gra...  81145628.0  \n1     TV-MA  Jandino Asporaat riffs on the challenges of ra...  80117401.0  \n2  TV-Y7-FV  With the help of three human allies, the Autob...  70234439.0  \n3     TV-Y7  When a prison ship crash unleashes hundreds of...  80058654.0  \n4     TV-14  When nerdy high schooler Dani finally attracts...  80125979.0  ",
      "text/html": "<div>\n<style scoped>\n    .dataframe tbody tr th:only-of-type {\n        vertical-align: middle;\n    }\n\n    .dataframe tbody tr th {\n        vertical-align: top;\n    }\n\n    .dataframe thead th {\n        text-align: right;\n    }\n</style>\n<table border=\"1\" class=\"dataframe\">\n  <thead>\n    <tr style=\"text-align: right;\">\n      <th></th>\n      <th>duration_minutes</th>\n      <th>duration_seasons</th>\n      <th>type</th>\n      <th>title</th>\n      <th>date_added</th>\n      <th>release_year</th>\n      <th>rating</th>\n      <th>description</th>\n      <th>show_id</th>\n    </tr>\n  </thead>\n  <tbody>\n    <tr>\n      <th>0</th>\n      <td>90</td>\n      <td>NaN</td>\n      <td>Movie</td>\n      <td>Norm of the North: King Sized Adventure</td>\n      <td>2019-09-09 00:00:00</td>\n      <td>2019.0</td>\n      <td>TV-PG</td>\n      <td>Before planning an awesome wedding for his gra...</td>\n      <td>81145628.0</td>\n    </tr>\n    <tr>\n      <th>1</th>\n      <td>94</td>\n      <td>NaN</td>\n      <td>Movie</td>\n      <td>Jandino: Whatever it Takes</td>\n      <td>2016-09-09 00:00:00</td>\n      <td>2016.0</td>\n      <td>TV-MA</td>\n      <td>Jandino Asporaat riffs on the challenges of ra...</td>\n      <td>80117401.0</td>\n    </tr>\n    <tr>\n      <th>2</th>\n      <td>NaN</td>\n      <td>1</td>\n      <td>TV Show</td>\n      <td>Transformers Prime</td>\n      <td>2018-09-08 00:00:00</td>\n      <td>2013.0</td>\n      <td>TV-Y7-FV</td>\n      <td>With the help of three human allies, the Autob...</td>\n      <td>70234439.0</td>\n    </tr>\n    <tr>\n      <th>3</th>\n      <td>NaN</td>\n      <td>1</td>\n      <td>TV Show</td>\n      <td>Transformers: Robots in Disguise</td>\n      <td>2018-09-08 00:00:00</td>\n      <td>2016.0</td>\n      <td>TV-Y7</td>\n      <td>When a prison ship crash unleashes hundreds of...</td>\n      <td>80058654.0</td>\n    </tr>\n    <tr>\n      <th>4</th>\n      <td>99</td>\n      <td>NaN</td>\n      <td>Movie</td>\n      <td>#realityhigh</td>\n      <td>2017-09-08 00:00:00</td>\n      <td>2017.0</td>\n      <td>TV-14</td>\n      <td>When nerdy high schooler Dani finally attracts...</td>\n      <td>80125979.0</td>\n    </tr>\n  </tbody>\n</table>\n</div>"
     },
     "execution_count": 7,
     "metadata": {},
     "output_type": "execute_result"
    }
   ],
   "source": [
    "df1.head()"
   ],
   "metadata": {
    "collapsed": false
   }
  }
 ],
 "metadata": {
  "kernelspec": {
   "display_name": "Python 3",
   "language": "python",
   "name": "python3"
  },
  "language_info": {
   "codemirror_mode": {
    "name": "ipython",
    "version": 2
   },
   "file_extension": ".py",
   "mimetype": "text/x-python",
   "name": "python",
   "nbconvert_exporter": "python",
   "pygments_lexer": "ipython2",
   "version": "2.7.6"
  }
 },
 "nbformat": 4,
 "nbformat_minor": 0
}

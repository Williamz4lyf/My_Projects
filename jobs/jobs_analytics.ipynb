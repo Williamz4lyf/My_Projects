{
 "cells": [
  {
   "cell_type": "markdown",
   "source": [
    "# Data Analyst Skills Analysis"
   ],
   "metadata": {
    "collapsed": false
   }
  },
  {
   "cell_type": "code",
   "execution_count": null,
   "metadata": {
    "collapsed": true
   },
   "outputs": [],
   "source": [
    "import warnings\n",
    "warnings.filterwarnings('ignore')\n",
    "\n",
    "import os\n",
    "import datetime\n",
    "import pandas as pd\n",
    "import numpy as np\n",
    "import missingno as msno\n",
    "from string import punctuation as punct\n",
    "import datetime as dt\n",
    "\n",
    "%matplotlib inline\n",
    "import matplotlib.pyplot as plt\n",
    "import seaborn as sns\n",
    "import re\n",
    "\n",
    "pd.set_option('display.max_columns', None)\n",
    "pd.set_option(\"display.max_rows\", None)"
   ]
  },
  {
   "cell_type": "code",
   "execution_count": null,
   "outputs": [],
   "source": [
    "jobs_main = pd.read_csv('gsearch_jobs.csv')\n",
    "jobs = jobs_main.copy()\n",
    "\n",
    "# Drop irrelevant columns\n",
    "jobs.drop(columns=['Unnamed: 0', 'index',\n",
    "                   'thumbnail', 'job_id', 'commute_time'], inplace=True)\n",
    "\n",
    "# Drop duplicates\n",
    "jobs.drop_duplicates(inplace=True)\n",
    "jobs.reset_index()\n",
    "\n",
    "jobs.head(10)"
   ],
   "metadata": {
    "collapsed": false
   }
  },
  {
   "cell_type": "code",
   "execution_count": null,
   "outputs": [],
   "source": [
    "jobs.info()"
   ],
   "metadata": {
    "collapsed": false
   }
  },
  {
   "cell_type": "markdown",
   "source": [
    "# Cleaning the Dataframe\n",
    "The dataframe will be cleaned as follows:\n",
    "1. We drop duplicates and irrelevant columns\n",
    "2. We clean the 'via' column to 'via' from the records and update column name to listing_site\n",
    "3. We handle null values in location & create a 'State' field from the location field.\n",
    "4. We handle null values in schedule_type using the most frequent value, since this is a categorical feature.\n",
    "5. We clean the description_token field to highlight top technical skills required for roles in the dataset.\n",
    "6."
   ],
   "metadata": {
    "collapsed": false
   }
  },
  {
   "cell_type": "code",
   "execution_count": null,
   "outputs": [],
   "source": [
    "msno.matrix(jobs)"
   ],
   "metadata": {
    "collapsed": false
   }
  },
  {
   "cell_type": "code",
   "execution_count": null,
   "outputs": [],
   "source": [
    "jobs.isnull().sum()"
   ],
   "metadata": {
    "collapsed": false
   }
  },
  {
   "cell_type": "markdown",
   "source": [
    "### Clean the 'via' column\n",
    "Rename the column and using the series.apply() with a lambda function to remove 'via' from the records. The result is a series with the name of the sites where the jobs were listed."
   ],
   "metadata": {
    "collapsed": false
   }
  },
  {
   "cell_type": "code",
   "execution_count": null,
   "outputs": [],
   "source": [
    "# Rename and clean the 'via' column\n",
    "jobs.rename(columns={'via':'listing_site'}, inplace=True)\n",
    "jobs['listing_site'] = jobs['listing_site'].apply(lambda x: x[4:])\n",
    "\n",
    "jobs.head()"
   ],
   "metadata": {
    "collapsed": false
   }
  },
  {
   "cell_type": "markdown",
   "source": [
    "### Drop the extra salary columns\n",
    "This is to let us conduct our own cleaning and analysis to determine what parameters 'salary' should be determined by/ displayed as."
   ],
   "metadata": {
    "collapsed": false
   }
  },
  {
   "cell_type": "code",
   "execution_count": null,
   "outputs": [],
   "source": [
    "jobs.drop(columns=['salary_pay', 'salary_rate', 'salary_avg', 'salary_min',\n",
    "                   'salary_max', 'salary_hourly', 'salary_yearly', 'salary_standardized'], inplace=True)"
   ],
   "metadata": {
    "collapsed": false
   }
  },
  {
   "cell_type": "markdown",
   "source": [
    "### Clean date_time columns\n",
    "Convert the date_time column from object datatype to datetime datatype. The resulting datatype 'M8\\[ns]' is a form of datetime datatype."
   ],
   "metadata": {
    "collapsed": false
   }
  },
  {
   "cell_type": "code",
   "execution_count": null,
   "outputs": [],
   "source": [
    "jobs['date_time'] = pd.to_datetime(jobs['date_time'], errors='ignore')\n",
    "jobs['date_time'].dtype"
   ],
   "metadata": {
    "collapsed": false
   }
  },
  {
   "cell_type": "markdown",
   "source": [
    "### Handle nulls in location\n",
    "Use the description field to determine the location of the job. Where unable, use 'United States' as the most popular country option and the single option in search_location."
   ],
   "metadata": {
    "collapsed": false
   }
  },
  {
   "cell_type": "code",
   "execution_count": null,
   "outputs": [],
   "source": [
    "jobs['location'].value_counts(dropna=False)"
   ],
   "metadata": {
    "collapsed": false
   }
  },
  {
   "cell_type": "code",
   "execution_count": null,
   "outputs": [],
   "source": [
    "jobs.loc[jobs['location'].isnull()]['description']"
   ],
   "metadata": {
    "collapsed": false
   }
  },
  {
   "cell_type": "markdown",
   "source": [
    "This record description shows that the location description is in Kansas City, MO. We'll update accordingly."
   ],
   "metadata": {
    "collapsed": false
   }
  },
  {
   "cell_type": "code",
   "execution_count": null,
   "outputs": [],
   "source": [
    "jobs.loc[jobs['location'].isnull()]['description'].loc[652]"
   ],
   "metadata": {
    "collapsed": false
   }
  },
  {
   "cell_type": "code",
   "execution_count": null,
   "outputs": [],
   "source": [
    "jobs.at[652, 'location'] = 'Kansas City, MO'\n",
    "jobs['location'].value_counts()"
   ],
   "metadata": {
    "collapsed": false
   }
  },
  {
   "cell_type": "markdown",
   "source": [
    "Using .loc[] and index, update the remaining null values with 'United States'"
   ],
   "metadata": {
    "collapsed": false
   }
  },
  {
   "cell_type": "code",
   "execution_count": null,
   "outputs": [],
   "source": [
    "jobs.loc[jobs['location'].isnull()].index"
   ],
   "metadata": {
    "collapsed": false
   }
  },
  {
   "cell_type": "code",
   "execution_count": null,
   "outputs": [],
   "source": [
    "jobs.loc[jobs.loc[jobs['location'].isnull()].index, 'location'] = 'United States'\n",
    "jobs['location'].value_counts()"
   ],
   "metadata": {
    "collapsed": false
   }
  },
  {
   "cell_type": "markdown",
   "source": [
    "### Create a 'State' Column\n",
    "Use the series.apply() method and a lambda function to separate state name from location where available and apply to a new field, 'state'. If no state exists, we'll apply the value in location to the state field."
   ],
   "metadata": {
    "collapsed": false
   }
  },
  {
   "cell_type": "code",
   "execution_count": null,
   "outputs": [],
   "source": [
    "jobs['state'] = jobs['location'].apply(lambda x: x[-2:] if ',' in x else x)\n",
    "jobs['state'] = jobs['state'].apply(lambda x: 'KS' if x == 'Kansas' else x)\n",
    "jobs['state'] = jobs['state'].apply(lambda x: 'MO' if x == 'Missouri' else x)\n",
    "jobs['state'] = jobs['state'].apply(lambda x: 'OK' if x == 'Oklahoma' else x)\n",
    "jobs['state'].value_counts(dropna=False)"
   ],
   "metadata": {
    "collapsed": false
   }
  },
  {
   "cell_type": "markdown",
   "source": [
    "### Handle nulls in schedule_type\n",
    "As a categorical column we'll use the mode to update the null values."
   ],
   "metadata": {
    "collapsed": false
   }
  },
  {
   "cell_type": "code",
   "execution_count": null,
   "outputs": [],
   "source": [
    "jobs['schedule_type'].value_counts(normalize=True, dropna=False)"
   ],
   "metadata": {
    "collapsed": false
   }
  },
  {
   "cell_type": "code",
   "execution_count": null,
   "outputs": [],
   "source": [
    "# Handle nulls in schedule_type - using the max value\n",
    "jobs.loc[jobs.loc[jobs['schedule_type'].isnull()].index, 'schedule_type'] = 'Full-time'\n",
    "jobs['schedule_type'].value_counts(normalize=True, dropna=False)"
   ],
   "metadata": {
    "collapsed": false
   }
  },
  {
   "cell_type": "markdown",
   "source": [
    "### Clean Description Token"
   ],
   "metadata": {
    "collapsed": false
   }
  },
  {
   "cell_type": "code",
   "execution_count": null,
   "outputs": [],
   "source": [
    "jobs['description_tokens'].sample(10)"
   ],
   "metadata": {
    "collapsed": false
   }
  },
  {
   "cell_type": "markdown",
   "source": [
    "Convert this column to a list"
   ],
   "metadata": {
    "collapsed": false
   }
  },
  {
   "cell_type": "code",
   "execution_count": null,
   "outputs": [],
   "source": [
    "ts = jobs['description_tokens'].tolist()\n",
    "ts[0:10]"
   ],
   "metadata": {
    "collapsed": false
   }
  },
  {
   "cell_type": "markdown",
   "source": [
    "Clean the list to remove brackets and pass cleaned list to a new variable."
   ],
   "metadata": {
    "collapsed": false
   }
  },
  {
   "cell_type": "code",
   "execution_count": null,
   "outputs": [],
   "source": [
    "new_ts = list()\n",
    "for i in ts:\n",
    "    i = i.strip()\n",
    "    if i == '':\n",
    "        pass\n",
    "    else:\n",
    "        if '[' in i:\n",
    "            i = i.replace('[', '')\n",
    "        if ']' in i:\n",
    "            i = i.replace(']', '')\n",
    "        new_ts.append(i)\n",
    "\n",
    "new_ts[0:10]"
   ],
   "metadata": {
    "collapsed": false
   }
  },
  {
   "cell_type": "markdown",
   "source": [
    "Convert cleaned list back to string using the .join() method and the ',' as the separator. Also remove trailing spaces. This allows us to concatenate all the records as a single string by the ',' value instead of being separated like in the original list values."
   ],
   "metadata": {
    "collapsed": false
   }
  },
  {
   "cell_type": "code",
   "execution_count": null,
   "outputs": [],
   "source": [
    "ts_str = ','.join([str(elem) for elem in new_ts])\n",
    "ts_str = ts_str.strip()\n",
    "ts_str[:10]\n",
    "# Result is a 10 character slice of the whole string"
   ],
   "metadata": {
    "collapsed": false
   }
  },
  {
   "cell_type": "markdown",
   "source": [
    "Create a copy of the string for further analysis so if we make any mistakes, we can start correcting from this point."
   ],
   "metadata": {
    "collapsed": false
   }
  },
  {
   "cell_type": "code",
   "execution_count": null,
   "outputs": [],
   "source": [
    "ch_ts = ts_str\n",
    "ch_ts[:10]"
   ],
   "metadata": {
    "collapsed": false
   }
  },
  {
   "cell_type": "markdown",
   "source": [
    "Convert string to list again using the separator ',' and selecting only unique values using the set() function. Also clean the values by removing empty string values. The result is list of unique values"
   ],
   "metadata": {
    "collapsed": false
   }
  },
  {
   "cell_type": "code",
   "execution_count": null,
   "outputs": [],
   "source": [
    "ch_ts = ch_ts.strip().split(',')\n",
    "ch_ts = list(set(ch_ts))\n",
    "ch_ts.remove('')\n",
    "ch_ts[:10]"
   ],
   "metadata": {
    "collapsed": false
   }
  },
  {
   "cell_type": "markdown",
   "source": [
    "Clean the list to remove trailing spaces and quotation marks. Sort resulting list in alphabetical order. The result is now a clear list of tech skills in data analysis."
   ],
   "metadata": {
    "collapsed": false
   }
  },
  {
   "cell_type": "code",
   "execution_count": null,
   "outputs": [],
   "source": [
    "tech_skills = list()\n",
    "for i in ch_ts:\n",
    "    a = i.strip()\n",
    "    tech_skills.append(a[1:-1])\n",
    "\n",
    "tech_skills = sorted(list(set(tech_skills)))\n",
    "\n",
    "print(tech_skills, len(tech_skills))"
   ],
   "metadata": {
    "collapsed": false
   }
  },
  {
   "cell_type": "markdown",
   "source": [
    "Create a copy of the jobs dataframe, so that if any errors are made, we can correct them from this point.\n",
    "\n",
    "Pass the values in the tech_skills list as columns in the jobs_copy dataframe."
   ],
   "metadata": {
    "collapsed": false
   }
  },
  {
   "cell_type": "code",
   "execution_count": null,
   "outputs": [],
   "source": [
    "jobs_copy = jobs.copy()\n",
    "for i in tech_skills:\n",
    "    jobs_copy[i] = 0\n",
    "\n",
    "jobs_copy.head()"
   ],
   "metadata": {
    "collapsed": false
   }
  },
  {
   "cell_type": "markdown",
   "source": [
    "Create a function that assigns a 1 into the relevant record / field if they exist as skills in the description_tokens column."
   ],
   "metadata": {
    "collapsed": false
   }
  },
  {
   "cell_type": "code",
   "execution_count": null,
   "outputs": [],
   "source": [
    "def update_tech_skills(column, tech_list, df):\n",
    "    for index, value in column.items():\n",
    "        for i in tech_skills:\n",
    "            if i in value:\n",
    "                df.at[index, i] = 1\n",
    "\n",
    "    return df"
   ],
   "metadata": {
    "collapsed": false
   }
  },
  {
   "cell_type": "markdown",
   "source": [
    "Apply function to dataframe and pass the result back to the dataframe variable."
   ],
   "metadata": {
    "collapsed": false
   }
  },
  {
   "cell_type": "code",
   "execution_count": null,
   "outputs": [],
   "source": [
    "jobs_copy = update_tech_skills(jobs_copy['description_tokens'], tech_skills, jobs_copy)\n",
    "jobs_copy[tech_skills].sample(20)"
   ],
   "metadata": {
    "collapsed": false
   }
  },
  {
   "cell_type": "code",
   "execution_count": null,
   "outputs": [],
   "source": [
    "for i in tech_skills:\n",
    "    print(jobs_copy[i].value_counts(dropna=False))\n",
    "    print('-'*8)"
   ],
   "metadata": {
    "collapsed": false
   }
  },
  {
   "cell_type": "markdown",
   "source": [
    "### Drop tech skills columns with Values under 100\n",
    "Given that there are 98 unique tech skills, this makes our dataframe too wide. We'll reduce the skills to those that appear more than 100 times in the dataset.\n",
    "\n",
    "Let's drop the tech skills columns whose sums are under 100. The resulting dataframe has only 17 tech skills. This is better."
   ],
   "metadata": {
    "collapsed": false
   }
  },
  {
   "cell_type": "code",
   "execution_count": null,
   "outputs": [],
   "source": [
    "for i in tech_skills:\n",
    "    if jobs_copy[i].sum() < 100:\n",
    "        jobs_copy.drop(columns=i, inplace=True)"
   ],
   "metadata": {
    "collapsed": false
   }
  },
  {
   "cell_type": "code",
   "execution_count": null,
   "outputs": [],
   "source": [
    "for i in tech_skills:\n",
    "    if i in jobs_copy.columns:\n",
    "        print(jobs_copy[i].value_counts(dropna=False))\n",
    "        print('-'*8)"
   ],
   "metadata": {
    "collapsed": false
   }
  },
  {
   "cell_type": "code",
   "execution_count": null,
   "outputs": [],
   "source": [
    "jobs_copy.sample(10)"
   ],
   "metadata": {
    "collapsed": false
   }
  },
  {
   "cell_type": "markdown",
   "source": [
    "### Drop irrelevant columns\n",
    "Also rename state column to location."
   ],
   "metadata": {
    "collapsed": false
   }
  },
  {
   "cell_type": "code",
   "execution_count": null,
   "outputs": [],
   "source": [
    "jobs_copy.drop(columns=['location', 'posted_at', 'search_term', 'search_location', 'description_tokens'], inplace=True)\n",
    "jobs.rename(columns={'state':'location'}, inplace=True)\n",
    "jobs_copy.sample(5)"
   ],
   "metadata": {
    "collapsed": false
   }
  },
  {
   "cell_type": "markdown",
   "source": [
    "### Clean Salary Columns"
   ],
   "metadata": {
    "collapsed": false
   }
  },
  {
   "cell_type": "code",
   "execution_count": null,
   "outputs": [],
   "source": [
    "jobs_copy['salary'].value_counts(dropna=False)"
   ],
   "metadata": {
    "collapsed": false
   }
  },
  {
   "cell_type": "markdown",
   "source": [
    "Using series.apply() method and a lambda function, extract rate (hour, month, year) from the salary field and pass the result to a new field - salary_rate. This is relevant to help us know which salaries to convert to an hourly rate and by which conversion rate."
   ],
   "metadata": {
    "collapsed": false
   }
  },
  {
   "cell_type": "code",
   "execution_count": null,
   "outputs": [],
   "source": [
    "jobs_copy['salary_rate'] = jobs_copy['salary'].apply(lambda x: x[-5:] if type(x) == str else x)\n",
    "jobs_copy['salary_rate'] = jobs_copy['salary_rate'].apply(lambda x: x.strip() if type(x) == str else x)\n",
    "jobs_copy['salary_rate'] = jobs_copy['salary_rate'].apply(lambda x: 'N/A' if type(x) != str else x)\n",
    "jobs_copy['salary_rate'].value_counts(dropna=False)"
   ],
   "metadata": {
    "collapsed": false
   }
  },
  {
   "cell_type": "markdown",
   "source": [
    "Remove the rate section from the salary records and convert nan values to 0."
   ],
   "metadata": {
    "collapsed": false
   }
  },
  {
   "cell_type": "code",
   "execution_count": null,
   "outputs": [],
   "source": [
    "jobs_copy['salary'] = jobs_copy['salary'].apply(lambda x: x[:-7].strip() if type(x) == str else 0)\n",
    "jobs_copy['salary'].value_counts(dropna=False)"
   ],
   "metadata": {
    "collapsed": false
   }
  },
  {
   "cell_type": "markdown",
   "source": [
    "Convert all values in the salary field to string datatype.\n",
    "For records with '-' in their values, use that as a split separator and extract the resulting two values as min and max values. For those without, use their single values as min and max values.\n",
    "\n",
    "The resulting two fields depict the salary range as minimum and maximum values."
   ],
   "metadata": {
    "collapsed": false
   }
  },
  {
   "cell_type": "code",
   "execution_count": null,
   "outputs": [],
   "source": [
    "jobs_copy['salary'] = jobs_copy['salary'].astype(str)\n",
    "\n",
    "jobs_copy['salary_min'] = jobs_copy['salary'].apply(lambda x: x.split('–')[0] if len(x) > 3 else x)\n",
    "jobs_copy['salary_max'] = jobs_copy['salary'].apply(lambda x: x.split('–')[-1] if len(x) > 3 else x)"
   ],
   "metadata": {
    "collapsed": false
   }
  },
  {
   "cell_type": "markdown",
   "source": [
    "Remove ',' in the records and replace 'K' with '000' to reflect thousands."
   ],
   "metadata": {
    "collapsed": false
   }
  },
  {
   "cell_type": "code",
   "execution_count": null,
   "outputs": [],
   "source": [
    "jobs_copy['salary_min'] = jobs_copy['salary_min'].str.replace(',','').str.replace('K','000', flags=re.I)\n",
    "jobs_copy['salary_min'].value_counts()"
   ],
   "metadata": {
    "collapsed": false
   }
  },
  {
   "cell_type": "code",
   "execution_count": null,
   "outputs": [],
   "source": [
    "jobs_copy['salary_max'] = jobs_copy['salary_max'].str.replace(',','').str.replace('K','000', flags=re.I)\n",
    "jobs_copy['salary_max'].value_counts()"
   ],
   "metadata": {
    "collapsed": false
   }
  },
  {
   "cell_type": "code",
   "execution_count": null,
   "outputs": [],
   "source": [
    "jobs_copy.loc[jobs_copy['salary_rate'] == 'year'][['salary_min', 'salary_max', 'salary_rate']]"
   ],
   "metadata": {
    "collapsed": false
   }
  },
  {
   "cell_type": "markdown",
   "source": [
    "Convert the salary range values to float. For year_rate salary values under 200, add '00' to reflect true values."
   ],
   "metadata": {
    "collapsed": false
   }
  },
  {
   "cell_type": "code",
   "execution_count": null,
   "outputs": [],
   "source": [
    "jobs_copy[['salary_min', 'salary_max']] = jobs_copy[['salary_min', 'salary_max']].astype(float)"
   ],
   "metadata": {
    "collapsed": false
   }
  },
  {
   "cell_type": "code",
   "execution_count": null,
   "outputs": [],
   "source": [
    "salary = jobs_copy[['salary_min', 'salary_max']].astype(float)\n",
    "salary['salary_rate'] = jobs_copy['salary_rate']\n",
    "salary.head()"
   ],
   "metadata": {
    "collapsed": false
   }
  },
  {
   "cell_type": "code",
   "execution_count": null,
   "outputs": [],
   "source": [
    "sal_str = salary.loc[(salary['salary_min'] < 200) & (salary['salary_rate'] == 'year')]['salary_min'].astype(str).str.replace('.','')\n",
    "sal_str = sal_str.apply(lambda x: x + '00')\n",
    "sal_str"
   ],
   "metadata": {
    "collapsed": false
   }
  },
  {
   "cell_type": "code",
   "execution_count": null,
   "outputs": [],
   "source": [
    "jobs_copy.loc[sal_str.index, 'salary_min'] = sal_str.astype(float)"
   ],
   "metadata": {
    "collapsed": false
   }
  },
  {
   "cell_type": "code",
   "execution_count": null,
   "outputs": [],
   "source": [
    "salary.loc[(salary['salary_max'] < 200) & (salary['salary_rate'] == 'year')][['salary_min', 'salary_max', 'salary_rate']]"
   ],
   "metadata": {
    "collapsed": false
   }
  },
  {
   "cell_type": "code",
   "execution_count": null,
   "outputs": [],
   "source": [
    "sal_str2 = salary.loc[(salary['salary_max'] < 200) & (salary['salary_rate'] == 'year')]['salary_max'].astype(str).str.replace('.','')\n",
    "sal_str2 = sal_str2.apply(lambda x: x + '00')\n",
    "sal_str2"
   ],
   "metadata": {
    "collapsed": false
   }
  },
  {
   "cell_type": "code",
   "execution_count": null,
   "outputs": [],
   "source": [
    "jobs_copy.loc[sal_str2.index, 'salary_max'] = sal_str2.astype(float)"
   ],
   "metadata": {
    "collapsed": false
   }
  },
  {
   "cell_type": "code",
   "execution_count": null,
   "outputs": [],
   "source": [
    "jobs_copy.loc[jobs_copy['salary_rate'] == 'year'][['salary_min', 'salary_max', 'salary_rate']]"
   ],
   "metadata": {
    "collapsed": false
   }
  },
  {
   "cell_type": "markdown",
   "source": [
    "For year salary rate, divide values by 2080 (working hours in a year) where the"
   ],
   "metadata": {
    "collapsed": false
   }
  },
  {
   "cell_type": "code",
   "execution_count": null,
   "outputs": [],
   "source": [
    "yr_sal_min = jobs_copy.loc[jobs_copy['salary_min'] > 200]['salary_min']\n",
    "yr_sal_max = jobs_copy.loc[jobs_copy['salary_max'] > 10000]['salary_max']"
   ],
   "metadata": {
    "collapsed": false
   }
  },
  {
   "cell_type": "code",
   "execution_count": null,
   "outputs": [],
   "source": [
    "len(yr_sal_max)"
   ],
   "metadata": {
    "collapsed": false
   }
  },
  {
   "cell_type": "code",
   "execution_count": null,
   "outputs": [],
   "source": [
    "yr_sal_max"
   ],
   "metadata": {
    "collapsed": false
   }
  },
  {
   "cell_type": "code",
   "execution_count": null,
   "outputs": [],
   "source": [
    "yr_sal_max = round(yr_sal_max / 2080, 2)\n",
    "yr_sal_min = round(yr_sal_min / 2080, 2)\n",
    "\n",
    "yr_sal_max"
   ],
   "metadata": {
    "collapsed": false
   }
  },
  {
   "cell_type": "code",
   "execution_count": null,
   "outputs": [],
   "source": [
    "jobs_copy.loc[yr_sal_min.index, 'salary_min'] = yr_sal_min\n",
    "jobs_copy.loc[yr_sal_max.index, 'salary_max'] = yr_sal_max"
   ],
   "metadata": {
    "collapsed": false
   }
  },
  {
   "cell_type": "code",
   "execution_count": null,
   "outputs": [],
   "source": [
    "jobs_copy.loc[jobs_copy.loc[jobs_copy['salary_rate'] == 'month'].index, 'salary_min'] = round(5400/195, 2)\n",
    "\n",
    "jobs_copy.loc[jobs_copy.loc[jobs_copy['salary_rate'] == 'month'].index, 'salary_max'] = round(6000/195, 2)"
   ],
   "metadata": {
    "collapsed": false
   }
  },
  {
   "cell_type": "code",
   "execution_count": null,
   "outputs": [],
   "source": [
    "jobs_copy.loc[jobs_copy['salary_rate'] == 'month'][['salary_min', 'salary_max', 'salary_rate']]"
   ],
   "metadata": {
    "collapsed": false
   }
  },
  {
   "cell_type": "markdown",
   "source": [
    "Drop irrelevant columns."
   ],
   "metadata": {
    "collapsed": false
   }
  },
  {
   "cell_type": "code",
   "execution_count": null,
   "outputs": [],
   "source": [
    "jobs_copy.drop(columns=['salary', 'salary_rate', ], inplace=True)\n",
    "jobs_copy.rename(columns={'salary_min':'salary_min_hr', 'salary_max':'salary_max_hr'}, inplace=True)\n",
    "\n",
    "jobs_copy.sample(15)"
   ],
   "metadata": {
    "collapsed": false
   }
  },
  {
   "cell_type": "markdown",
   "source": [
    "# Clean the Extensions column\n",
    "We're trying to find out if there's salary information in the extensions field where there is none in the salary fields so we can update accordingly."
   ],
   "metadata": {
    "collapsed": false
   }
  },
  {
   "cell_type": "markdown",
   "source": [
    "Let's make a copy of the dataset so if we make any errors we can correct them from this point."
   ],
   "metadata": {
    "collapsed": false
   }
  },
  {
   "cell_type": "code",
   "execution_count": null,
   "outputs": [],
   "source": [
    "jobs_2 = jobs_copy.copy()"
   ],
   "metadata": {
    "collapsed": false
   }
  },
  {
   "cell_type": "code",
   "execution_count": null,
   "outputs": [],
   "source": [
    "ext_desc = jobs_2.loc[(jobs_2['salary_min_hr'] == 0) & (jobs_2['salary_max_hr'] == 0)][['extensions', 'description']]\n",
    "\n",
    "ext_desc['extensions'].head()"
   ],
   "metadata": {
    "collapsed": false
   }
  },
  {
   "cell_type": "code",
   "execution_count": null,
   "outputs": [],
   "source": [
    "indexes = list()\n",
    "for index, value in ext_desc['extensions'].items():\n",
    "    for item in value:\n",
    "        if 'per year' in value:\n",
    "            indexes.append(index)\n",
    "        elif 'per hour' in value:\n",
    "            indexes.append(index)\n",
    "\n",
    "indexes"
   ],
   "metadata": {
    "collapsed": false
   }
  },
  {
   "cell_type": "markdown",
   "source": [
    "We will be dropping the extensions field as it contains no relevant salary information."
   ],
   "metadata": {
    "collapsed": false
   }
  },
  {
   "cell_type": "code",
   "execution_count": null,
   "outputs": [],
   "source": [
    "jobs_2.drop(columns=['extensions'], inplace=True)\n",
    "jobs_2.head()"
   ],
   "metadata": {
    "collapsed": false
   }
  },
  {
   "cell_type": "code",
   "execution_count": null,
   "outputs": [],
   "source": [
    "ext_desc.drop(columns=['extensions'], inplace=True)\n",
    "ext_desc.head()"
   ],
   "metadata": {
    "collapsed": false
   }
  },
  {
   "cell_type": "code",
   "execution_count": null,
   "outputs": [],
   "source": [
    "indexes = list()\n",
    "for index, value in ext_desc.items():\n",
    "    for item in value:\n",
    "        if 'year' in value:\n",
    "            indexes.append(index)\n",
    "        elif 'hour' in value:\n",
    "            indexes.append(index)\n",
    "\n",
    "indexes"
   ],
   "metadata": {
    "collapsed": false
   }
  },
  {
   "cell_type": "markdown",
   "source": [
    "We'll be dropping the description field as well as it contains no relevant salary information."
   ],
   "metadata": {
    "collapsed": false
   }
  },
  {
   "cell_type": "code",
   "execution_count": null,
   "outputs": [],
   "source": [
    "jobs_2.drop(columns=['description'], inplace=True)\n",
    "jobs_2.head()"
   ],
   "metadata": {
    "collapsed": false
   }
  },
  {
   "cell_type": "markdown",
   "source": [
    "### Option 2\n",
    "\n",
    "Sample Cleaning code for this project from Kaggle user [Julia Nesterenko](https://www.kaggle.com/code/nesterenkojul/data-analyst-skill-worth)"
   ],
   "metadata": {
    "collapsed": false
   }
  },
  {
   "cell_type": "code",
   "execution_count": null,
   "outputs": [],
   "source": [
    "df = jobs_main.copy()\n",
    "df = df.drop(columns=[\"Unnamed: 0\", \"index\"])"
   ],
   "metadata": {
    "collapsed": false
   }
  },
  {
   "cell_type": "code",
   "execution_count": null,
   "outputs": [],
   "source": [
    "# Format lists\n",
    "remove_punct = lambda x: x.translate(str.maketrans('', '', punct)).split()\n",
    "df.extensions = df.extensions.apply(remove_punct)\n",
    "df.description_tokens = df.description_tokens.apply(remove_punct)\n",
    "df.description = df.description.apply(remove_punct)\n",
    "df[['description', 'extensions', 'description_tokens']].sample(10)"
   ],
   "metadata": {
    "collapsed": false
   }
  },
  {
   "cell_type": "markdown",
   "source": [
    "Compare with original."
   ],
   "metadata": {
    "collapsed": false
   }
  },
  {
   "cell_type": "code",
   "execution_count": null,
   "outputs": [],
   "source": [
    "jobs_main[['description', 'extensions', 'description_tokens']].sample(10)"
   ],
   "metadata": {
    "collapsed": false
   }
  },
  {
   "cell_type": "code",
   "execution_count": null,
   "outputs": [],
   "source": [
    "# Format dates\n",
    "df.date_time = pd.to_datetime(df.date_time)\n",
    "df.insert(14, \"time_ago\", df.date_time.apply(lambda x: dt.datetime.today() - x))\n",
    "df.sample(5)"
   ],
   "metadata": {
    "collapsed": false
   }
  },
  {
   "cell_type": "markdown",
   "source": [
    "Step 1. Define Top 10 most popular (most frequently occurring) skills.\n",
    "Step 2. Compute average yearly salaries for job postings that require those skills."
   ],
   "metadata": {
    "collapsed": false
   }
  },
  {
   "cell_type": "code",
   "execution_count": null,
   "outputs": [],
   "source": [
    "top = 10\n",
    "skills = []\n",
    "# add all skills to a list\n",
    "for val in df.description_tokens.values:\n",
    "    skills.extend(val)\n",
    "\n",
    "# Get list of unique skills and their frequency in tuples\n",
    "skills, counts = np.unique(skills, return_counts=True)\n",
    "\n",
    "# Sort above list by frequency. Limit skills list to top N frequency\n",
    "top_skill_count = sorted(zip(list(skills), list(counts)), key=lambda x: -x[1])[:top]\n",
    "\n",
    "# Separate skills from frequency counts\n",
    "top_skills = list(map(lambda x: x[0], top_skill_count))\n",
    "top_counts = list(map(lambda x: x[1], top_skill_count))\n",
    "\n",
    "# Get average annual standardized salary for all listings with skill in their description_tokens field.\n",
    "salaries = []\n",
    "for skill in top_skills:\n",
    "    salaries.append(df[df.description_tokens.apply(lambda x: skill in x)].salary_standardized.mean())\n",
    "\n",
    "# Map results to a df and sort by average salary\n",
    "top_skills_df = pd.DataFrame({\"skill\": list(top_skills), \"number_of_postings\": top_counts,\"avg_yearly_salary\": map(round, salaries)})\n",
    "top_skills_df = top_skills_df.sort_values(\"avg_yearly_salary\", ascending=False)\n",
    "top_skills_df"
   ],
   "metadata": {
    "collapsed": false
   }
  },
  {
   "cell_type": "markdown",
   "source": [
    "## Exploratory Data Analysis"
   ],
   "metadata": {
    "collapsed": false
   }
  },
  {
   "cell_type": "code",
   "execution_count": null,
   "outputs": [],
   "source": [],
   "metadata": {
    "collapsed": false
   }
  }
 ],
 "metadata": {
  "kernelspec": {
   "display_name": "Python 3",
   "language": "python",
   "name": "python3"
  },
  "language_info": {
   "codemirror_mode": {
    "name": "ipython",
    "version": 2
   },
   "file_extension": ".py",
   "mimetype": "text/x-python",
   "name": "python",
   "nbconvert_exporter": "python",
   "pygments_lexer": "ipython2",
   "version": "2.7.6"
  }
 },
 "nbformat": 4,
 "nbformat_minor": 0
}
